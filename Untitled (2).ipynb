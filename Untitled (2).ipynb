{
  "nbformat": 4,
  "nbformat_minor": 0,
  "metadata": {
    "colab": {
      "name": "Untitled",
      "provenance": []
    },
    "kernelspec": {
      "name": "python3",
      "display_name": "Python 3"
    }
  },
  "cells": [
    {
      "cell_type": "code",
      "metadata": {
        "id": "fxfqwHjOXrr6",
        "colab_type": "code",
        "colab": {}
      },
      "source": [
        "import pandas as pd \n",
        "import numpy as np"
      ],
      "execution_count": 496,
      "outputs": []
    },
    {
      "cell_type": "code",
      "metadata": {
        "id": "AVViQbsADdoI",
        "colab_type": "code",
        "colab": {}
      },
      "source": [
        "# we use f1-score with macro \n",
        "f_scorer = make_scorer(f1_score, average='macro')"
      ],
      "execution_count": 497,
      "outputs": []
    },
    {
      "cell_type": "markdown",
      "metadata": {
        "id": "nqkbcMm-YWVQ",
        "colab_type": "text"
      },
      "source": [
        "**Load our train.csv and test.csv**"
      ]
    },
    {
      "cell_type": "code",
      "metadata": {
        "id": "AQN9AU4DXwrS",
        "colab_type": "code",
        "colab": {
          "base_uri": "https://localhost:8080/",
          "height": 34
        },
        "outputId": "e903f107-b9f4-4989-8028-5cc84122809d"
      },
      "source": [
        "data = pd.read_csv(\"train.csv\") \n",
        "\n",
        "y = np.array(data['label'])\n",
        "idx_train = list(data['doc_id'])\n",
        "test_data = pd.read_csv(\"test.csv\") \n",
        "print(y[:10])"
      ],
      "execution_count": 498,
      "outputs": [
        {
          "output_type": "stream",
          "text": [
            "[1 3 1 1 3 1 1 1 1 1]\n"
          ],
          "name": "stdout"
        }
      ]
    },
    {
      "cell_type": "code",
      "metadata": {
        "id": "AhxMwKB-Ycbk",
        "colab_type": "code",
        "colab": {
          "base_uri": "https://localhost:8080/",
          "height": 54
        },
        "outputId": "3a383f17-37b7-48fe-93c3-909de29205b4"
      },
      "source": [
        "!pip install beautifulsoup4"
      ],
      "execution_count": null,
      "outputs": [
        {
          "output_type": "stream",
          "text": [
            "Requirement already satisfied: beautifulsoup4 in /usr/local/lib/python3.6/dist-packages (4.6.3)\n"
          ],
          "name": "stdout"
        }
      ]
    },
    {
      "cell_type": "markdown",
      "metadata": {
        "id": "VYXxEENOY-cl",
        "colab_type": "text"
      },
      "source": [
        "**Make function for reading html files**"
      ]
    },
    {
      "cell_type": "code",
      "metadata": {
        "id": "y5eOipaiYy4a",
        "colab_type": "code",
        "colab": {}
      },
      "source": [
        "import codecs\n",
        "def read_html(html_file_name):\n",
        "  with open (html_file_name, 'r', encoding='utf-8', errors='ignore') as f:\n",
        "    content = f.read()\n",
        "  return content"
      ],
      "execution_count": 499,
      "outputs": []
    },
    {
      "cell_type": "markdown",
      "metadata": {
        "id": "LB4YtHybY_Us",
        "colab_type": "text"
      },
      "source": [
        "**Make function for getting clean text from html files**"
      ]
    },
    {
      "cell_type": "code",
      "metadata": {
        "id": "P7f4IYZVY2pU",
        "colab_type": "code",
        "colab": {}
      },
      "source": [
        "from bs4 import BeautifulSoup\n",
        "def get_clean_text(html_file_name):\n",
        "  content = read_html(html_file_name)\n",
        "  soup = BeautifulSoup(content)\n",
        "  \n",
        "  for script in soup([\"script\", \"style\"]):\n",
        "    script.decompose()\n",
        "  \n",
        "  clean_text = soup.get_text(' ')\n",
        "  \n",
        "  lines = []\n",
        "  for line in clean_text.splitlines():\n",
        "    if not (line == ' ') and not(line == ''): \n",
        "      lines.append(line)\n",
        "  clean_text = '\\n'.join(lines)\n",
        "  return clean_text"
      ],
      "execution_count": 500,
      "outputs": []
    },
    {
      "cell_type": "code",
      "metadata": {
        "id": "6kIXGBFbZMiV",
        "colab_type": "code",
        "colab": {
          "base_uri": "https://localhost:8080/",
          "height": 292
        },
        "outputId": "f5b152a7-c061-4a6e-bfdc-297277becd3b"
      },
      "source": [
        "# simple test for get_clean_text function\n",
        "import os\n",
        "import code\n",
        "import re\n",
        "text = get_clean_text('0.html')\n",
        "print(text)"
      ],
      "execution_count": 501,
      "outputs": [
        {
          "output_type": "stream",
          "text": [
            " Bauchspeicheldrüse | Klinik für Allgemein-, Viszeral- und Kinderchirurgie Göttingen \n",
            " Klinik für Allgemein-, Viszeral- und Kinderchirurgie \n",
            " zur Hauptnavigation springen \n",
            " zum Inhalt wechseln \n",
            " Aktuelles und Kontakt Kontakt \n",
            " Logo der Universtätsmedizin Göttingen \n",
            " Navigation öffnen oder schliessen \n",
            " Hauptnavigation Subnavigation öffnen oder schliessen Medizinische Versorgung Poliklinik Sonographie Schilddrüse Speiseröhre und Magen Darm Bauchspeicheldrüse CED Leber und Galle Hernien Koloproktologie Adipositaschirurgie Kinderchirurgie Sarkomchirurgie HIPEC Roboterchirurgie Interdisziplinäre Zentren Subnavigation öffnen oder schliessen Forschung Klinische Studien Tumorepigenetik AG Conradi AG Gaedcke AG Grade AG Krause AG Sperling AG Sprenger AG Wegwitz Promotion Publikationen Subnavigation öffnen oder schliessen Lehre Module Blockpraktikum Famulaturen/PJ Subnavigation öffnen oder schliessen Über uns Mitarbeiter Stationen Stationäre Aufnahme Geschichte der Klinik \n",
            " Navigationspfad Medizinische Versorgung Bauchspeicheldrüse \n",
            " Pankreaschirurgie Die operative Therapie der Bauchspeicheldrüse beziehungsweise ihrer Veränderungen ist ein besonderer Schwerpunkt unserer Klinik. Hierfür wurden wir von der  Deutschen Gesellschaft für Allgemein- und Viszeralchirurgie (DGAV)  als Kompetenzzentrum zertifiziert. Das bedeutet, dass sämtliche Diagnosen und Verläufe unserer Patienten erfasst und regelmäßig kritisch evaluiert werden. Wir arbeiten in einem interdisziplinären Team bestehend aus Gastroenterologen, Radiologen, Pathologen, Anästhesisten oder auch Radioonkologen zusammen. Die Therapie vor beziehungsweise nach Entfernung des Tumors legen wir im Rahmen des interdisziplinären Tumorboards des  Göttinger CCCs  fest. Lesen Sie hier, welche Erkrankungen es gibt und wie wir sie versorgen: Abbildung der regulären Anatomie der Bauchspeicheldrüse. Der Kopf wird von Zwölffingerdarm eingebettet. Zu unserem Spektrum gehören vor allem Neubildungen der Bauchspeicheldrüse oder des Gallengangs, der durch das Organ läuft und sich häufig die Mündung in den Zwölffingerdarm mit dem Ausführungsgang der Bauchspeicheldrüse teilt. Anatomisch unterteilt man die Bauchspeicheldrüse in Kopf, Körper und Schwanz. Die meisten Veränderungen sind bösartige Tumoren des Bauchspeicheldrüsenkopfes – sie treten entweder als Zufallsbefund auf, im Rahmen einer Gelbsucht (Ikterus) oder durch Abklärung von Rückenschmerzen beziehungsweise diffusen Beschwerden im Bereich des Bauches. Sofern die Tumoren auf das Organ beschränkt sind – also keine Lungen- oder Lebermetastasen vorliegen beziehungsweise das Bauchfell nicht befallen ist – können wir den Bauchspeicheldrüsenkopf operativ entfernen. Dabei entfernen wir den Zwölffingerdarm, den unteren Anteil des Gallengangs und die lokalen Lymphknoten mit. Ist der Tumor bereits in die angrenzende große Vene, die Pfortader eingebrochen, die das Blut aus dem Darm zur Leber transportiert, können wir diese in der Regel auch teilweise mitentfernen. Auch wenn die Arterie beteiligt ist, kann in je nach Fall eine Operation sinnvoll sein. Es gibt Fälle, in denen es nicht möglich ist, den Tumor operativ zu entfernen. Dann können wir, nachdem wir Fernmetastasen ausgeschlossen haben, im Rahmen klinischer Studien (CONKO-007) zunächst eine Chemotherapie und/oder eine Bestrahlung durchführen. Auch auf diese Weise ist es möglich, den Tumor zu entfernen. In diesen schwierigen Situationen ist unser Team besonders erfahren. Ihre Ansprechpartner Univ.-Prof. Dr. Michael Ghadimi Direktor Email:  Diese E-Mail-Adresse ist vor Spambots geschützt! Zur Anzeige muss JavaScript eingeschaltet sein! Univ.-Prof. Dr. Jochen Gaedcke Leitender Oberarzt Email:  Diese E-Mail-Adresse ist vor Spambots geschützt! Zur Anzeige muss JavaScript eingeschaltet sein! Pankreassprechstunde: Nach Vereinbarung Hauptgebäude UBFT, Ebene 3,Fahrstuhl B2 (Leitstelle B2) Terminvereinbarung unter 0551/39-66148   Drucken \n",
            " Informationen zu unseren Internetangeboten \n",
            " Sitemap Klinik für Allgemein-, Viszeral- und Kinderchirurgie Medizinische Versorgung Poliklinik Sonographie Schilddrüse Speiseröhre und Magen Darm Bauchspeicheldrüse CED Leber und Galle Hernien Koloproktologie Adipositaschirurgie Kinderchirurgie Sarkomchirurgie HIPEC Roboterchirurgie Interdisziplinäre Zentren Forschung Klinische Studien Tumorepigenetik AG Conradi AG Gaedcke AG Grade AG Krause AG Sperling AG Sprenger AG Wegwitz Promotion Publikationen Lehre Module Blockpraktikum Famulaturen/PJ Über uns Mitarbeiter Stationen Stationäre Aufnahme Geschichte der Klinik \n",
            " Informationen zu dieser Website Sitemap Datenschutz Impressum \n",
            " Copyright \n",
            " © 2019 Klinik für Allgemein-, Viszeral- und Kinderchirurgie \n"
          ],
          "name": "stdout"
        }
      ]
    },
    {
      "cell_type": "code",
      "metadata": {
        "id": "gmX1hTGYZTJG",
        "colab_type": "code",
        "colab": {
          "base_uri": "https://localhost:8080/",
          "height": 326
        },
        "outputId": "17f21ad6-7744-48ed-9b08-7b5ceaba4476"
      },
      "source": [
        "!pip install --user -U nltk\n",
        "!pip install --user -U numpy"
      ],
      "execution_count": null,
      "outputs": [
        {
          "output_type": "stream",
          "text": [
            "Collecting nltk\n",
            "\u001b[?25l  Downloading https://files.pythonhosted.org/packages/92/75/ce35194d8e3022203cca0d2f896dbb88689f9b3fce8e9f9cff942913519d/nltk-3.5.zip (1.4MB)\n",
            "\u001b[K     |████████████████████████████████| 1.4MB 2.7MB/s \n",
            "\u001b[?25hRequirement already satisfied, skipping upgrade: click in /usr/local/lib/python3.6/dist-packages (from nltk) (7.1.2)\n",
            "Requirement already satisfied, skipping upgrade: joblib in /usr/local/lib/python3.6/dist-packages (from nltk) (0.15.1)\n",
            "Requirement already satisfied, skipping upgrade: regex in /usr/local/lib/python3.6/dist-packages (from nltk) (2019.12.20)\n",
            "Requirement already satisfied, skipping upgrade: tqdm in /usr/local/lib/python3.6/dist-packages (from nltk) (4.41.1)\n",
            "Building wheels for collected packages: nltk\n",
            "  Building wheel for nltk (setup.py) ... \u001b[?25l\u001b[?25hdone\n",
            "  Created wheel for nltk: filename=nltk-3.5-cp36-none-any.whl size=1434676 sha256=47fe365e586a726bec00996d05e6456ae6382c2720650fd0683b4b8bc1c2a027\n",
            "  Stored in directory: /root/.cache/pip/wheels/ae/8c/3f/b1fe0ba04555b08b57ab52ab7f86023639a526d8bc8d384306\n",
            "Successfully built nltk\n",
            "Installing collected packages: nltk\n",
            "\u001b[33m  WARNING: The script nltk is installed in '/root/.local/bin' which is not on PATH.\n",
            "  Consider adding this directory to PATH or, if you prefer to suppress this warning, use --no-warn-script-location.\u001b[0m\n",
            "Successfully installed nltk-3.5\n",
            "Requirement already up-to-date: numpy in /usr/local/lib/python3.6/dist-packages (1.18.5)\n"
          ],
          "name": "stdout"
        }
      ]
    },
    {
      "cell_type": "markdown",
      "metadata": {
        "id": "zxGCbAutZfJq",
        "colab_type": "text"
      },
      "source": [
        "**Make function for normalize text from html files - prepocessing data**"
      ]
    },
    {
      "cell_type": "code",
      "metadata": {
        "id": "c6xqMQVPZbQv",
        "colab_type": "code",
        "colab": {
          "base_uri": "https://localhost:8080/",
          "height": 51
        },
        "outputId": "757a9d53-412b-4836-b098-cedfb33db1ff"
      },
      "source": [
        "import nltk\n",
        "import numpy as np\n",
        "import string\n",
        "nltk.download('stopwords')\n",
        "wpt = nltk.WordPunctTokenizer()\n",
        "stop_words = nltk.corpus.stopwords.words('german') \n",
        "\n",
        "def normalize_document(doc):\n",
        "    # lower case and remove special characters\\whitespaces\n",
        "    doc = doc.lower()\n",
        "    doc = re.sub(r'[^a-zA-Züöäß\\s]', '', doc, re.I|re.A)\n",
        "    doc = doc.strip()\n",
        "    # tokenize document\n",
        "    tokens = wpt.tokenize(doc)\n",
        "    # filter stopwords out of document\n",
        "    filtered_tokens = [token for token in tokens if token not in stop_words]\n",
        "    # re-create document from filtered tokens\n",
        "    doc = ' '.join(filtered_tokens)\n",
        "    return doc\n",
        "    \n",
        "normalize_text = np.vectorize(normalize_document)"
      ],
      "execution_count": 502,
      "outputs": [
        {
          "output_type": "stream",
          "text": [
            "[nltk_data] Downloading package stopwords to /root/nltk_data...\n",
            "[nltk_data]   Package stopwords is already up-to-date!\n"
          ],
          "name": "stdout"
        }
      ]
    },
    {
      "cell_type": "markdown",
      "metadata": {
        "id": "3C6G9T7daCOp",
        "colab_type": "text"
      },
      "source": [
        "**Get html contents for each html file and make preprocess with them**"
      ]
    },
    {
      "cell_type": "code",
      "metadata": {
        "id": "ddLsPUTiaARL",
        "colab_type": "code",
        "colab": {
          "base_uri": "https://localhost:8080/",
          "height": 71
        },
        "outputId": "c85e8dc4-141b-4acf-b0a3-db3eaa54117a"
      },
      "source": [
        "html_texts = []\n",
        "html_texts_train = []\n",
        "html_texts_test = []\n",
        "htmls_num = 148\n",
        "for i in range(htmls_num):\n",
        "  html_texts.append(get_clean_text(str(i) + '.html'))\n",
        "  if i in idx_train:\n",
        "    html_texts_train.append(get_clean_text(str(i) + '.html'))\n",
        "  else:\n",
        "    html_texts_test.append(get_clean_text(str(i) + '.html'))\n",
        "\n",
        "html_texts = normalize_text(html_texts)\n",
        "html_texts_train = normalize_text(html_texts_train)\n",
        "html_texts_test = normalize_text(html_texts_test)\n",
        "\n",
        "# just see what we got\n",
        "print(len(html_texts_train))\n",
        "print(html_texts_train[0])"
      ],
      "execution_count": 503,
      "outputs": [
        {
          "output_type": "stream",
          "text": [
            "100\n",
            "elbeelster klinikum chirurgie finsterwalde suchen elbeelster klinikum leitbild klinikleitung qualitätsmanagement qualitätsberichte krankenhaushygiene beauftragte klinikums karriere ausbildung stellenangebote ausbildung praktikum facharztausbildung klinikum cartoon akademisches lehrkrankenhaus mhb elbeelster mvz gmbh standorte elsterwerda finsterwalde herzberg fachbereiche anästhesie intensivmedizin anästhesie intensivmedizin elsterwerda anästhesie intensivmedizin finsterwalde anästhesie intensivmedizin herzberg chirurgie chirurgie elsterwerda chirurgie finsterwalde chirurgie herzberg gynäkologie geburtshilfe gynäkologie elsterwerda gynäkologie finsterwalde gynäkologie geburtshilfe herzberg gynäkologie urogynäkologie geburtshilfe innere medizin innere medizin elsterwerda innere medizin finsterwalde innere medizin herzberg endoskopiezentrum südbrandenburg pädiatrie pädiatrie herzberg kinderschutzgruppe psychiatrie psychiatrie finsterwalde psychiatrie elsterwerda radiologie radiologie elsterwerda radiologie finsterwalde radiologie herzberg pflege pflege elsterwerda pflege finsterwalde pflege herzberg funktionsdiagnostik funktionsdiagnostik elsterwerda funktionsdiagnostik finsterwalde funktionsdiagnostik herzberg physiotherapie physiotherapie elsterwerda physiotherapie finsterwalde physiotherapie herzberg patienteninformation notaufnahme ambulante aufnahme stationäre aufnahme service krankenhaus patientenbeauftragte patientenfürsprecherin entlassungsmanagement aktuelles pressemitteilungen pressemitteilungen archiv newsletterpublikationen flyer veranstaltungen babygalerie fachbereiche elbeelster klinikum fachbereiche chirurgie chirurgie finsterwalde chirurgie finsterwalde mudr ivor dropco chefarzt abteilung chirurgie facharzt chirurgie viszeralchirurgie zusatzbezeichnung spezielle viszeralchirurgie kontakt sekretariat t f emailadresse spambots geschützt anzeige javascript eingeschaltet fc haus ebene fca haus ebene betten besuchszeiten kernbesuchszeit uhr außerhalb absprache zertifikate weitere standorte chirurgie elsterwerda chirurgie finsterwalde chirurgie herzberg ambulante angebote notfallambulanz rund uhr t folgenden angebote benötigen termin erhalten täglich uhr einweisungs beratungssprechstunde opsprechstunde hüft kniesprechstunde schultersprechstunde anmeldungssprechstunde ambulantes operieren krampfadersprechstunde spezielle fußchirurgie proktologische sprechstunde leistungsspektrum abteilung führt eingriffe gebiet allgemeinchirurgie visceralchirurgie sowie unfallchirurgie orthopädie soweit aufgabenbereich hauses grundversorgung gehört arbeitet zwei stationen wobei kurzlieger ambulant operativ behandelte patienten genutzt schwere fälle stehen sechs betten interdisziplinär genutzten intensivstation verfügung rahmen allgemein visceralchirurgie möglich laparoskopische operationsverfahren eingesetzt gleiches gilt unfallchirurgieorthopädie arthroskopische operationen unfallchirurgischorthopädisch verfahren knochbruchbehandlung sei nägel schrauben platten angewandt gelenkprothetische ersatz großer kleiner gelenke betrieben schilddrüsenchirurgie umfangreichen rahmen etabliert gleiches gilt behandlung krampfaderleiden bereich chirurgie gynäkologogische patientinnen betreut rahmen konsiliarvertrages niedergelassene gynäkologen behandelt patienten erkrankungen weiblichen brust abteilung rahmen lausitzer brustzentrums ebenfalls versorgt leistungsspektrum umfangreich neben diagnostik therapie brustkrebserkrankungen gehören abklärung unklarer teilweise gutartiger befunde sowie plastische operationen zertifizierung deutsche herniengesellschaft dhg hernienoperationen krankenhaus finsterwalde qualitätskontrolle unterzogen lausitzer brustzentrum elbeelster klinikum gmbh mitglied lausitzer brustzentrum zusammenschluss lausitzer seenland klinikum hoyerswerda malteserkrankenhaus st johannes kamenz kreiskrankenhaus weißwasser ggmbh sowie elbeelster klinikum ziel krankenhausstandorten partner behandelten brustkrebspatientinnen hochwertige qualitätsgesicherte therapie einheitlichen evidenzbasierten behandlungsmuster verfügung stellen patienten erkrankungen weiblichen brust elbeelster klinikum krankenhaus finsterwalde betreut versorgungsangebot form senologischen arbeitskreises organisiert fachabteilung chirurgie krankenhaus finsterwalde angesiedelt leistungsspektrum umfangreich neben diagnostik therapie brustkrebserkrankungen gehören abklärung unklarer teilweise gutartiger befunde sowie plastische operationen arbeitskreis handelt entsprechend medizinischen sleitlinien deutschen krebsgesellschaft arbeitsgemeinschaft gynäkologischen onkologie arbeitsweise tumorboards zertifizierter brustzentren gleichzusetzen versammelt gynäkologen chirurgen onkologen pathologen radiologen nuklearmediziner strahlentherapeuten psychologen spezialisierte pflegekräfte sowohl stationären ambulanten bereichen therapieoptionen behandelten patientinnen gemeinsam festlegen gemeinsam erarbeitete protokoll enthält therapieempfehlung behandelnden medizinern anschluss zugesandt ziel bemühungen immer patientinnen brusterkrankungen diagnose behandlung aktuellen stand medizin anzubieten ebenso wichtig menschliche seite betreuung neben fachlichen kenntnissen einfühlsamkeit ganzheitliche betrachtung entscheidende grundpfeiler arbeit senologischen teams krankenhaus finsterwalde leistungsangebote brustkrebspatienten diagnostik mammografie hochauflösender ultraschall computertomografie magnetresonanztomografie stanzbiopsie lokalanästhesie wächterlymphknotenbiopsie achselhöhle pathologie therapie mammachirurgie ablativ sowie gesamtes spektrum brusterhaltung primären sekundären rekonstruktion entfernung brust plastischen brustchirurgie chemo strahlentherapie krankenhausaufenthalt betreuung spezialisierte pflegekräfte physiotherapeutische anleitung übung unterstützung sozialdienst hauses psychoonkologische betreuung begleitung ernährungsberatung vorteile patientinnen ganzheitliche diagnostik therapie interdisziplinäres team gynäkologen chirurgen onkologen pathologen radiologen nuklearmedizinern strahlentherapeuten psychologen spezialisierten pflegekräften einbeziehung patientinnen therapieentscheidung zusammenarbeit patientinneninitiativen selbsthilfegruppen wohnortnahe versorgung hohem medizinischem niveau zweitmeinung diagnostik therapie ärztliches personal chefarzt mudr ivor dropco facharzt chirurgie viszeralchirurgie zusatzbezeichnung spezielle viszeralchirurgie leitender oberarzt diplmed thomas vogel facharzt chirurgie fachkunde rettungsdienst zusatzbezeichnung notfallmedizin oberarzt ingo beyer facharzt chirurgie viszeralchirurgie zusatzbezeichnung spezielle viszeralchirurgie zusatzbezeichnung proktologie oberarzt dr med volker papstein facharzt chirurgie zusatzbezeichnung proktologie zusatzbezeichnung notfallmedizin oberarzt lutz jäckel facharzt chirurgie orthopädie unfallchirurgie schwerpunktbezeichnung unfallchirurgie zusatzbezeichnung notfallmedizin fachärztin sieben assistenzärzte weiterbildungsermächtigungen monate viszeralchirurgie monate allgemeinchirugie monate basisbefugnis chirurgie monate proktologie fachbereiche elbeelster klinikum fachbereiche chirurgie chirurgie finsterwalde kontakt elbeelster klinikum gmbh kirchhainer straße a finsterwalde t f infoelbeelsterklinikumde wwwelbeelsterklinikumde information datenschutz impressum copyright elbeelster klinikum gmbh . inhalte seite verwenden , verlinken anderweitig nutzen möchten , fragen . gern stellen pressematerial hoher qualität verfügung .\n"
          ],
          "name": "stdout"
        }
      ]
    },
    {
      "cell_type": "markdown",
      "metadata": {
        "id": "r0R-8Do4avnc",
        "colab_type": "text"
      },
      "source": [
        "**See what data we got**"
      ]
    },
    {
      "cell_type": "code",
      "metadata": {
        "id": "Ar7kk-7cax6Z",
        "colab_type": "code",
        "colab": {
          "base_uri": "https://localhost:8080/",
          "height": 204
        },
        "outputId": "3dca8d4f-0932-4de7-a476-33cdb3fdaa8f"
      },
      "source": [
        "html_texts = np.array(html_texts)\n",
        "html_texts_train = np.array(html_texts_train)\n",
        "html_texts_df = pd.DataFrame({'Document': html_texts_train, \n",
        "                          'Label': y})\n",
        "html_texts_df = html_texts_df[['Document', 'Label']]\n",
        "html_texts_df.head(5)"
      ],
      "execution_count": 504,
      "outputs": [
        {
          "output_type": "execute_result",
          "data": {
            "text/html": [
              "<div>\n",
              "<style scoped>\n",
              "    .dataframe tbody tr th:only-of-type {\n",
              "        vertical-align: middle;\n",
              "    }\n",
              "\n",
              "    .dataframe tbody tr th {\n",
              "        vertical-align: top;\n",
              "    }\n",
              "\n",
              "    .dataframe thead th {\n",
              "        text-align: right;\n",
              "    }\n",
              "</style>\n",
              "<table border=\"1\" class=\"dataframe\">\n",
              "  <thead>\n",
              "    <tr style=\"text-align: right;\">\n",
              "      <th></th>\n",
              "      <th>Document</th>\n",
              "      <th>Label</th>\n",
              "    </tr>\n",
              "  </thead>\n",
              "  <tbody>\n",
              "    <tr>\n",
              "      <th>0</th>\n",
              "      <td>elbeelster klinikum chirurgie finsterwalde suc...</td>\n",
              "      <td>1</td>\n",
              "    </tr>\n",
              "    <tr>\n",
              "      <th>1</th>\n",
              "      <td>onkologisches zentrum klinikum bayreuth aktuel...</td>\n",
              "      <td>3</td>\n",
              "    </tr>\n",
              "    <tr>\n",
              "      <th>2</th>\n",
              "      <td>zentrum sozialpädiatrisches zentrum städtische...</td>\n",
              "      <td>1</td>\n",
              "    </tr>\n",
              "    <tr>\n",
              "      <th>3</th>\n",
              "      <td>leistung spezielle unterstützung anmeldung geb...</td>\n",
              "      <td>1</td>\n",
              "    </tr>\n",
              "    <tr>\n",
              "      <th>4</th>\n",
              "      <td>zuweiser tumorkonferenzen tumorkonferenz gastr...</td>\n",
              "      <td>3</td>\n",
              "    </tr>\n",
              "  </tbody>\n",
              "</table>\n",
              "</div>"
            ],
            "text/plain": [
              "                                            Document  Label\n",
              "0  elbeelster klinikum chirurgie finsterwalde suc...      1\n",
              "1  onkologisches zentrum klinikum bayreuth aktuel...      3\n",
              "2  zentrum sozialpädiatrisches zentrum städtische...      1\n",
              "3  leistung spezielle unterstützung anmeldung geb...      1\n",
              "4  zuweiser tumorkonferenzen tumorkonferenz gastr...      3"
            ]
          },
          "metadata": {
            "tags": []
          },
          "execution_count": 504
        }
      ]
    },
    {
      "cell_type": "markdown",
      "metadata": {
        "id": "-bzCUAXHa6cm",
        "colab_type": "text"
      },
      "source": [
        "Our documents have been converted into numeric vectors such that each html document is represented by one vector (row) in the above feature matrix (cv_matrix)\n",
        "\n",
        "Each column or dimension in the feature vectors represents a word from the html_texts_train and each row represents one of our html documents. The value in any cell, represents the number of times that word (represented by column) occurs in the specific html document (represented by row). Hence if a html_texts_train consists of N unique words across all the documents, we would have an N-dimensional vector for each of the documents."
      ]
    },
    {
      "cell_type": "markdown",
      "metadata": {
        "id": "Li4ndsBCZ2Kq",
        "colab_type": "text"
      },
      "source": [
        "**Divide our data into train and test data to train our model in future**"
      ]
    },
    {
      "cell_type": "code",
      "metadata": {
        "id": "O1HJ_STzbhuT",
        "colab_type": "code",
        "colab": {}
      },
      "source": [
        "from sklearn.model_selection import StratifiedKFold\n",
        "from sklearn.tree import DecisionTreeClassifier\n",
        "from sklearn.ensemble import RandomForestClassifier\n",
        "from sklearn.decomposition import TruncatedSVD\n",
        "from xgboost.sklearn import XGBClassifier"
      ],
      "execution_count": 505,
      "outputs": []
    },
    {
      "cell_type": "code",
      "metadata": {
        "id": "nwXubijnZnmg",
        "colab_type": "code",
        "colab": {
          "base_uri": "https://localhost:8080/",
          "height": 34
        },
        "outputId": "7a691104-1286-4f1e-ca84-30587813acc1"
      },
      "source": [
        "# use KFold cross-validation\n",
        "skf = StratifiedKFold(3, random_state=37)\n",
        "train_index, test_index = next(skf.split(html_texts_train, data.label))\n",
        "train_df, test_df = data.iloc[train_index], data.iloc[test_index]\n",
        "print(train_df.shape, test_df.shape)"
      ],
      "execution_count": 506,
      "outputs": [
        {
          "output_type": "stream",
          "text": [
            "(66, 3) (34, 3)\n"
          ],
          "name": "stdout"
        }
      ]
    },
    {
      "cell_type": "code",
      "metadata": {
        "id": "tcPrsmYmbqe-",
        "colab_type": "code",
        "colab": {
          "base_uri": "https://localhost:8080/",
          "height": 309
        },
        "outputId": "900662e5-469f-4ec7-eb06-c7649897f72e"
      },
      "source": [
        "# overwrite our data\n",
        "doc_train = np.array([])\n",
        "y_train = np.array(train_df['label'])\n",
        "for id in train_df['doc_id']:\n",
        "  doc_train = np.append(doc_train, html_texts[id])\n",
        "print(doc_train[:5])\n",
        "train_df.head(5)"
      ],
      "execution_count": 507,
      "outputs": [
        {
          "output_type": "stream",
          "text": [
            "['magenkrebs krankenhaus barmherzige brüder regensburg notfall menu suchen patienten besucher stationärer aufenthalt vorbereitung zuhause patientenaufnahme erster krankenhaustag wahlleistungen essen operation entlassung finanzielle abwicklung ambulanter aufenthalt vorbereitung eingriff vergessen lageplan krankenhaus sicherheit verwechslungen vermeiden höchste hygienestandards offene fehlerkultur externe kontrollen ganzheitliche unterstützung atemtherapie besuchsdienst ergotherapie ernährungs diabetesberatung logopädie musiktherapie onkologische fachpflege palliativtherapie physiotherapie psychologischer dienst schmerztherapie seelsorge selbsthilfe sozialdienst stomatherapie wohlfühlnachmittage ehrenamt veranstaltungen wissenswertes az aufenthaltsmöglichkeiten auskunft pforte besuchszeiten nachtruhe caf kiosk friseur fußpflege geldautomat briefkasten genussmittel geschenke mitbringsel gottesdienste seelsorge hauszeitschriften kirchen kapellen parken taxi telefon fernsehen radio unterbringung angehörige visite wäscherei wickelraum rollstühle wertsachen zeitschriften zeitungen zimmer anregung kritik patientenfürsprecherin beschwerdemanagement medizin pflege kliniken institute allgemein viszeralchirurgie abteilung proktologie allgemeine innere medizin geriatrie anästhesie operative intensivmedizin augenheilkunde gastroenterologie interventionelle endoskopie gefäßchirurgie geriatrische rehabilitation halsnasenohrenheilkunde herzrhythmusstörungen kardiologie labormedizin mikrobiologie krankenhaushygiene mund kiefer gesichtschirurgie neurochirurgie neurologie onkologie hämatologie palliativmedizin plastische hand wiederherstellende chirurgie pneumologie konservative intensivmedizin radiologie neuroradiologie nuklearmedizin abteilung nuklearmedizin abteilung neuroradiologie strahlentherapie thoraxchirurgie unfallchirurgie orthopädie sportmedizin abteilung sarkome muskuloskelettale tumore urologie zentren adipositaszentrum dialysezentrum enddarmzentrum endoprothetikzentrum gefäßzentrum hand trauma zentrum notfallzentrum überregionales schlaganfallzentrum traumazentrum zentrum altersmedizin onkologisches zentrum brustzentrum darmzentrum gynäkologisches krebszentrum hirntumorzentrum referenzzentrum bauchfellkrebs leberkrebszentrum lungenkrebszentrum magenkrebszentrum pankreaszentrum viszeralonkologisches zentrum zentrum minimalinvasive tumortherapie pflege pflegebereiche vorteile mitarbeiter kompetenz karriere ambulante versorgung mvz urologie mvz cham ärztliche bereitschaftspraxis medizinisches angebot klinik st hedwig einweiser partner ansprechpartner arztinfobrief ärzteportal veranstaltungen haus organisation orden priorat konvent geschäftsführung direktorium krankenhausverbund werte ethikkomitee jahre jubiläum geschichte frater eustachius kugler veranstaltungen jubiläum förderverein kunst kultur anfahrt orden karriere haus arbeitgeber benefits mitarbeiter familie beruf karriere arzt fort weiterbildung facharzt strukturierte weiterbildung weiterbildungsermächtigungen facharzt allgemeinmedizin vertrauensmann praktisches jahr angebot bayern pj prüfeninger straße pj klinik st hedwig materialien famulatur praktikum offene stellenbewerbung karriere pflegekraft professionelle pflege liegt herzen vorteile mitarbeiter otöne pflege pflege funktionsbereiche fort weiterbildung echte aufstiegschancen interne berufsausbildung sekundenbewerbung bonusaktion pflegekräfte paket starterpaket absolventen paket starterpaket überregionale pflegekräfte paket bonusaktion bestandsmitarbeiter maßnahme schutz abwerbungen region häufig gestellte fragen leben arbeiten regensburg bildung berufsfachschulen krankenpflege kinderkrankenpflege schule team leitbild warum gerade schüler wohnheime ausbildung generalistische pflegeausbildung operationstechnischer assistent mw bewerbung kontakt schule krankenpflegehilfe team schüler leitbild ausbildung bewerbung kontakt schule operationstechnische assistenten weitere ausbildungsberufe personalentwicklung bildung leitung team fortbildung weiterbildung intensivpflege anästhesie strokeunits weiterbildung notfallpflege kontakt anmeldung offene stellen bewerbung weiterbildungsermächtigungen bundesfreiwilligendienst bfd freiwilliges soziales jahr fsj ansprechpartner häufig gestellte fragen medien meldungen veranstaltungen video audio flyer broschüren hauszeitung intern ansprechpartner anfahrt schriftgröße ändern kontrastansicht international patients schriftgröße ändern ändern schriftgröße verwenden bitte funktionalität browsers tastaturkurzbefehle lauten folgendermaßen strg schrift vergrößern strg schrift verkleinern strg schriftgröße zurücksetzen home medizin pflege kliniken institute onkologie hämatologie behandlungsangebot krebserkrankungen magenkrebs klinik onkologie hämatologie kontakt sprechstunden stationäre aufnahme behandlungsangebot krebserkrankungen lungenkrebs brustkrebs magenkrebs bauchspeicheldrüsenkrebs darmkrebs enddarmkrebs eierstockkrebs sarkome erkrankungen blutes blutgerinnungsstörungen internistische begleiterkrankungen methoden techniken patienten patienten ärztliche weiterbildung wissenschaft patientensicherheit anregung kritik medien magenkrebs begriff magenkrebs magenkarzinom versteht bösartige tumoren magens meist magenschleimhaut entwickeln gehen prozent drüsengewebe sogenannte adenokarzinome gibt fließenden übergang unteren speiseröhre oberen magen grund gibt gemeinsamkeiten adenokarzinomen unteren speiseröhre magens hinsichtlich diagnostik behandlung deutschland erkranken etwa personen pro jahr magenkrebs hierbei männer häufiger betroffen risikofaktoren auftreten magenkrebs ernährungsgewohnheiten häufiger verzehr gepökelten gegrillten geräucherten speisen beispiel chronische magenschleimhautentzündungen magengeschwüre infektionen magenschleimhaut besonderen bakterien helicobacter pylori darüber hinaus stellt rauchen risikofaktor magenkrebs dar krankheitszeichen magenkrebs vielen krebserkrankungen gibt beim magenkrebs selten frühe krankheitszeichen warnsignale schluckbeschwerden schmerzen beim schlucken appetitlosigkeit völlegefühl abneigung bestimmte nahrungsmittel schmerzen oberen bauchbereich erbrechen ggf blutiges erbrechen schwarzfärbung stuhlganges fortgeschrittener erkrankung außerdem allgemeinsymptomen müdigkeit abgeschlagenheit gewichtsverlust nächtlichem schwitzen blässe kommen magenkrebs erkannt diagnostik nötig festgestellt sowohl magenkrebs speiseröhrenkrebs regel magenspiegelung rahmen spiegelung auffälligen schleimhautveränderungen gewebeproben entnommen endgültige diagnose stellt pathologe gewebeproben krebszellen untersucht leider magenkrebserkrankung festgestellt worden folgen weitere untersuchungen ausdehnung krebserkrankung sogenannte tumorstadium präzise bestimmen tumorstadium auswahl weiteren behandlung ganz entscheidend besonders genaue einschätzung eindringtiefe magenkrebszellen magenschleimhaut gelingt endosonographie ablauf magenspiegelung ähnlich winzig kleinen ultraschallkopf untersuchungsgerät direkt magen ultraschalluntersuchung durchgeführt außerdem ultraschall computertomographie ct untersuchung organe wichtig zusätzliche laboruntersuchungen prüfen funktion organe genannten tumormarker erfolgt behandlung magenkrebs frühen tumorstadien stadium i erkrankung oberen schichten magenschleimhaut begrenzt situation erfolgt regel operation magens gelegentlich oberflächlichen tumoren endoskopische operation rahmen magenspiegelung möglich klinik spezieller schwerpunkt klinik gastroenterologie interventionelle endoskopie herrn professor oliver pech fortgeschrittenen stadien ii iii sowohl magen lymphknoten magenregion betroffen alleinigen operation häufig rückfällen krebserkrankung kommt spielt zusätzliche chemotherapie wichtige rolle rückfallrisiko reduzieren chemotherapie vorbehandlung operation zwei drei monate verabreicht meisten patienten chemotherapienachbehandlung operation circa zwei monate empfehlenswert leider liegt häufig bereits fortgeschrittenes tumorstadium streuung metastasierung magenkrebserkrankung organe stadium iv situationen chemotherapie entscheidend behandlung chemotherapie verteilt blutgefäßsystem ganzen körper bekämpft krebszellen betroffenen organen meistens infusion tropf verabreicht einzelne chemotherapien gibt mittlerweile tablettenform häufig chemotherapie moderne antikörperbehandlungen ergänzt antikörper regel gut verträglich wirksamkeit chemotherapie steigern magenkrebs gutes beispiel dafür optimale behandlung enge zusammenarbeit absprache kollegen chirurgie gastroenterologie strahlentherapie entscheidend strahlentherapie dr allgäuer klinik wichtigen stellenwert beispie patienten speiseröhrenkrebs übergang magen geplanten operation situation kombination strahlen chemotherapie besonders wirksam darüber hinaus patienten fortgeschrittenem tumorstadium speziellen situationen zusätzliche operation sinnvoll beispiel teilweiser befall bauchfelles magenkrebserkrankung art operation spezialgebiet herrn professor piso klinik allgemein viszeralchirurgie regelmäßigen tumorkonferenzen daher klinik patienten magen speiseröhrenkrebs zusammen kolleginnen kollegen abteilungen besprochen gemeinsam beste behandlungsstrategie empfehlen wohin wenden chemotherapie antikörpertherapie magen speiseröhrenkrebserkrankungen schwerpunkt unserer abteilung viele behandlungen ambulant durchgeführt unserer onkologischen ambulanz sekretariat tel könnne gerne sowohl stationäre ambulante behandlungst typoindexphprouterecordedittokencdefedaadebcfceccdeditttcontent ][ 46463 ]= edit & returnurl =/ typo3 / index . php ? m = web_layout & moduletoken = 99db68025c305e52914289ece523554dbd020875 & id = 13265 # element - tt_content - 46463 # ermine vereinbaren . \\ue800 drucken \\uf232 teilen \\uf09a teilen \\uf099 tweet \\uf0e0 mail job herz – karriere onkologie hämatologie bewerben ! verbund bb krankenhausverbund bb klinik st . hedwig regensburg bb paul gerhardt haus regensburg bb krankenhaus münchen bb krankenhaus st . barbara schwandorf bb klinikum st . elisabeth straubing quicklinks kliniken zentren ambulante versorgung pflege aufenthalt stationär aufenthalt ambulant wissenswertes a - z offene stellen kontakt krankenhaus barmherzige brüder prüfeninger str . 86 93049 regensburg tel . + 49 ( 0 ) 941 369 0 geschaeftsfuehrung @ barmherzige - regensburg . de www . barmherzige - regensburg . de sitemap impressum datenschutz kontakt & anfahrt facebook instagram youtube suchen patienten & besucher stationärer aufenthalt vorbereitung zuhause patientenaufnahme erster krankenhaustag wahlleistungen essen operation entlassung finanzielle abwicklung ambulanter aufenthalt vorbereitung eingriff vergessen lageplan krankenhaus sicherheit verwechslungen vermeiden höchste hygienestandards aktion saubere hände – zertifikat gold krankenhaushygiene infektionsüberwachung geprüfte aufbereitungsverfahren offene fehlerkultur externe kontrollen ganzheitliche unterstützung atemtherapie besuchsdienst ergotherapie ernährungs - diabetesberatung ernährungsberatung diabetesberatung logopädie musiktherapie onkologische fachpflege palliativtherapie physiotherapie psychologischer dienst team weitere services schmerztherapie seelsorge selbsthilfe selbsthilfegruppen haus selbsthilfefreundliches krankenhaus selbsthilfegruppen stellen erfahrungsbericht sozialdienst team sozialdienst weitere services stomatherapie wohlfühlnachmittage ehrenamt veranstaltungen wissenswertes a - z aufenthaltsmöglichkeiten auskunft pforte besuchszeiten nachtruhe café kiosk friseur fußpflege geldautomat briefkasten genussmittel geschenke mitbringsel gottesdienste seelsorge hauszeitschriften kirchen kapellen parken taxi telefon , fernsehen radio unterbringung angehörige visite wäscherei , wickelraum , rollstühle wertsachen zeitschriften zeitungen zimmer anregung kritik patientenfürsprecherin beschwerdemanagement medizin & pflege kliniken institute allgemein - viszeralchirurgie kontakt / sprechstunden / stationäre aufnahme behandlungsangebot bauchspeicheldrüse bauchfell therapie chirugischer eingriff darm entzündliche darmerkrankungen darmkrebs hormonbildende organe schilddrüse leber gallenblase magen speiseröhre speiseröhrenkrebs weichteilbrüche methoden & techniken ärzte stationsleitungen unterstützende angebote patienten patienten selbsthilfegruppen ärztliche - weiterbildung wissenschaft patientensicherheit studien wissenschaftliche publikationen anregung kritik medien meldungen veranstaltungen filme flyer broschüren abteilung proktologie allgemeine innere medizin geriatrie kontakt / sprechstunden / stationäre aufnahme behandlungsangebot angiologie diagnostische möglichkeiten behandlungsschwerpunkte diabetologie diagnostik therapie betreuungskonzept diabetesberatung endokrinologie schilddrüse nephrologie / hypertensiologie diagnostik behandlungsschwerpunkte dialysezentrum geriatrie ärzte stationsleitung patienten patienten selbsthilfegruppen ärztliche - weiterbildung wissenschaft patientensicherheit anregung kritik medien aktuelles meldungen veranstaltungen filme flyer publikationen anästhesie operative intensivmedizin kontakt / sprechstunden / stationäre aufnahme behandlungsangebot anästhesie vorbereitung op operationstag intensivmedizinische versorgung notfallmedizin schmerztherapie komplexes regionales schmerzsyndrom fibromyalgie gesichtsschmerzen kopfschmerzen muskelschmerzen nervenschmerzen phantomschmerzen post - zoster - neuralgie rückenschmerzen schmerzen trauma op tumor - metastasenschmerzen methoden & techniken akupunktur ärzte stationsleitung unterstützende angebote patienten patienten selbsthilfegruppen ärztliche - weiterbildung wissenschaft patientensicherheit anregung kritik medien aktuelles veranstaltungen filme flyer broschüren augenheilkunde kontakt / sprechstunden / stationäre aufnahme behandlungsangebot behandlung fehlsichtigkeiten kontaktlinsenstudio gastroenterologie interventionelle endoskopie kontakt / sprechstunden / stationäre aufnahme behandlungsangebot bauchspeicheldrüse darm dickdarm dünndarm gallenwege leber magen rheuma speiseröhre speiseröhrenkrebs infektionen methoden & techniken endoskopie diagnostik therapie endosonographie gastroenterologischer ultraschall ärzte stationsleitung unterstützende angebote patienten patienten selbsthilfegruppen ärztliche - weiterbildung wissenschaft patientensicherheit studien wissenschaftliche publikationen anregung kritik medien meldungen veranstaltungen filme flyer & broschüren gefäßchirurgie kontakt / sprechstunden / stationäre aufnahme behandlungsangebot pavk ( schaufensterkrankheit ) diabetisches fußsyndrom halsgefäße hauptschlagader ( aorta ) aussackung ( aneurysma ) screening lymphgefäßsystem venenerkrankungen ( phlebologie ) krampfadern thrombose diagnostik therapie diagnostik screening ( vorsorgeuntersuchung ) dialysevorbereitung hybrid - op ports wundtherapie ärzte stationsleitung unterstützende angebote patienten patienten selbsthilfegruppen ärztliche - weiterbildung anregung kritik medien meldungen veranstaltungen filme flyer broschüren geriatrische rehabilitation kontakt / sprechstunden / stationäre aufnahme behandlungsangebot reha demenz spätschäden diabetes reha morbus parkinson reha schlaganfall reha amputation ärzte stationsleitung unterstützende angebote externe partner patienten patienten selbsthilfegruppen ärztliche - weiterbildung anregung kritik medien aktuelles meldungen veranstaltungen filme flyer broschüren hals - nasen - ohrenheilkunde behandlungsangebot hno zentrum regensburg hno praxis michael schneider hno - regensburg hno praxis gahleitner / dalles forum hno herzrhythmusstörungen kontakt / sprechstunden / stationäre aufnahme behandlungsangebot angeborene herzrhythmusstörungen bewusstlosigkeiten herzkammer - rhythmusstörungen herzkammer - extrasystolen vorhofrhythmusstörungen herzschrittmacher , defibrillatortherapie methoden & techniken ärzte stationsleitung patienten patienten selbsthilfegruppen ärztliche - weiterbildung wissenschaft patientensicherheit kooperationen wissenschaftliche publikationen anregung kritik medien meldungen veranstaltungen filme flyer broschüren kardiologie kontakt / sprechstunden / stationäre aufnahme behandlungsangebot erkrankungen herzkranzgefäße erkrankungen herzklappen herzmuskelschwäche herzschrittmacher - defibrillatortherapie , kardiale resynchronisation verschluss herzvorhofohrs verschluss vorhofscheidewand verschluss herzkammerscheidewand ärzte stationsleitung patienten patienten selbsthilfegruppen ärztliche - weiterbildung anregung kritik medien meldungen veranstaltungen filme flyer & broschüren labormedizin , mikrobiologie krankenhaushygiene kontakt / sprechstunden behandlungsangebot labormedizin krankenhaushygiene ärzte ärztliche - weiterbildung wissenschaft patientensicherheit medien aktuelles meldungen veranstaltungen filme flyer broschüren mund -, kiefer -, gesichtschirurgie kontakt / sprechstunden / stationäre aufnahme behandlungsangebot dysgnathiechirurgie arthroskopie kiefergelenks lippen - kiefer - gaumenspaltchirurgie ästhetische chirurgie septische mkg - chirurgie traumatologie - unfälle kopf - halsbereich tumorchirurgie ärzte neurochirurgie kontakt / sprechstunden / stationäre aufnahme behandlungsangebot erkrankungen peripheren nerven karpaltunnelsyndrom kubitaltunnelsyndrom tumore peripherer nerven erkrankungen wirbelsäule bandscheibenvorfälle wirbelgelenkverschleiß entzündung wirbelsäule iliosakralgelenk - syndrom verengung wirbelkanals wirbelgleiten wirbelkörperbruch gefäßerkrankungen gehirn rückenmark hemispasmus facialis trigeminusneuralgie hydrozephalus nervenschmerzen pavk schädel - hirn - trauma therapieresistente epilepsie tumore hirntumor nerventumor tumor wirbelsäule rückenmark methoden & techniken intraoperatives neurophysiologisches monitoring neuronavigation stereotaxie operation fluoreszenzverfahren wach - op ärzte stationsleitung unterstützende angebote patienten patienten selbsthilfegruppen ärztliche - weiterbildung anregung kritik medien meldungen veranstaltungen filme flyer broschüren neurologie kontakt / sprechstunden / stationäre aufnahme behandlungsangebot alzheimer demenzen epilepsie frühsommer - meningoencephalitis ( fsme ) gefäßerweiterung ( aneurysma ) hirnhautentzündung hirntumore karpaltunnelsyndrom migräne multiple sklerose myasthenia gravis neuroborreliose parkinson - syndrome polyneuropathie querschnittlähmung schlaganfall schwindel methoden & techniken doppler - duplexsonographie elektroenzephalogramm elektromyographie evozierte potentiale liquordiagnostik neurographie nervensonographie ärzte stationsleitung unterstützende angebote externe partner patienten patienten selbsthilfegruppen ärztliche - weiterbildung anregung kritik medien meldungen veranstaltungen filme flyer broschüren onkologie hämatologie kontakt / sprechstunden / stationäre aufnahme behandlungsangebot krebserkrankungen lungenkrebs brustkrebs magenkrebs bauchspeicheldrüsenkrebs darmkrebs enddarmkrebs eierstockkrebs sarkome erkrankungen blutes akute myeloische leukämie chronisch myeloische leukämie chronisch lymphatische leukämie maligne lymphome multiples myelom myelodysplastische syndrome blutgerinnungsstörungen internistische begleiterkrankungen methoden & techniken diagnostische verfahren therapien ärzte stationsleitung unterstützende angebote patienten patienten selbsthilfegruppen ärztliche - weiterbildung wissenschaft patientensicherheit kooperationen wissenschaftliche publikationen studien anregung kritik medien meldungen veranstaltungen filme flyer & broschüren palliativmedizin kontakt / sprechstunden / stationäre aufnahme behandlungsangebot akute verwirrtheit angst appetitlosigkeit atemnot depression juckreiz kraftlosigkeit krampfanfälle mundpilz schlafstörungen schmerzen übelkeit / erbrechen unruhe verstopfung ärzte stationsleitung unterstützende angebote externe partner räumlichkeiten patienten patienten selbsthilfegruppen ärztliche - weiterbildung wissenschaft patientensicherheit anregung kritik medien aktuelles meldungen veranstaltungen filme flyer broschüren plastische , hand - wiederherstellende chirurgie kontakt / sprechstunden / stationäre aufnahme behandlungsangebot brust brustvergrößerung aktuelles brustimplantate brustverkleinerung bruststraffung wiederaufbau brust gesicht hals augenlidstraffung gesichtsnervenlähmung ohren anlegen haut faltenbehandlung hautstraffung hautverpflanzung übermäßiges schwitzen hand arthrose arthrose daumensattelgelenk fingergelenksarthrosen fehlbildungen karpaltunnelsyndrom morbus dupuytren sehnenscheidenengen schnellender finger hausfrauendaumen tennis / golfer - ellbogen tumore hand ärzte stationsleitung unterstützende angebote patienten patienten selbsthilfegruppen ärztliche - weiterbildung wissenschaft patientensicherheit wissenschaftliche publikationen anregung kritik medien aktuelles meldungen veranstaltungen filme flyer broschüren pneumologie konservative intensivmedizin kontakt / sprechstunden / stationäre aufnahme behandlungsangebot alpha - 1 - antitrypsin - mangel asthma diagnose behandlung copd diagnose behandlung lungenembolie diagnose behandlung lungenemphysem ursachen symptome diagnose behandlung lungenentzündung diagnose behandlung lungenfibrose diagnose behandlung lungenkrebs diagnose behandlung vorsorge lunge systemerkrankungen pleuraerguss diagnose behandlung lungenhochdruck diagnose behandlung sarkoidose diagnose behandlung tuberkulose diagnose behandlung vorsorge methoden & techniken intensivmedizinische versorgung geräte therapieverfahren team hinweise angehörige allgemeine informationen rechtliche informationen ärzte stationsleitung unterstützende angebote externe partner patienten patienten selbsthilfegruppen ärztliche - weiterbildung ärzte weiterbildung niedergelassene ärzte studenten anregung kritik medien aktuelles meldungen veranstaltungen filme flyer & broschüren radiologie , neuroradiologie nuklearmedizin kontakt / sprechstunden / stationäre aufnahme behandlungsangebot durchleuchtung computertomographie interventionelle radiologie konventionelles röntgen magnetresonanztomographie neuroradiologie sonographie ärzte patienten patienten selbsthilfegruppen ärztliche - weiterbildung wissenschaft patientensicherheit wissenschaftliche publikationen anregung kritik medien aktuelles meldungen veranstaltungen filme flyer & broschüren abteilung nuklearmedizin kontakt / sprechstunden / stationäre aufnahme untersuchungsangebot untersuchung schilddrüse nebenschilddrüse untersuchung thorax / abdominalorgane untersuchung lymphatischen systems untersuchungen skeletts untersuchung gehirns sonstige untersuchungen pet / ct magnetresonanztomographie behandlungsangebot radiojodtherapie schilddrüsenerkrankungen radiosynoviorthese selektive interne radiotherapie knochenschmerzbehandlung radiopeptid - rezeptor - therapie ärzte stationsleitung externe partner anregung kritik medien aktuelles meldungen veranstaltungen filme flyer & broschüren abteilung neuroradiologie strahlentherapie kontakt / sprechstunden / stationäre aufnahme behandlungsangebot tumorerkrankungen gutartige erkrankungen medizin - physik geräteausstattung ärzte medizinphysiker patienten patienten selbsthilfegruppen ärztliche - weiterbildung wissenschaft patientensicherheit anregung kritik medien aktuelles meldungen veranstaltungen filme flyer broschüren thoraxchirurgie kontakt / sprechstunden / stationäre aufnahme behandlungsangebot eiteransammlungen brustkorb lungenkrebs lungenmetastasen mittelfellkrebs rippenfellkrebs mesotheliom pleuratumor trichter - kielbrust methoden & techniken schlüssellochchirurgie vats ärzte stationsleitung patienten patienten selbsthilfegruppen wissenschaft patientensicherheit wissenschaftliche publikationen anregung kritik medien aktuelles meldungen veranstaltungen filme flyer broschüren unfallchirurgie , orthopädie sportmedizin kontakt / sprechstunden / stationäre aufnahme behandlungsangebot schulter oberarmkopfbruch schultergelenksverschleiß ( arthrose ) schulterverrenkung ( luxation ) sehnenrisse verletzungen schultereckgelenks hüfte hüftgelenksverschleiß gelenkersatz erstoperation wechseloperation knie gelenkersatz erstoperation wechseloperation knorpelverletzungen kreuzbandverletzungen meniskusverletzungen fuß - sprunggelenk achillessehnenriss außenbandriss charcot - erkrankung hallux rigidus hallux valgus hammerzehen / krallenzehen knick - senkfuss - plattfuss knochen - knorpelverletzung morton neurom sprunggelenksbruch allgemeine unfallchirurgie methoden & techniken ärzte stationsleitung unterstützende angebote externe partner patienten patienten selbsthilfegruppen ärztliche - weiterbildung anregung kritik medien aktuelles meldungen veranstaltungen filme flyer broschüren abteilung sarkome muskuloskelettale tumore urologie kontakt / sprechstunden / stationäre aufnahme behandlungsangebot andrologie / männerheilkunde erektionsstörungen / impotenz geschlechtskrankheiten hormonstörungen mannes penisprothesen penisverkrümmung samenleiter - durchtrennung sexualstörungen mannes spermiogramme unfruchtbarkeit urologische tumore prostatakrebs früherkennung therapie harnblasenkrebs diagnostik therapie nierenkrebs hodenkrebs peniskrebs diagnostik therapie blasenfunktionsstörungen / harninkontinenz blasenhebung frau harninkontinenz diagnostik therapie urologische fehlbildungen enge harnleiterabgangs gutartige erkrankungen männlichen genitals gutartige prostatavergrößerung diagnostik therapie nachsorge schwerpunkte davinci ® si - system thulium - laser atoms - system ärzte stationsleitung patienten patienten selbsthilfegruppen wissenschaft patientensicherheit wissenschaftliche publikationen anregung kritik medien aktuelles meldungen veranstaltungen filme flyer & broschüren zentren adipositaszentrum kontakt / sprechstunden / stationäre aufnahme behandlungsangebot wissenswertes adipositas adipositas ? therapieziele behandlung methoden & techniken ärzte stationsleitung unterstützende angebote externe partner patienten patienten selbsthilfegruppen wissenschaft patientensicherheit anregung kritik medien aktuelles meldungen veranstaltungen filme flyer broschüren dialysezentrum enddarmzentrum kontakt / sprechstunden / stationäre aufnahme behandlungsangebot abszesse fisteln afterriss beckenbodensenkung chronische verstopfung enddarmvorfall hämorrhoiden morbus crohn stuhlinkontinenz steissbeinfisteln methoden & techniken diagnostik behandlungsmöglichkeiten exzellenzzentrum ärzte stationsleitung externe partner patienten patienten selbsthilfegruppen ärztliche - weiterbildung wissenschaft patientensicherheit medien aktuelles meldungen veranstaltungen filme flyer broschüren endoprothetik - zentrum kontakt / sprechstunden / stationäre aufnahme medien aktuelles meldungen veranstaltungen filme flyer broschüren gefäßzentrum kontakt / sprechstunden / stationäre aufnahme behandlungsangebot pavk ( schaufensterkrankheit ) diabetisches fußsyndrom halsgefäße hauptschlagader ( aorta ) aussackung ( aneurysma ) screening lymphgefäßsystem venenerkrankungen ( phlebologie ) krampfadern thrombose diagnostik therapie diagnostik screening ( vorsorgeuntersuchung ) dialysevorbereitung hybrid - op ports wundtherapie patienten patienten selbsthilfegruppen medien meldungen veranstaltungen filme flyer broschüren hand trauma zentrum kontakt / sprechstunden / stationäre aufnahme notfallzentrum kontakt / sprechstunden / stationäre aufnahme behandlungsangebot notfallzentrum ablauf behandlung ärzte stationsleitung ärztliche - weiterbildung wissenschaft patientensicherheit publikationen anregung kritik medien aktuelles meldungen veranstaltungen filme flyer broschüren überregionales schlaganfallzentrum behandlungsangebot wissenswertes schlaganfall behandlungsmöglichkeiten traumazentrum kontakt / sprechstunden / stationäre aufnahme behandlungsangebot verletzungen wirbelsäule verletzungen becken zentrum altersmedizin kontakt / sprechstunden / stationäre aufnahme onkologisches zentrum kontakt / sprechstunden / stationäre aufnahme behandlungsangebot onkologisches zentrum – tun ? zertifizierte krebszentren tumorkonferenz zweitmeinung einholen methoden & techniken diagnoseverfahren krebstherapie netzwerk onkologisches zentrum kooperationen krankenhaus unterstützende angebote externe partner ärzte stationsleitung weiterführende informationen patienten patienten selbsthilfegruppen wissenschaft patientensicherheit klinische studien anregung kritik medien aktuelles meldungen veranstaltungen filme flyer broschüren brustzentrum darmzentrum kontakt / sprechstunden / stationäre aufnahme wissenswertes darmkrebs darmkrebst entsteht darmkrebs vorbeugen früherkennung lesetipps behandlungsangebot darmzentrum zertifizierung tumorkonferenz zweitmeinung therapie operation strahlentherapie chemotherapie ärzte stationsleitung patienten patienten selbsthilfegruppen medien meldungen veranstaltungen filme flyer & broschüren gynäkologisches krebszentrum behandlungsangebot tumorkonferenz zweitmeinung einholen ärzte stationsleitung unterstützende angebote anregung kritik medien aktuelles meldungen veranstaltungen filme flyer broschüren hirntumorzentrum kontakt / sprechstunden / stationäre aufnahme behandlungsangebot wissenswertes hirntumore diagnose behandlung operation strahlentherapie chemotherapie hirntumorzentrum tumorkonferenz ärzte stationsleitung unterstützende angebote externe partner patienten patienten selbsthilfegruppen medien aktuelles meldungen veranstaltungen filme flyer broschüren referenzzentrum bauchfellkrebs kontakt / sprechstunden / stationäre aufnahme wissenswertes bauchfellkrebs behandlungsangebot diagnose therapiemöglichkeiten erfahrung tumorkonferenz patienten patienten selbsthilfegruppen wissenschaft patientensicherheit symposien wissenschaftliche publikationen leberkrebszentrum lungenkrebszentrum kontakt / sprechstunden / stationäre aufnahme behandlungsangebot chemotherapie medikamentöse behandlung strahlentherapie tumorkonferenz operation methoden & techniken ärzte stationsleitung unterstützende angebote patienten patienten selbsthilfegruppen medien aktuelles meldungen veranstaltungen filme flyer broschüren magenkrebszentrum pankreaszentrum viszeralonkologisches zentrum zentrum minimalinvasive tumortherapie kontakt / sprechstunden / stationäre aufnahme behandlungsangebot bauchfell leber & gallenwege radiofrequenzablation ( rfa ) mikrowellenablation ( mwa ) stereotaktische radiotherapie transarterielle chemoembolisation ( tace ) selektive interne radiotherapie ( sirt ) lunge bronchialarterien - embolisation interventionelle bronchoskopie urogenitaltrakt prostata gebärmutter ( uterus ) verdauungstrakt darm magen speiseröhre speiseröhrenkrebs ärzte stationsleitung unterstützende angebote anregung kritik medien aktuelles meldungen veranstaltungen filme flyer broschüren pflege pflegedirektion pflegebereiche vorteile mitarbeiter kompetenz karriere ambulante versorgung mvz urologie mvz cham ärztliche bereitschaftspraxis medizinisches angebot klinik st . hedwig einweiser & partner ansprechpartner arztinfobrief ärzteportal veranstaltungen haus organisation orden , priorat konvent geschäftsführung direktorium krankenhausverbund werte ethikkomitee 90 jahre jubiläum geschichte frater eustachius kugler veranstaltungen jubiläum förderverein kunst kultur anfahrt orden karriere haus arbeitgeber benefits mitarbeiter familie beruf karriere arzt fort - weiterbildung facharzt strukturierte weiterbildung weiterbildungs - ermächtigungen facharzt allgemeinmedizin vertrauensmann praktisches jahr angebot bayern pj - prüfeninger straße pj - klinik st . hedwig materialien famulatur praktikum offene stellen / bewerbung karriere pflegekraft professionelle pflege liegt herzen vorteile mitarbeiter o - töne pflege pflege - funktionsbereiche fort - weiterbildung echte aufstiegschancen interne berufsausbildung 10 - sekunden - bewerbung bonusaktion pflegekräfte paket 1 : „ starterpaket absolventen “ paket 2 : „ starterpaket überregionale pflegekräfte “ paket 3 : „ bonusaktion bestandsmitarbeiter “ maßnahme „ schutz abwerbungen region “ häufig gestellte fragen leben arbeiten regensburg bildung berufsfachschulen krankenpflege kinderkrankenpflege schule team leitbild warum gerade ? schüler wohnheime ausbildung generalistische pflegeausbildung operationstechnischer assistent ( m / w ) bewerbung kontakt schule krankenpflegehilfe team schüler leitbild ausbildung bewerbung kontakt schule operations - technische assistenten weitere ausbildungsberufe personalentwicklung bildung leitung team fortbildung weiterbildung intensivpflege anästhesie stroke - units weiterbildung notfallpflege kontakt anmeldung offene stellen / bewerbung weiterbildungs - ermächtigungen bundesfreiwilligendienst ( bfd ) freiwilliges soziales jahr ( fsj ) ansprechpartner häufig gestellte fragen medien meldungen veranstaltungen video audio flyer broschüren hauszeitung \" intern \" ansprechpartner anfahrt'\n",
            " 'informationen inneren medizin bethlehem gesundheitszentrum stolberg stundendienst notfälle anfahrt kontakt news karriere start leistungen kliniken klinik anästhesie klinik chirurgie klinik geburtshilfe klinik innere medizin klinik kinder jugendmedizin klinik orthopädie unfallchirurgie klinik radiologie spezialisierungen geburtshilfe kinderklinik endoprothesenzentrum maximalversorgung wirbelsäulenerkrankungen bauchspezialistenteam schilddrüsenchirurgie traumazentrum altersmedizin palliativmedizin onkologisches zentrum einrichtungen ambulantes rehazentrum zap franziska schervier schul bildungszentrum fsb kursangebote bgz kurzzeit tagespflege haus lucia sozialpädiatrisches zentrum spz pflege pflege bethlehem pflegerisches leitungsteam aufenthalt aufnahme zentralambulanz besucherinfo entlassungen sozialdienst seelsorge ehrenamtliche hilfe hygiene stiftung bethlehem arbeitgeber stellenangebote ausbildungen qualitätsmanagement risikomanagement patientensicherheit zertifizierungen befragungen feedback beschwerdemanagement betriebsleitung ansprechpartner start leistungen kliniken klinik anästhesie klinik chirurgie klinik geburtshilfe klinik innere medizin klinik kinder jugendmedizin klinik orthopädie unfallchirurgie klinik radiologie spezialisierungen geburtshilfe kinderklinik endoprothesenzentrum maximalversorgung wirbelsäulenerkrankungen bauchspezialistenteam schilddrüsenchirurgie traumazentrum altersmedizin palliativmedizin onkologisches zentrum einrichtungen ambulantes rehazentrum zap franziska schervier schul bildungszentrum fsb kursangebote bgz kurzzeit tagespflege haus lucia sozialpädiatrisches zentrum spz pflege pflege bethlehem pflegerisches leitungsteam aufenthalt aufnahme zentralambulanz besucherinfo entlassungen sozialdienst seelsorge ehrenamtliche hilfe hygiene stiftung bethlehem arbeitgeber stellenangebote ausbildungen qualitätsmanagement risikomanagement patientensicherheit zertifizierungen befragungen feedback beschwerdemanagement betriebsleitung ansprechpartner bethlehem gesundheitszentrum stolberg leistungen kliniken klinik innere medizin informationen inneren medizin weitere informationen scroll patientensicherheit patientenversorgung höchstem niveau patientensicherheit stellt zeitalter hoch technisierten medizin zunehmendes thema ärzten pflege patienten angehörigen dar klinik innere medizin bemühen entsprechende standards fehler patientenversorgung vermeiden hierzu gehören neben regelmäßigen oberarzt chefarztvisiten kurvenvisiten überprüfung medikation wechselwirkungen nebenwirkungen zweiwöchentlich stattfindenden fallkonferenzen komplexe patientenfälle ausführlich kreise gesamten klinik besprochen interdisziplinäre fallkonferenzen teilnahme verschiedener abteilungen innere medizin chirurgie onkologie radiologie gynäkologie finden regelmäßig statt versorgung patienten speziellen erkrankungen krebserkrankungen chronisch entzündlichen darmerkrankungen höchstem niveau sicherzustellen verwechslungen patienten eingriffen vermeiden wurden patientenarmbänder eingeführt patienten eindeutig identifizieren eingriff stehen vorbefunde patienten verfügung außerdem persönliches gespräch untersucher orientierung erkrankung ziel untersuchung geführt organisatorische medizinische probleme existiert anonymes meldesystem klinik wodurch wiederholung evtl vorgefallenen fehlern vermieden großes anliegen angehörigen krankenhaus gesünder kränker bitte sprechen problem sehen frage ausbildung arztweiterbildung chefarzt oberärzte assistenten kümmern gemeinsam fundierte praktische theoretische ausbildung medizinstudenten jungen assistenten engmaschiger supervision eigenständige betreuung patienten erfahrene pjler möglich beste voraussetzungen karriere medizin abteilung innere medizin gewährleistet derzeit betten davon betten intensivstation breite medizinische versorgung patienten klinik untersuchungsgeräte techniken vorhanden medizinische betreuung patienten erforderlich speziell gut ausgestattete endoskopie sonographie besondere schwerpunkte gastroenterologie interventionen pulmologie internistische onkologie kardiologie nephrologie dialyseverfahren beteiligung notarztsystem intensivmedizin hohen stellenwert aktuellen stellenangebote finden stellenangebote pjstudenten pjunterricht fach innere medizin festgelegtem themenkatalog fallvorstellung didaktik inneren medizin montags uhr oberärzte assistenten ekg sonographieeinführungskurs jeweils termine klinischer untersuchungskurs wöchentlich lehrvisite falldemonstration chefarzt freitags uhr wöchentliche chefarztvisiten wöchentliche abteilungsfortbildung interdisziplinäre tumorkonferenz wöchentlich mittwochs uhr monatlich pathologischen falldemonstrationen weiterbildung assistenzärzte klinik innere medizin liegen folgende weiterbildungsermächtigungen basiscurriculum innere allgemeinmedizin jahre facharzt innere medizin neue weiterbildungsordnung jahre facharzt innere medizin gastroenterologie neue weiterbildungsordnung jahre facharzt innere medizin kardiologie neue weiterbildungsordnung jahre facharzt innere medizin pulmologie neue weiterbildungsordnung jahr einzelnen weiterbildungsgängen existieren weiterbildungspläne kataloge seit theoretische praktische ausbildung klinik innere medizin zusätzlich sogenannte weiterbildungsmodule sichergestellt hierbei assistenzärzten einzelnen weiterbildungseinheiten theoretische grundlagen jeweiligen untersuchungsgänge vermittelt praktische durchführung modellen patienten direkt eingeübt hierdurch assistenten befähigt folge supervision untersuchungen selbständig durchzuführen assistenzärzte müssen weiterbildungsgang zutreffenden module mindestens weiterbildungszeit belegen mehrfache teilnahme möglich praktisch orientierte lernfortschritten assistenten orientierte weiterbildungsstrategie gibt erst ganz wenigen kliniken deutschland bisher etablierte vorgesehene weiterbildungsmodule basismodule ultraschall abdomen herzecho aufklärung untersuchungen megacodereanimation diabetes schmerztherapie fortgeschrittenenmodule gastrointestinale endoskopie lufu bronchoskopie tee neurologie geriatrie palliativ intensivstation punktionen spezialistenmodule ercpendosono polypektomie ebusstarre broncho begleitend abschnitten röntgenkonferenzen tumorboard interne externe fortbildungen sowie supervision weiterbildung begleiten vertiefen zusätzlich erhalten assistenten kommunikationstraining studien aachen singsstudie aachen choir engagement study into gerd symptoms bestimmung einflusses singübungen refluxkrankheit geehrte interessenten klinische forschergruppe bethlehem gesundheitszentrum stolberg führt studie bestimmung einflusses singübungen refluxkrankheit refluxkrankheit obere magenverschluss krankhaft verändert magensäure speiseröhre hochschlägt entzündungen schleimhautveränderungen führen verbunden verschiedenen symptomen insbesondere sodbrennen zwerchfell verschluss magens oben beiträgt singübungen symptome bessern andererseits wurde professionellen sängern teil höhere rate sodbrennen ermittelt durchgeführte studie helfen zukunft patienten refluxkrankheit besser beraten unterschied sängern nichtsängern überhaupt ermitteln relativ große zahlen probanden erforderlich möchten daher sänger nichtsänger bitten seite abrufbaren fragebogen möglichst vollständig auszufüllen dabei sowohl singaktivitäten genau anzugeben eben betreiben gleichzeitig angaben evtl vorhandenen symptomen medizinischen vorgeschichte fragebogen wordformat daher elektronisch ausgefüllt per email zurückgesandt fragebögen anonymisiert ausgewertet helfen patientenversorgung ergebnisse studie teil doktorandenprojektes veröffentlicht informationen ausfüllen fragebogens finden ebenfalls abrufbaren infoblatt rückfragen stehen jederzeit gerne verfügung interessierte chöre mitglied forschungsteams probe besucht studie ort direkt vorzustellen bitte melden falls zutrifft vielen dank interesse mitarbeit pd dr dr c dietrich chefarzt klinik facharzt innere medizin gastroenterologiehepatologie palliativmedizin klinik innere medizin bethlehem gesundheitszentrum steinfeldstraße stolberg tel fax 2 ) 107 - 4431 mail dietrich @ bethlehem . de download fragebogen download infoblatt leistungen neurologie gastroenterologie kardiologie nephrologie pulmologie onkologie altersmedizin palliativmedizin go to top bethlehem gesundheitszentrum stolberg ggmbh steinfeldstraße 5 52222 stolberg tel : 02402 107 - 0 fax : 02402 107 - 4180 mail : zentrale @ bethlehem . de impressum | datenschutz kliniken klinik anästhesie klinik chirurgie klinik geburtshilfe klinik innere medizin klinik kinder - jugendmedizin klinik orthopädie unfallchirurgie klinik radiologie aufenthalt aufenthalt aufnahme besucherinfo entlassungen / sozialdienst © 2018 | bethlehem gesundheitszentrum stolberg ggmbh suche : vorlagen leistungen kliniken spezialisierungen einrichtungen pflege pflege bethlehem pflegerisches leitungsteam aufenthalt aufnahme zentralambulanz besucherinfo entlassungen / sozialdienst seelsorge ehrenamtliche hilfe hygiene bethlehem arbeitgeber stiftung qualitätsmanagement betriebsleitung ansprechpartner news kontakt website benutzt cookies . website nutzen , gehen einverständnis . ok datenschutz'\n",
            " 'prostatakarzinomzentrum brüderkrankenhaus st josef paderborn unternehmensseite angebote gesundheitsdienste krankenhäuser krankenhaus barmherzigen brüder trier brüderkrankenhaus st josef paderborn stmarienhospital marsberg theresienkrankenhaus st hedwigklinik fachklinik psychiatrie psychotherapie saffig katholisches klinikum koblenzmontabaur caritaskrankenhaus bad mergentheim krankenhaus tauberbischofsheim hohenloher krankenhaus gemeinschaftskrankenhaus bonn gesundheitsdienste mvz mvz barmherzigen brüder trier mvz barmherzigen brüder trier konstantinstraße mvz saarburg mvz brüderkrankenhauses st josef paderborn mvz medico paderborn mvz westheim baz westheim mvz marienhof koblenz mvz brüderhaus koblenz therapiezentrum katholisches klinikum koblenzmontabaur mvz brüderkrankenhaus montabaur mvz caritaskrankenhaus bad mergentheim mvz tauberfranken wertheim mvz praxicum kirchberg seniorendienste seniorenzentrum barmherzigen brüder trier seniorenzentrum st josefsheim alf seniorenzentrum maria siege plaidt seniorenzentrum st josef münstermaifeld barmherzige brüder rilchingen seniorenzentrum haus heimberg seniorenzentrum st barbara grünsfeld seniorenzentrum st hannah distelhausen altenheim krautheim altenheim öhringen betreutes wohnen bretzfeld seniorenzentrum dörzbach seniorenzentrum forchtenberg seniorenzentrum neuenstein seniorenzentrum pfedelbach seniorenzentrum schöntal seniorenzentrum waldenburg psychiatrische dienste barmherzige brüder saffig psychiatrische dienste barmherzige brüder saffig berufliche integrationsdienste barmherzige brüder saffig st josefswerkstätten barmherzige brüder schönfelderhof barmherzige brüder schönfelderhof st bernhardswerkstätten barmherzige brüder rilchingen ips integrationsbetrieb post scanservice bildungsdienste bildungsinstitut barmherzigen brüder trier krankenpflegeschule bildungsinstitut brüderkrankenhaus st josef paderborn vinzenz paul schule pflegeberufe mannheim bildungscampus koblenz caritasbildungszentrum bad mergentheim bildungszentrum gesundheit pflege tauberbischofsheim sanitas tauberfranken gesundheits krankenpflegeschule künzelsau schule gesundheits pflegeberufe gemeinschaftskrankenhaus bonn servicedienste bbtconsulting tagungs gästehaus barmherzigen brüder trier paderlog zentrum krankenhauslogistik abt gesellschaft ärztliche abrechnung sanitätshaus barmherzigen brüder trier barmherzige brüder rilchingen ergänzende dienste bv laborzentrum st jakobus hospiz saarbrücken hospiz trier euvea neuerburg suchbegriff presse kontakt impressum datenschutz patienten besucher übersicht anfahrt lageplan aufenthalt aufnahme entlassung tag station wahlleistungen telefon tv radio wlan ambulante operation gästezimmer angehörige lob kritik infos az soziale beratung betreuung sozialdienst pflegeüberleitung rehabilitation patientenverfügung vorsorgevollmacht selbsthilfegruppen ehrenamt begleitung lebensende seelsorge ethikkomitee cafrestaurant ambiente küche kontakt medizin pflege übersicht fachabteilungen anästhesie intensivmedizin schmerztherapie chirurgie innere medizin bewegungszentrum orthopädie unfall wirbelsäulenchirurgie radiologie nuklearmedizin strahlentherapie urologie hno belegabteilung zentrale notaufnahme zna kompetenzzentren darmkrebszentrum endoprothetikzentrum kontinenzzentrum lungenkrebszentrum onkologisches zentrum prostatakrebszentrum studienzentrum thoraxchirurgisches zentrum traumazentrum pflege pflegeleitbild stationen funktionsbereiche familiale pflege schule gesundheitsfachberufe ausbildung praktika altersmedizin geriatrie ambulanzen facharztpraxen partner klinische psychologie psychotherapie physiotherapie gesundheitszentrum ernährungsberatung therapie sanitätshaus apotheke paderlog hygiene bbteinrichtungen ort übersicht standorte bbt westfalen direktorium leitung selbstverständnis leitbild geschichte träger philosophie daten fakten qualität entwicklung verwaltung ethikkomitee ehrenamt förderverein umgebung paderborner land aktuelles übersicht aktuelle meldungen termine veranstaltungen lebenmagazin bildung karriere übersicht stellenbörse infos assistenzärzte studierende absolventen famulatur praktisches jahr facharztweiterbildung weiterbildungsverbund allgemeinmedizin stipendiaten pflegebachelor praxisphase schule bildungsinstitut genau ding pflege arbeiten fortbildungen konferenzen ausbildung praktikum freiwilliger dienst weiterbildungen mitarbeitervertretung infos ärzte übersicht ärztefortbildungen konferenzen pflegefortbildungen konferenzen publikationen studien home medizin pflege kompetenzzentren prostatakrebszentrum medizin pflege fachabteilungen zentrale notaufnahme zna kompetenzzentren darmkrebszentrum endoprothetikzentrum kontinenzzentrum lungenkrebszentrum onkologisches zentrum prostatakrebszentrum studienzentrum thoraxchirurgisches zentrum traumazentrum pflege altersmedizin geriatrie ambulanzen facharztpraxen partner klinische psychologie psychotherapie physiotherapie gesundheitszentrum ernährungsberatung therapie sanitätshaus apotheke paderlog hygiene bbteinrichtungen ort kontakt tel fax afalkebkpaderbornde willkommen team kontakt patienteninfo fachinfo prostatakrebszentrum dkg deutschland prostatakarzinome jährlich neu erkannt häufigste bösartige tumorerkrankung mannes prostatakrebszentrum brüderkrankenhauses behandeln betroffenen kriterien deutschen krebsgesellschaft seit gründung zentrums wurden patienten bösartigen gewächs prostata eingeführt therapie begleitet vereinen urologen strahlentherapeuten hämatologen chirurgen radiologen nuklearmediziner sowie psychoonkologen physiotherapeuten sozialarbeiter seelsorger besonderen wert legen enge einbindung niedergelassenen urologen gemeinsam entwickeln individuell patienten angepassten therapieplan mann geh vorsorge multimediaportal krebsvorsorge themenportal prostatakrebsvorsorge prostata prostata umschließt harnröhre liegt harnblase schließmuskel prostata sekret gebildet samenfäden leben erhalten bleiben sekret macht großteil samenergusses etwa ab lebensjahr beginnt erneute wachstumsphase gutartige prostatavergrößerung individuell ausgeprägt größenzunahme mann unterschiedlich gutartige vergrößerung prostata beginnt erster linie inneren anteil prostata bösartigen prostataveränderungen entstehen regel äußeren prostataschicht zertifiziertes prostatakrebszentrum bedeutet diagnostik therapie prostatakrebses gibt vielfältige möglichkeiten vielfalt ständige veränderung neue erkenntnisse laien undurchschaubar heute nahezu selbstverständliche suche internet führt patienten regel klärung probleme führt eher verunsicherung mehrere studien bestätigt wurde vielfachen angebote internet intensiv beworben deren sinn wertigkeit unterstützung entsprechend geschulten facharzt einzuschätzen deutschen krebsgesellschaft wurde daher gefordert zentren entwickeln patienten behandlungsalternativen berücksichtigung aktuellen wissenschaftlichen erkenntnisse vertraut individuell angepasster therapieplan entwickelt regelmäßig kontrolliert gilt qualität behandlung möglichen nebenwirkungen standards regelmäßige audits auswärtiges institut onkozert überprüft evtl abweichungen angemahnt deutschland österreich schweiz insgesamt zertifizierte prostatakrebszentren gemeldet bedeutet abteilung urologie standards erreichen konnte begriff prostatazentrum bzw prostatakrebszentrum geschützt dh begriff verwenden entsprechenden standards leisten grund siegel zertifizierung wichtig hierdurch überprüfung sicherung gewährleistet bedeutet leider patienten wiederholt anfragen gestellt natürlich anonym behandelt anfragen beschwerden maßnahme überprüft weiteren verläufe kontrolliert behandlungsempfehlung behandlungsmöglichkeiten prostatakarzinoms ungewöhnlich vielfältig prostatakarzinom unbedingt behandelt gerade höheren alter finden prostatavergrößerungen deren behandlung erforderlich patienten karzinom jedoch bedrohung ausgehen bestrahlung operation medikamentöse behandlung notwendig macht prostatakrebszentrum erstellen anhand umfassender befunde behandlungsempfehlung hierbei interdisziplinären diskussion beteiligten fachrichtungen nutzen risiken behandlungsschrittes abgewogen bestmöglichen therapieentscheidung gelangen aktive überwachung active surveillance großen statistiken lernen müssen bestimmte prostatakarzinome geringes risiko besitzen patienten bedrohlich ausgesuchten fällen sogenannte aktive überwachung active surveillance echte alternative neuen leitlinien prostatakarzinom setzen engen rahmen geht darum augen gewächs verschließen rahmen engmaschiger kontrollen patienten herauszufiltern operation strahlentherapie bedürfen gewächs laufe beobachtung verändern wiederholen zeitlichen abständen gewebeprobe stellt patienten unterschätzende psychische belastung dar vorgehen wenden patienten deren vorbefunden niedriges risiko hinweist kurative heilende operative therapie grundsätzlich gibt viele verschiedene möglichkeiten prostatakarzinom vollständig entfernen möglichkeiten reichen dammschnitt schlüssellochoperation operationsroboter operationsform eigenen vorteile risiken brüderkrankenhaus st . josef paderborn prostata minimal - invasiv unterbauchschnitt entfernt ( retropubische radikale prostatektomie rrb ). früher gefürchteten komplikationen harninkontinenz hohe blutverluste weitgehend vermieden . operation nervenerhaltend möglich . gliedsteife somit erhalten , sofern dadurch heilung gefährdet . auszug aktuellen auditbericht firma onkozert ( auftrag deutschen krebsgesellschaft ): besteht hohe operative expertise zentrum , niedrigen revisionsrate ( 3 , 7 %), geringen wundinfektionsrate geringen r1 - rate ( 5 , 88 %) organbegrenzten karzinomen ausdrückt . bestrahlung heilende strahlentherapie prostatakrebses erfolgt sogenannte externe strahlentherapie hochenergetischen röntgenstrahlen , wobei strahlen verschiedenen winkeln körper patienten auftreffen gebiet prostata kreuzen , hohe tumorabtötende dosis erzielt . gleichzeitig umliegenden organe geschont . bestrahlung erfolgt jeweils fünf wochentagen nacheinander , insgesamt mindestens 36 mal ( mehr sieben wochen ), bestimmten fällen 40 mal , dauert etwa pro sitzung viertelstunde . patient regel auto bestrahlung kommen transport taxi nutzen . akuten nebenwirkungen regel gut beherrschen . gezielt prostata beschränkte strahlentherapie schwerwiegende chronische nebenwirkungen strahlentherapie heute selten geworden . heilungsergebnisse entsprechen je stadium denen operation , wobei beide methoden bestimmte - nachteile bestehen . hierüber patient prostatakarzinomzentrum ausführlich aufgeklärt . strahlentherapie bestehen regel schwierigkeiten , wasser halten . gliedsteife etwa hälfte patienten verlauf nächsten 4 jahre strahlentherapie langsam zunehmend eingeschränkt . hälfte patienten bleibt jedoch erhalten . zentrumsleitung dr . med . andreas kutta chefarzt klinik urologie kinderurologie facharzt urologie , spezielle urologische chirurgie , medikamentöse tumortherapie andrologie tel : 05251 702 - 1600 fax : 05251 702 - 1699 s . franke @ bk - paderborn . de sekretariat : sandra franke tel : 05251 702 - 1600 fax : 05251 702 - 1699 s . franke @ bk - paderborn . de zentrumssekretariat - koordination anna falke sekretariat / koordination prostatakrebszentrum tel : 05251 702 - 2027 fax : 05251 702 - 1609 a . falke @ bk - paderborn . de kompetenzteam dr . med . matthias berlage oberarzt , facharzt urologie tel : 05251 702 - 2027 fax : 05251 702 - 1699 m . berlage @ bk - paderborn . de dr . med . klaus plitt oberarzt , facharzt strahlentherapie tel : 05251 702 - 24500 fax : 05251 702 - 1399 k . plitt @ bk - paderborn . de harald müller - huesmann oberarzt klinik hämatologie onkologie facharzt innere medizin , hämatologie onkologie , palliativmedizin esmo ( european society of medical oncology )- zertifikat tel : 05251 702 - 3570 h . mueller - huesmann @ bk - paderborn . de dr . med . fonyuy nyuyki fachlicher leiter facharzt nuklearmedizin tel : 05251 702 - 24500 f . nyuyki @ bk - paderborn . de sekretariat : bettina perria tel : 05251 702 - 24500 fax : 05251 6990489 b . perria @ bk - paderborn . de , gut aufgehoben fühlen . psa - test früherkennung patienteninformation psa - test früherkennung patienteninformation : behandlung prostatakrebszentrum patienteninformation patienteninformation stationären urologischen aufnahme bitte finden tag geplanten aufnahme entsprechend vereinbarten termins 2 . etage station 2 a aufnahmezimmer . frühstücken bitte hause , erforderlich , „ nüchtern “ kommen . parkmöglichkeit finden angrenzenden parkhaus maximalen tagespreis 5 €. aufnahmetag zimmer bett vorbereitet , vorgesehene behandlung / operation erforderlichen untersuchungen durchgeführt . einzelnen gehören : blut - u . urinuntersuchungen ekg röntgenuntersuchungen ultraschalluntersuchungen nieren , blase prostata ( männlichen patienten ) erhebung krankengeschichte erläuterungen bevorstehenden operation persönlichen gespräch . narkosegespräch ggfs . weiterführende untersuchungen z . b . harnstrahlmessung , blasenspiegelung , usw . bitte bringen unbedingt folgende unterlagen aufnahme : krankenhauseinweisung behandelnden arztes aktuelle medikamentenliste bzw . originalmedikamente ( empfiehlt benutzung augentropfen , insulin - pens o . ä .) ggfs . schriftlichen bericht behandelnden arztes krankengeschichte . vorfeld angefertigte röntgenbilder , z . b . urologen , ( originalbilder kopie cd - rom ) sowie gehörigen schriftlichen befunde . ggfs . kopie aktuellen laboruntersuchungen , insbesondere psa - werte sowie schilddrüsenwerte . ggfs . weiterführende untersuchungsergebnisse , z . b . kardiologische befunde . bereits mehrfach operiert wurden liste jahreszahl , op - ort art operation . allergiepass / röntgenpass , vorhanden . geplanter stationärer aufnahme beachten ? blutverdünnende medikamente ( z . b . ass , aspirin , plavix , iscover , marcumar usw .) müssen geplanten operation pausiert . bitte sprechen unbedingt hausarzt / einweisenden arzt ab , wann o . g . medikamente abgesetzt müssen , bzw . ersatzloses pausieren möglich . ggfs ersatztherapie mittels sog . „ thrombosespritzen “ ( z . b . clexane , heparin , mono - embolex ) erforderlich . bestimmte medikamente senkung blutzuckers diabetes mellitus müssen ebenfalls anstehender operation abgesetzt . hierzu zählen sog . metforminhaltige mittel z . b . metformin , glucophage , siofor , etc . zweitägige pause geplanter operation hierbei ausreichend . ⇒ vorliegen gesetzlichen betreuung anwesenheit betreuers / betreuerin op - narkoseaufklärung erforderlich . falls vorsorgevollmacht patientenverfügung besitzen , bringen bitte kopie . arztgespräche regel deutscher sprache englischer sprache geführt , sprachen ausreichend lange anwesenheit dolmetschers notwendig . bitte bringen möglichst wertsachen geringe bargeldbeträge krankenhaus . „ vorstationärer untersuchung “ gilt : „ vorstationär “ bedeutet , sämtliche o . g . untersuchungen / vorbereitungen zeit ca . 9 : 00 - 15 : 00 uhr erfolgen beantwortung all fragen krankenhaus verlassen . kommen erneut geplanten stationären aufnahmetermin ( regel morgen unmittelbar operation vorabend operation , je größe eingriffs ). stets bemüht , entsprechenden wartezeiten gering möglich halten . leider jedoch immer vollständig verhindern . ( getränke gesorgt . mitbringen kleinen snacks / leselektüre empfohlen .) bedanken mithilfe freuen kommen ! rückfragen telefonisch erreichbar zeit 8 . 00 16 . 00 uhr tel : 05251 702 - 3489 . sollten vereinbarten termin einhalten , dankbar möglichst frühzeitige mitteilung . patienten gelegenheit geben , termin nutzen . ablauf operation entfernung prostatakarzinoms lieber patient , sicher fragen , operativen entfernung prostatakarzinoms erwartet . ablauf kurz zusammengestellt . sprechen direkt , unklar . , gut aufgehoben fühlen . regel termin stationären aufnahme bereits gespräch prostatakarzinomzentrum festgelegt . stationären aufnahme einnahme blutgerinnungshemmenden mitteln ( z . b . ass / aspirin / iscover / plavix ) verzichtet . ass pause etwa 10 tagen erforderlich . einnahme marcumar gegebenenfalls bestimmung gerinnung kontrolliert gegebenenfalls heparin - spritzen ersetzt . auskunft notwendigkeit gerinnungshemmer evtl . notwendige gabe präparate könnten sicherlich hausarzt klären lassen . vorstellung hause befunde nochmals kontrolliert erfolgt weitere vorbereitung operation . beinhaltet blutabnahme , bestimmung gewichtes größe sowie puls blutdruck . vorbereitung narkose ekg röntgenbild brustkorbes angefertigt . erfolgt aufklärungsgespräch urologen aufklärungsgespräch narkosearzt . verständlicherweise operation aufgeregt , daher bieten nacht beruhigungsmittel . ab 22 : 00 uhr sollten nüchtern bleiben operation . operation raucher zigarette verzichten . bitte verständnis dafür , genaue operationszeitpunkt eingeschränkt vorhersehbar . direkte operationsvorbereitung erhalten netzhose , hemdchen erneutes beruhigungsmittel narkosevorbereitung . bett operationsschleuse gebracht operationstisch gelagert . operationssaal gebracht , narkose einzuleiten operation beginnen . bedarf erste nacht operation überwachungsstation verbringen . regel kehren urologische station zurück . schon tage operation ( zunächst hilfe ) bett verlassen . zunächst liegen zwei drainagen unterbauch kontrolle wundsekretes . zusätzlich befindet dünneres schläuchlein bauchdecke , blase führt katheter , harnröhre harnblase erreicht . ersten tage gabe schmerzmitteln erleichtert . abführenden maßnahmen 2 . tag bieten zunehmend normale nahrung . einliegenden wundschläuche schrittweise entfernt . wichtigste zeitpunkt röntgendarstellung harnröhre 9 . tag operation . hierbei früheste zeitpunkt katheterentfernung bestimmt . kleine undichtigkeit zeigen , katheter wenige tage belassen . schon vorfeld wäre wunsch entlassung möglich . üblicherweise patienten verbliebenen schläuche eingeschränkt , trotz relativen wohlbefindens betreuung station schätzen . eintreffen feingeweblichen befundes selbstverständlich besprochen . einliegenden wundklammern regel 9 . tag operation entfernt . bieten anschlussheilbehandlung . sozialarbeiter hauses organisiert . sollten erhebliche seelische belastungen bestehen , lassen unterstützung psychoonkologen zukommen . zeitpunkt entlassung befinden mitbestimmt . regel weitere körperliche schonung angeraten . besitzen weitgehend kontrolle wasserlassen relativ normal bewegen . einweisender urologe führt weiteren kontrollen . selbstverständlich problemen jederzeit rückfragen möglich . sprechen ! wünschen baldige genesung angenehmen aufenthalt . unterstützung genesung beitragen wurde bösartiges gewächs prostata ( prostatakarzinom ) festgestellt . sicherlich viele ängste ausgelöst fragen aufgeworfen . beim prostatakarzinom , häufigsten bösartigen tumor mannes , stehen mittlerweile vielzahl behandlungsmöglichkeiten verfügung . abwägung vorteile risiken jeweiligen behandlung wurde inzwischen persönlicher behandlungsweg mitgeteilt . mensch gleich krankheit verläuft gleich , persönliches schicksal patienten vergleichen . wichtigster ansprechpartner behandelnder urologe bleiben . krebserkrankungen kranken angehörigen meist sorgen , ängsten ungewissheit verbunden , angehörigen kompetente psychoonkologische begleitung erheblichem nutzen . grund häufigkeit bösartigen erkrankung leider immer mehr alternative behandlungsmethoden angeboten , immer seriös . häufig gestellte frage , änderung lebensweise ernährung behandlungsaussichten verbessern . gesunde lebensweise krankheitsverlauf durchaus förderlich . folgende hauptempfehlungen amerikanischen leitlinien ableiten : streben gesundes gewicht . achten gesunde balance energie ( kalorien ) körperlicher aktivität . dadurch übergewicht vermeiden vermindern . grundsätzlich gilt , nötige gewichtsabnahme langsam erfolgen drastische hungerkuren vermieden . hausarzt sicherlich spezielle unterstützung geben . seien körperlich aktiv . sollten operiert worden , möglichkeiten belastung naturgemäß eingeschränkt behandelnde arzt anleitung geben . weitgehender erholung folgendes empfehlen : mindestens 30 minuten mäßige starke körperliche betätigung neben normalen täglichen tätigkeiten mindestens fünf tagen woche ( 45 60 minuten ) wünschenswert . mäßiger körperlicher aktivität anstrengung verstanden beim schnellen gehen entsteht . erhöhung alltagsaktivität ( treppensteigen anstatt fahrstuhlfahren , gehen radfahren anstatt autofahren etc .) dabei sport gleichwertig . achten gesunde ernährung . allgemein gilt : essen tag verschiedene obst gemüsesorten , essen lieber vollkorn weißmehlprodukte , begrenzen zufuhr fleischprodukten rotem fleisch . ernährung dabei einseitig , sinne mischkost . achten gesunde , fettreduzierte ernährung , vermehrte anteile pflanzlichen produkten enthält . größere studien sprechen vorbeugende wirkung phytooestrogenen ( insbesondere sojabohnen daraus hergestellte produkte , leinsamen , hülsenfrüchte getreide , wassermelone ) lycopenreiche kost ( tomaten ). bezieht insbesondere tomatenprodukte tomatenkonzentrate dosentomaten . erhitzung sogar wirkung verstärkt . granatapfelsaft ebenfalls günstig krankheitsverlauf auswirken . reduzieren alkoholkonsum . reduzieren alkoholkonsum . männer sollten mehr 2 alkoholische drinks pro tag nehmen . reduzieren tabakkonsum gegensatz bösartigen erkrankungen nachgewiesen worden , rauchen entstehung prostatakarzinoms begünstigt . eindeutig , raucher , prostatakarzinom leiden , lebenserwartung deutlich eingeschränkt . empfehlungen überwinden krebsleidens günstig , stellen empfehlungen dar , vorbeugung erkrankungen beispiel herz -/ kreislaufsystems dienen . nahrungsergänzungsmittel reichlich angeboten . deren nutzen allgemein belegt . zusätzliche einnahme vitaminpräparaten eher schädlich . weiterführende links prostatakrebs patientenbefragung projektes \" prostate cancer outcomes \" pco informationen deutschen krebsgesellschaft prostatakrebs infoblatt anschlussheilbehandlung teilnahme patientenbefragung pco ziel projektes pco , physische psychische gesundheit männern , wegen lokalen prostatakarzinoms behandelt , verbessern . kliniken vielen ländern systematisch klinische patientenseitige daten gemessen , gesammelt ausgewertet , variablen herauszubekommen , gesundheitsbezogene lebensqualität patienten beeinflussen . prostatakrebszentrum brüderkrankenhauses nimmt erhebung teil . selbsthilfegruppen beratungsstellen bundesverband prostatakrebs selbsthilfe e . v . kontaktdaten : alte str . 4 , d - 30989 gehrden tel : 05108 926646 , fax : 05108 926647 info @ prostatakrebs - bps . de internet : http :// www . prostatakrebs - bps . de selbsthilfe - kontaktstelle paderborn ( dpwv ) kontakt - anlaufstelle selbsthilfegruppen großraum paderborn . beratungsstelle , bleichstraße 39a , 33102 paderborn , tel : 05251 / 8782960 selbsthilfe - paderborn @ paritat - nrw . org internet : www . selbsthilfe - paderborn . de psychosoziale krebsberatung diakonie paderborn beratung unterstützung krebspatienten angehörige petra grunwald - drobner , riemekestr . 12 , 33102 paderborn , tel : 05251 540183 grunwald @ diakonie - pbhx . de prostacura paderborn kontakt : f . l . mertel h . j . klein tel : 05251 8782960 prostacura @ paderborn . com treffen selbsthilfegruppe prostacura 1 . mittwoch monat 18 : 00 - 19 : 30 uhr konferenzraum peter friedhofen , ( 1 . ug , ambiente ), brüderkrankenhaus st . josef paderborn . vorherige anmeldung erforderlich . liebe kolleginnen kollegen , gemeinsam behandlung festlegen durchführen , anvertrauten patienten bestmögliche heilungschance lebensqualität verspricht . sprechen jederzeit besuchen fallbesprechungen . einweisung prostatakrebszentrum erfolgt überweisung niedergelassenen urologen , histologisch prostatakarzinom gesichert wurde . anmeldung erfolgt telefonisch sekretariat ( anna falke tel . 05251 / 702 - 2027 ). patient erhält daraufhin anschreiben , worin prostatakrebszentrum vorgestellt fragebögen vorgelegt . überweisenden urologen bereits patienten strahlentherapie favorisiert , direkte vorstellung klinik strahlentherapie erfolgen : ( mvz , bettina perria , tel : 05251 702 - 24500 ). patienten erhalten anschreiben prostatakrebszentrum eingeführt . persönlichen gespräch erwartungshaltung patienten überprüft bereits erfolgte diagnostik gesichtet . sprechstunde dienstags 9 : 30 13 : 30 uhr tumorkonferenz donnerstagmorgen patienten anhand akten beteiligten fachabteilungen vorgestellt gemeinsame therapieempfehlung erstellt . per fax selben tage behandelnden urologen hausarzt mitgeteilt . voreinschätzung behandelnden urologen wichtig gewünscht . ebenso findet 4 . mittwoch monat nachmittags posttherapeutische konferenz statt , niedergelassenen kollegen herzlich einladen . woche fällt donnerstagskonferenz . idee prostatakarzinomzentrums beinhaltet , patienten therapieoptionen vorgestellt . gespräch urologen strahlentherapeuten angeboten . behandelnde urologe bleibt weiterhin wichtigste ansprechpartner patienten . selbstverständlich folge vorstellungen patienten möglich . bezieht insbesondere unklare befunde schwierige palliative therapiesituationen . konferenzen kompetenzteam prostatakrebszentrums klinik urologie kinderurologie dr . med . andreas kutta chefarzt klinik urologie kinderurologie facharzt urologie , spezielle urologische chirurgie , medikamentöse tumortherapie andrologie tel : 05251 702 - 1600 fax : 05251 702 - 1699 s . franke @ bk - paderborn . de sekretariat : sandra franke tel : 05251 702 - 1600 fax : 05251 702 - 1699 s . franke @ bk - paderborn . de klinik strahlentherapie dr . med . klaus plitt oberarzt , facharzt strahlentherapie tel : 05251 702 - 24500 fax : 05251 702 - 1399 k . plitt @ bk - paderborn . de klinik nuklearmedizin dr . med . fonyuy nyuyki fachlicher leiter facharzt nuklearmedizin tel : 05251 702 - 24500 f . nyuyki @ bk - paderborn . de sekretariat : bettina perria tel : 05251 702 - 24500 fax : 05251 6990489 b . perria @ bk - paderborn . de klinik hämatologie internistische onkologie harald müller - huesmann oberarzt klinik hämatologie onkologie facharzt innere medizin , hämatologie onkologie , palliativmedizin esmo ( european society of medical oncology )- zertifikat tel : 05251 702 - 3570 h . mueller - huesmann @ bk - paderborn . de klinik diagnostische interventionelle radiologie dr . med . karsten bulla oberarzt facharzt radiologie tel : 05251 702 - 1300 fax : 05251 702 - 1398 k . bulla @ bk - paderborn . de kooperierende arztpraxen urologie medico florian jankowski , thorsten meuer , hendrik bertels fachärzte urologie husener str . 48 33098 paderborn tel : 05251 - 892100 fax : 05251 - 8921020 dr . med . stefan wistuba facharzt urologie borchener straße 29 , 33098 paderborn tel : 05251 272 20 - 23 fax : 05251 272 21 medizinisches versorgungszentrum bad wünnenberg / südkreis paderborn gmbh manfred mardus facharzt urologie erlen 22 , 33181 bad wünnenberg tel : 02953 970 901 fax : 02953 970 905 medizinisches versorgungszentrum brüderkrankenhauses st . josef paderborn dr . med . elena keberle fachärztin urologie tel : 05251 - 699048 - 5 fax : 05251 - 699048 - 8 e . keberle @ paderborn - mvz . de mvz strahlentherapie nuklearmedizin medizinisches versorgungszentrum brüderkrankenhauses st . josef paderborn dr . med . fonyuy nyuyki tel : 052 51 – 6 99 04 80 fax : 052 51 – 702 24501 interne externe kooperationspartner psychoonkologische unterstützung klinische psychologie psychotherapie dipl .- psych . sandra schnülle tel : 052 51 702 - 34 93 sozialdienst brüderkrankenhaus st . josef paderborn hilfestellung anträgen vermittlungsdienstenleitung sozialdienstes diplom - sozialarbeiter rainer altrogge tel : 052 51 702 19 95 gesundheitszentrum physiotherapie / krankengymnastik leitung gesundheitszentrums : anja wasmuth tel : 052 51 702 18 60 b + v laborzentrum gmbh husener straße 46a , 33098 paderborn ärztlicher leiter : dr . med . armin kuhlencord tel : 052 51 87 736 - 0 fax : 052 51 87 736 - 44 \\ufeff institut pathologie paderborn husener str . 46a , 33098 paderborn ansprechpartner : pd dr . med . christian kersting tel : 052 51 87 00 50 fax : 052 51 87 00 529 selbsthilfegruppe prostacura kontaktstelle kilianstraße 15 , 33098 paderborn tel : 05251 / 8782960 e - mail : prostacura @ paderborn . com wissenschaftliche klinische studien nehmen patientenbefragung prostatakarzinom pco patient reported outcome ) teil . studienzentrum onkologischen zentrums brüderkrankenhaus betreut klinische studien , bereich prostatakarzinome . 160 – news – stellenangebote webseite verwendet cookies . nutzung webseite stimmen verwendung cookies . datenschutzinformationen [ x ]'\n",
            " 'stellenangeboteweiterbildung carlthiemklinikum cottbus ggmbh webauftritt optimal gestalten fortlaufend verbessern verwendet webauftritt cookies weitere nutzung webauftritts stimmen verwendung cookies weitere informationen erhalten datenschutzrechtlicher hinweis stimme a a a notfall telefon onlineaufnahme lageplan toggle navigation menü notfall telefon lageplan klinikum geschäftsführung klinikumsleitung organigramm zentrale dienste ansprechpartner pflege leitung pflegeverständnis kompetenzzentrum fort weiterbildung historie vision qualitätsmanagement team beschwerdemanagement patientenfürsprecherin medizinproduktesicherheit krankenhaushygiene presse öffentlichkeitsarbeit ctk aktuell carl carla kita gesundheitscampus förderverein carlthiemklinikum aktuelles projekte kliniken zentren kliniken departments anästhesiologie intensivtherapie palliativmedizin augenklinik chirurgie frauenklinik gastroenterologie rheumatologie geriatrie hämatologie onkologie hautklinik hnoklinik kopf halschirurgie kardiologie rhythmologie angiologie kinder jugendmedizin mund kiefer gesichtschirurgie nephrologie diabetologie neurochirurgie neurologie notaufnahme nuklearmedizin orthopädie pneumologie psychiatrie strahlentherapie unfallchirurgie urologie institute institut pathologie institut radiologie zentrum laboratoriumsmedizin mikrobiologie krankenhaushygiene weitere einrichtungen physiotherapie funktionelle ergotherapie plastische chirurgie zentren clinical research studienzentrale endoprothetikzentrum maximalversorgung notfallmedizinisches zentrum onkologisches zentrum perinatalzentrum sozialpädiatrisches zentrum überregionales traumazentrum wirbelsäulenzentrum zentrum fuß sprunggelenkchirurgie patienten besucher aufnahme aufenthalt entlassung sozialdienst aktuelles veranstaltungen news pressemeldungen aktuelle veranstaltungen filme ctk mitarbeiter ctk ctk aktuell karriere direktorium personal organisation akademie stellenangebote arbeiten ctk kindertagesstätte ctk videoporträts mitarbeiter ctk ärztlicher dienst akademisches lehrkrankenhaus stipendienprogramm medizinstudierende famulatur praktisches jahr ausbildung praktika praktikum notfallsanitäterrettungsassistenten freiwilliges soziales jahr medizinische schule leitung ausbildung projekte schulchronik veranstaltungen termine initiativbewerbung kontakt erreichen lob kritik anfragenhinweise baudokumente klinikum geschäftsführung klinikumsleitung organigramm zentrale dienste ansprechpartner pflege leitung pflegeverständnis kompetenzzentrum fort weiterbildung historie vision qualitätsmanagement team beschwerdemanagement patientenfürsprecherin medizinproduktesicherheit krankenhaushygiene presse öffentlichkeitsarbeit ctk aktuell carl carla kita gesundheitscampus förderverein carlthiemklinikum aktuelles projekte kliniken zentren kliniken departments anästhesiologie intensivtherapie palliativmedizin behandlungsspektrum team sprechstunden patientenratgeber klinische forschungprojekte stellenangeboteweiterbildung veranstaltungen neuigkeiten augenklinik behandlungsspektrum team sprechstunden patientenratgeber stellenangeboteweiterbildung veranstaltungen neuigkeiten chirurgie behandlungsspektrum leistungsspektrum zentren team sprechstunden patientenratgeber stellenangeboteweiterbildung veranstaltungen neuigkeiten frauenklinik behandlungsspektrum ctk brustzentrum cottbus leitung diagnostik behandlung team sprechstunden patientenratgeber stellenangeboteweiterbildung veranstaltungen neuigkeiten gastroenterologie rheumatologie behandlungsspektrum rheumatologie gastroenterologie endoskopische diagnostik therapie team sprechstunden patientenratgeber stellenangeboteweiterbildung veranstaltungen neuigkeiten geriatrie behandlungsspektrum team veranstaltungen neuigkeiten hämatologie onkologie behandlungsspektrum tumorkonferenzen team sprechstunden studien patientenratgeber stellenangeboteweiterbildung veranstaltungen neuigkeiten hautklinik behandlungsspektrum team sprechstunden patientenratgeber stellenangeboteweiterbildung veranstaltungen neuigkeiten hnoklinik kopf halschirurgie behandlungsspektrum operatives leistungsspektrum nichtoperatives leistungsspektrum diagnostisches leistungsspektrum team sprechstunden patientenratgeber stellenangeboteweiterbildung veranstaltungen neuigkeiten kardiologie rhythmologie angiologie behandlungsspektrum team sprechstunden patientenratgeber stellenangeboteweiterbildung einweiser veranstaltungen neuigkeiten kinder jugendmedizin behandlungsspektrum schlafmedizin kinder jugendliche weitere angebote sozialpädiatrisches zentrum team sprechstunden tagesklinik patientenratgeber stellenangeboteweiterbildung veranstaltungen neuigkeiten mund kiefer gesichtschirurgie behandlungsspektrum plastische chirurgie team sprechstunden patientenratgeber stellenangeboteweiterbildung veranstaltungen neuigkeiten nephrologie diabetologie behandlungsspektrum diabetologie behandlungsspektrum nephrologie team projekte neurochirurgie behandlungsspektrum team sprechstunden patientenratgeber stellenangeboteweiterbildung veranstaltungen neuigkeiten neurologie behandlungsspektrum team sprechstunden patientenratgeber stellenangeboteweiterbildung einweiser veranstaltungen neuigkeiten notaufnahme behandlungsspektrum team sprechstunden veranstaltungen neuigkeiten nuklearmedizin behandlungsspektrum team sprechstunden patientenratgeber stellenangeboteweiterbildung veranstaltungen neuigkeiten orthopädie behandlungsspektrum rheumatologische tagesklinik operative orthopädie orthopädische physiotherapie team sprechstunden patientenratgeber stellenangeboteweiterbildung veranstaltungen neuigkeiten pneumologie behandlungsspektrum team sprechstunden patientenratgeber stellenangeboteweiterbildung einweiser veranstaltungen neuigkeiten psychiatrie behandlungsspektrum team sprechstunden patientenratgeber stellenangeboteweiterbildung veranstaltungen neuigkeiten radioonkologie strahlentherapie leistungsspektrum medizinische strahlenphysik team sprechstunden patientenratgeber stellenangeboteweiterbildung veranstaltungen neuigkeiten unfallchirurgie behandlungsspektrum team sprechstunden patientenratgeber stellenangeboteweiterbildung veranstaltungen neuigkeiten urologie behandlungsspektrum diagnostische verfahren therapeutische verfahren uroonkologie team sprechstunden patientenratgeber stellenangeboteweiterbildung veranstaltungen neuigkeiten institute institut pathologie leistungsspektrum team stellenangeboteweiterbildung veranstaltungen neuigkeiten institut radiologie leistungsspektrum kinderradiologie neuroradiologie team sprechstunden patientenratgeber stellenangeboteweiterbildung überweiser veranstaltungen neuigkeiten zentrum laboratoriumsmedizin mikrobiologie krankenhaushygiene leistungsspektrum beratungs serviceleistungen diagnostische leistungen präanalytik labor leistungsverzeichnis labor präanalytik mikrobiologie leistungsverzeichnis mikrobiologie wasserlabor team sprechstunden patientenratgeber stellenangeboteweiterbildung veranstaltungen neuigkeiten weitere einrichtungen physiotherapie funktionelle ergotherapie therapieangebote physiotherapie therapieangebote ergotherapie team ambulante angebote plastische chirurgie zentren clinical research studienzentrale leitung interdisziplinäre studienzentrale studien informationen patienten schulungen transfer units medical devices development testing clinical drug research digital health molecular research projekte publikationen endoprothetikzentrum maximalversorgung notfallmedizinisches zentrum onkologisches zentrum leitbild leitung organzentren viszeralonkologisches zentrum kopfhalstumorzentrum prostatakrebszentrum schwerpunkt urologische tumoren gynäkologisches krebszentrum brustzentrum hautkrebszentrum kooperationspartner tumorkonferenzen anmeldung tumorkonferenz rückmeldung einweiser aktuelle studien veranstaltungen perinatalzentrum sozialpädiatrisches zentrum anmeldung behandlungsspektrum diagnostik therapieangebote team stellenangeboteweiterbildung veranstaltungen neuigkeiten überregionales traumazentrum alleinstellungsmerkmale team wirbelsäulenzentrum zentrum fuß sprunggelenkchirurgie behandlungsspektrum team sprechstunden kooperationspartner patienten besucher aufnahme aufenthalt entlassung sozialdienst aktuelles veranstaltungen news pressemeldungen aktuelle veranstaltungen filme ctk mitarbeiter ctk ctk aktuell karriere direktorium personal organisation akademie stellenangebote arbeiten ctk kindertagesstätte ctk videoporträts mitarbeiter ctk ärztlicher dienst akademisches lehrkrankenhaus stipendienprogramm medizinstudierende famulatur praktisches jahr ausbildung praktika praktikum notfallsanitäterrettungsassistenten freiwilliges soziales jahr medizinische schule leitung ausbildung projekte schulchronik veranstaltungen termine initiativbewerbung kontakt erreichen lob kritik anfragenhinweise baudokumente befinden startseite klinikum kliniken zentren kliniken departments nuklearmedizin stellenangeboteweiterbildung nuklearmedizin anästhesiologie intensivtherapie palliativmedizin behandlungsspektrum team sprechstunden patientenratgeber klinische forschungprojekte stellenangeboteweiterbildung veranstaltungen neuigkeiten augenklinik behandlungsspektrum team sprechstunden patientenratgeber stellenangeboteweiterbildung veranstaltungen neuigkeiten chirurgie behandlungsspektrum team sprechstunden patientenratgeber stellenangeboteweiterbildung veranstaltungen neuigkeiten frauenklinik behandlungsspektrum brustzentrum team sprechstunden patientenratgeber stellenangeboteweiterbildung veranstaltungen neuigkeiten gastroenterologie rheumatologie behandlungsspektrum team sprechstunden patientenratgeber stellenangeboteweiterbildung veranstaltungen neuigkeiten geriatrie behandlungsspektrum team veranstaltungen neuigkeiten hämatologie onkologie behandlungsspektrum tumorkonferenzen team sprechstunden studien patientenratgeber stellenangeboteweiterbildung veranstaltungen neuigkeiten hautklinik behandlungsspektrum team sprechstunden patientenratgeber stellenangeboteweiterbildung veranstaltungen neuigkeiten hnoklinik kopf halschirurgie behandlungsspektrum team sprechstunden patientenratgeber stellenangeboteweiterbildung veranstaltungen neuigkeiten kardiologie rhythmologie angiologie behandlungsspektrum team sprechstunden patientenratgeber stellenangeboteweiterbildung einweiser veranstaltungen neuigkeiten kinder jugendmedizin behandlungsspektrum sozialpädiatrisches zentrum team sprechstunden tagesklinik patientenratgeber stellenangeboteweiterbildung veranstaltungen neuigkeiten mund kiefer gesichtschirurgie behandlungsspektrum team sprechstunden patientenratgeber stellenangeboteweiterbildung veranstaltungen neuigkeiten nephrologie diabetologie behandlungsspektrum diabetologie behandlungsspektrum nephrologie team projekte neurochirurgie behandlungsspektrum team sprechstunden patientenratgeber stellenangeboteweiterbildung veranstaltungen neuigkeiten neurologie behandlungsspektrum team sprechstunden patientenratgeber stellenangeboteweiterbildung einweiser veranstaltungen neuigkeiten notaufnahme behandlungsspektrum team sprechstunden veranstaltungen neuigkeiten nuklearmedizin behandlungsspektrum team sprechstunden patientenratgeber stellenangeboteweiterbildung veranstaltungen neuigkeiten orthopädie behandlungsspektrum team sprechstunden patientenratgeber stellenangeboteweiterbildung veranstaltungen neuigkeiten pneumologie behandlungsspektrum team sprechstunden patientenratgeber stellenangeboteweiterbildung einweiser veranstaltungen neuigkeiten psychiatrie behandlungsspektrum team sprechstunden patientenratgeber stellenangeboteweiterbildung veranstaltungen neuigkeiten strahlentherapie leistungsspektrum medizinische strahlenphysik team sprechstunden patientenratgeber stellenangeboteweiterbildung veranstaltungen neuigkeiten unfallchirurgie behandlungsspektrum team sprechstunden patientenratgeber stellenangeboteweiterbildung veranstaltungen neuigkeiten urologie behandlungsspektrum team sprechstunden patientenratgeber stellenangeboteweiterbildung veranstaltungen neuigkeiten behandlungsspektrum team sprechstunden patientenratgeber stellenangeboteweiterbildung veranstaltungen neuigkeiten stellenangebote weiterbildung stellenangebote nuklearmedizin stellenbezeichnung facharzt nuklearmedizin mw ctkpoliklinik cottbus initiativ onlinebewerbung formular initiativ direkt online bewerben ausbildungscurriculum klinik allgemeines carlthiemklinikum cottbus gemeinnützige gmbh kommunaler trägerschaft mehr betten mitarbeiterinnen ctk haus maximalversorgung kliniken vier instituten stationäre ambulante patienteninnen pro jahr versorgt erste nuklearmedizinische diagnostische verfahren wurden ctk 975 eingeführt . rasch entwickelte nuklearmedizinische abteilung , 1997 bestandteil radiologie . eröffnung nuklearmedizinischen therapiestation wurde nuklearmedizin ctk selbstständigen klinik eigener chefarztposition . technische neuinvestitionen zahlreiche hospitationen universitären einrichtungen bietet nuklearmedizinische klinik ctk komplexe untersuchungsprogramm konventionellen nuklearmedizin . nuklearmedizinischen therapiestation jährlich 400 patienten betreut , insbesondere durchführung radiojodtherapie benigner maligner schilddrüsenerkrankungen , radiosynoviorthesen schmerztherapien . neben diagnostik therapie stationärer patienten seit januar 2015 bestehende kv - zulassung ( halbe kv - stelle nuklearmedizin ) betreuung ambulanter patienten cottbus umgebung möglich . struktur nuklearmedizinischen klinik arbeitsbereiche klinik klinik nuklearmedizin ctk gliedert vier arbeitsbereiche , eng miteinander verbunden . arbeitsbereich nuklearmedizinische diagnostik szintigrafischen untersuchungen konventionellen nuklearmedizin angeboten . technisch stehen drei spect - fähige gammakameras verfügung : einkopfkamera , zweikopfkamera sowie hochmoderne spect - ct - kamera . insbesondere erwerb spect - ct - kamera infinia konnte deutliche steigerung qualität nuklearmedizinischer untersuchungsverfahren erreicht , insbesondere gebiet absorptionskorrektur , durchführung myokardszintigrafien durchführung skelettszintigrafien , wesentlich höheren spezifität durchgeführt . 2014 erfolgten nuklearmedizinischen diagnostik mehr 3 . 700 untersuchungen , wobei schilddrüsenszintigrafie 980 größte position darstellt , gefolgt myokardperfusionsszintigrafie ( 855 ), skelettszintigrafie ( 320 ), lungenszintigrafie ( 195 ), hirnszintigrafien ( 140 ), lymphabstromszintigrafien ( 75 ) weitere spezifische tumorszintigrafien . wobei genaue angaben detaillierten leistungsumfang anlage ersichtlich . nuklearmedizinische therapiestation unserer klinik wurde oktober 1997 eröffnet . umfasst zehn therapiebetten , aufgeteilt drei doppelzimmer vier einzelzimmer . betreuung station erfolgt stationsarzt enger kooperation medizinphysikexperten . pflegerische betreuung erfolgt sieben krankenschwestern vollzeit . jährlich ca . 400 therapien durchgeführt , wobei radiojodtherapie größten anteil darstellt ca . 50 malignen schilddrüsenerkrankungen durchgeführt . multimorbiden patienten erfolgt radiosynoviorthese samariumschmerztherapie ebenfalls rahmen stationären aufenthaltes . arbeitsbereich heißes labor arbeiten vorwiegend zwei mtl - fachkräfte . heißen labor notwendigen radiopharmaka täglich hergestellt sowie qualitätsprüfung durchgeführt . ärztlicher nichtärztlicher stellenplan ärztliche stellenplan nuklearmedizinischen klinik setzt chefarzt , oberarzt , stationsarzt ( regel fa nuklearmedizin ) sowie assistenzarzt weiterbildung zusammen . naturwissenschaftlichen gebiet ärzteteam medizinphysikexperten , physiker , verstärkt . nuklearmedizinischen diagnostik arbeiten weiterhin vier mtr sowie zwei mtl . pflegerische betreuung nuklearmedizinischen therapiestation sieben krankenschwestern gewährleistet . arbeitsplätze täglichen routinebereich rahmen facharztausbildung rotieren assistenzärzte vier arbeitsbereiche . arbeitsbereich untersteht chefarzt oberarzt bzw . facharzt nuklearmedizin direkter ansprechpartner assistenzarztes . dabei jedoch starre einteilung handeln . vielmehr ablauf täglichen arbeiten arbeitsbereich mithilfe arbeitsbereich vorausgesetzt . arbeitsbereich nuklearkardiologie : nuklearkardiologie konnte letzten jahren deutlich weiterentwickeln . dabei besteht enge zusammenarbeit kardiologischen abteilung hauses herzzentrum vielen niedergelassener kardiologen cottbus umgebung . belastungsuntersuchungen rahmen myokardszintigrafie erfolgen regel fahrradergometrie , wobei arbeitsplatz vergangenen jahr hochmodernes ergometriegerät aufgewertet konnte . pharmakologischen belastungen erfolgen regel adenosin kontraindikation adenosin dobutamin . rahmen facharztausbildung kandidat stufendiagnostik koronaren herzerkrankung vertraut . möglichkeit gegeben , echokardiografischen koronarangiografischen untersuchungen hause teilzunehmen . voraussetzung durchführung belastungsuntersuchungen grundlegende verständnis elektrokardiografie . facharztkandidaten erworben . beginn tätigkeit nuklearmedizinischen arbeitsbereich besuch reanimationslehrganges pflicht . übrige konventionelle nuklearmedizin : zeitgleich routinebetrieb erfolgen arbeitsbereich übrigen nuklearmedizinischen untersuchungen , regel vier fünf ganzkörperskelettszintigrafien , zwei lungenszintigrafien , nierenszintigrafien hirnszintigrafien zusammensetzen . bereich ausbildungsassistent erfolgter einarbeitungszeit jederzeit möglichkeit rücksprache facharzt . insbesondere arbeitsbereich facharztkandidat notwendigkeit interdisziplinären zusammenarbeit erkennen , sowohl übrigen diagnostischen untersuchungsverfahren ( sonografie , röntgen , ct , mrt ) einzelnen klinischen fachrichtungen . weiterhin facharztkandidat möglichkeit , zahlreichen klinischen krankheitsbildern auseinanderzusetzen , stellenwert nuklearmedizinischen diagnostik dabei erkennen kontakte entsprechenden kliniken aufzunehmen . rahmen sentinel - diagnostik ( wächterlymphknoten ) facharztkandidat neben präoperativen diagnostik intraoperativen sondierung teilnehmen ( melanomchirurgie , mammachirurgie ). arbeitsplatz schilddrüsensprechstunde : montag , mittwoch , donnerstag zweiten freitag erfolgt 8 : 00 12 : 00 uhr schilddrüsensprechstunde . schilddrüsenkonsultationen stationären patienten ctk durchgeführt sowie untersuchungen ambulanten patienten basis kv - zulassung chefarztes . dabei weit 1 . 000 patienten untersucht . patientenkollektiv setzt neuen patienten zusammen , niedergelassenen ärztlichen kollegen schilddrüsendiagnostik zugewiesen . weiterhin erfolgt rahmen sprechstunde durchführung radiojodtestes , wobei ca . 350 tests pro jahr erfolgen . hälfte patienten schilddrüsenambulanz akquiriert nachsorge klinik durchgeführten radiojodtherapien , jeweils drei zwölf monate therapie durchgeführt . weiterer anteil schilddrüsensprechstunde umfasst ambulante tumornachsorge differenzierten schilddrüsenkarzinome . erfolgt ersten fünf jahren halbjährlich , danach - zweijährlich . auszubildende erlernt arbeitsbereich diagnostische kette schilddrüsenerkrankungen , beginnend fundierten klinischen untersuchung , sonografie , auswertung schilddrüsenszintigramme sowie gegebener indikation durchführung feinnadelpunktionen . neben verschiedenen krankheitsbildern lernt auszubildende dabei therapeutischen möglichkeiten schilddrüsenerkrankungen nuklearmedizinischen möglichkeiten bezug radiojodtherapie . rein rechtlichen gründen erfolgt ausbildung arbeitsplatz immer ständiger kontrolle chefarztes vertreters . ende ausbildungszeit arbeitsplatz facharztkandidat sicherheit szintigrafischen sonografischen diagnostik aufweisen , sowohl praktischen ausführung befunddokumentation . weiterhin sicherheit indikationsstellung verschiedenen interdisziplinären therapieoptionen schilddrüsenerkrankungen besitzen ( konservative therapie , indikation operativen vorgehen , operatives vorgehen ). arbeitsplatz nuklearmedizinische therapiestation : nuklearmedizinische therapiestation besitzt zehn therapiebetten . steht ärztlichen verantwortung stationsarztes , regel nuklearmediziner , bzw . fortgeschrittenen facharztkandidaten , wobei verantwortlichkeit beim oberarzt bzw . chefarzt liegt . zeit facharztkandidat diagnostik therapie stationärer patienten vertraut , täglichen visiten teilnehmen , gemeinsam verantwortlichen ausbilder medizinphysikexperten tägliche dosimetrie patienten überwachen ggf . indikationen nachdosierung gemeinsam erstellen . ausbildungszeit therapiestation ausbildungskandidat mehrfach patienten neu diagnostizierten schilddrüsenkarzinom kennenlernen . dabei neben komplexen krankheitsbild hyperthyreose tiefen unterfunktion schilddrüse kennenlernen , insbesondere neben somatischen psychischen veränderungen . mitverantwortlich einleitung entsprechender sozialmedizinischer maßnahmen , dadurch kennenlernen notwendigen antragstellung mitwirken . therapiestation extra therapiezimmer radiosynoviorthesen erfolgen , daran teilnehmen erfahrungen sammeln punktion unterschiedlichen gelenke nuklearmedizinischen gelenktherapie . betreuung schwerstkranker patienten rahmen nuklearmedizinischen schmerztherapie bestandteil ausbildungszeit . facharztkandidat dabei medizinisch analgetischen therapie ( stufenplan ) auseinandersetzen dabei möglichkeiten , nebenwirkungen kennenlernen . rufbereitschaft gewährleistung 24 - stündigen überwachung therapiepatienten nuklearmedizinischen station steht ärztliche rufbereitschaft außerhalb regulären arbeitszeit sowie wochenenden feiertagen . neben ärztlichen rufbereitschaft besteht weiterhin technische rufbereitschaft medizinphysikexperten bzw . strahlenschutzbeauftragten klinik gewährleistung strahlenschutzes technischen voraussetzungen ( z . b . abklinganlage ). ab zweiten ausbildungsjahr facharztkandidat entsprechender eignung rufbereitschaft teilnehmen , ausgenommen dabei nuklearmedizinische notfalldiagnostik , ctk wesentlichen hirntoddiagnostik beschränkt . zeitlicher ablauf facharztausbildung arbeitsplatzrotation rahmen fünfjährigen facharztausbildung assistenzarzt oben beschriebenen arbeitsplätze absolvieren . dabei folgender ablauf vorgesehen : ausbildungsjahr : diagnostik ii , inklusive „ heißes labor “ mindestens 14 tage . ausbildungsjahr : nuklearmedizinische therapiestation . ausbildungsjahr : diagnostik i ( nuklearkardiologie ), monat hospitation ( pet ) ausbildungsjahr : neun monate schilddrüsenambulanz , drei monate diagnostik i ii . ausbildungsjahr : neun monate diagnostik i ii , drei monate schilddrüsenambulanz . rotation gewährleistet , weiterbildungsordnung vorgegebenen untersuchungsanzahlen erreicht . entsprechend weiterbildungsordnung bestehen folgende optionen : stationszeit sechs monate verkürzt , vorherige ausbildungszeiten facharztkandidaten geeigneten klinischen fach bestehen , vorausgesetzt weiterbildungsordnung angegebenen richtzahlen verkürzten zeitraum erreicht . ausbildungszeit 48 monate verkürzen , facharztkandidat bereits radiologischen klinik entsprechenden facharztausbildungskriterien gearbeitet . voraussetzung erreichens vorgegebenen richtzahlen nuklearmedizinischen untersuchungen ausbildungskandidat möglichkeit hospitation radiologischen klinik hauses sowie möglichkeit hospitation beim kooperationspartner pet - ct - untersuchungen . arbeitstägliche einteilung berücksichtigung urlaub gesundheit erfolgt wöchentlich detaillierten arbeitsplan , zuständigen oberarzt bzw . chefarzt erstellt . interne arbeitsbesprechungen arbeitstäglich erfolgt 14 : 00 uhr befundbesprechung . nehmen ärzte klinik teil . fundamentaler bestandteil facharztausbildung , dabei facharztkandidat untersuchungsergebnisse jeweiligen patienten vorstellen anamnese übrige untersuchungsbefunde berichten . befundbesprechung ausbildungskandidat lage , schriftlichen befund jeweilige untersuchung erstellen chefarzt entsprechend vorzulegen . sollten korrekturen notwendig , erfolgt chefarzt ausbildungsassistent individuell . jeweilige ausbildungsassistent angehalten , absprache oberarzt bzw . chefarzt interessante befundkonstellationen klinikum archivieren . wöchentliche interne interdisziplinäre besprechungen jeweils dienstags 13 : 00 uhr findet klinik sogenannte radiojodrunde statt . dabei ärztlichen mitarbeiter medizinphysikexperte anwesend . runde nochmals untersuchungsbefunde radiojodtherapiepatienten vorgestellt , besprochen entsprechend radiojodtest notwendige therapieaktivität festgelegt . chefarzt vertreter nehmen jeweils freitag 7 : 45 uhr interdisziplinären lungenqualitätszirkel teil . setzt radiologen , pulmologen , thoraxchirurgen , pathologen nuklearmediziner zusammen . interdisziplinären lungenzirkel überwiegend patienten lungenkarzinom vorgestellt , wobei patienten individuelle therapiemöglichkeit entschieden . nuklearmediziner frage staging - untersuchungen ( skelettszintigrafie , lungenszintigrafie ) anwesend , sowie insbesonders indikationsstellung notwendigen pet - ct - untersuchung . prinzipiell pet - ct - untersuchungen , ctk notwendig , chefarzt bzw . vertreter hinsichtlich indikation geprüft . sämtliche eingegangenen befunde nuklearmediziner interdisziplinären besprechungen vorgestellt . bestätigung indikation pet - ct - untersuchung erfolgt chefarzt bzw . vertreter notwendige beantragung beim kassenärztlichen dienst krankenkassen gewährleistung abrechnung notwendigen pet - ct - untersuchung . soweit möglich facharztkandidat jeweiligen lungenzirkel teilnehmen , pet - ct - befunden vertraut , jeweils möglicherweise schon demonstration chefarzt diskutiert . weiterhin erfolgen ctk cottbus mittwochs donnerstags 7 : 45 uhr interdisziplinäres , chirurgisches tumorboard board darm - pankreaszentrums . dabei malignome verschiedenen entitäten vorgestellt , insbesondere frage weiteren prozedere . neben üblichen staging - untersuchungen ( z . b . skelettszintigrafie ) anwesende nuklearmediziner dafür verantwortlich , indikation pet - ct - untersuchung mitzubestimmen bzw . eingegangene befunde kooperationspartner demonstrieren . jeweilige facharztkandidat veranstaltungen teilnehmen vorbereitung demonstration chefarzt bzw . oberarzt einzelnen befunde besprechen . mittwochs 13 . 30 uhr erfolgt jeweils mamma / gynäkologisches tumorboard . weitere interdisziplinäre veranstaltungen entsprechenden befunddokumentationen monatlich rahmen onkologischen zentrums prostatazentrums durchgeführt . erfolgt enge interdisziplinäre zusammenarbeit entsprechenden involvierten fachrichtungen . teilnahme facharztkandidaten vorgesehen . einarbeitung auszubildenden direkt dienstantritt , aufnahme jeglicher tätigkeit überwachungs - bzw . kontrollbereich klinik , erfolgt neuen mitarbeiter unterweisung strahlenschutz jeweils zuständigen strahlenschutzbeauftragten , regel medizinphysikexperten . arbeitsplatzeinarbeitung jeweiligen arbeitsplätzen erfolgt folgendem grundprinzip : ersten zwei wochen mitarbeiter facharzt zugeteilt , einschließlich chefarzt oberarzt , arbeitsplatz betreut . dabei ausbildungskandidat arbeitsabläufe jeweiligen arbeitsplatz kennenlernen . folgen zwei weitere wochen , denen mitarbeiter arbeitsplatz selbstständig tätig , unmittelbar facharzt kontrolliert . weiteren verlauf auszubildende untersuchungen selbstständig durchführen , wobei gewährleistet , facharztausbildungskandidat jederzeit facharzt zurückgreifen . rückkopplung ausbilder - auszubildender prinzipiell facharztkandidat täglich möglichkeit , bestehenden problemen chefarzt bzw . abwesenheit oberarzt kontaktieren . optimierung facharztausbildung gewährleistung entsprechenden zufriedenheit sollten jedoch halbjährlich festgesetzte gesprächstermine auszubildenden chefarzt klinik bestehen . hierbei erfolgte ausbildung reflektiert , mögliche probleme analysiert entsprechende lösungen gefunden . individuelle wünsche ausbildungskandidaten besonders eingegangen . weitere inhaltsformen weiterbildung ausbildungszeit facharztkandidat möglichkeit , entsprechend jeweiligen arbeitsgebiet entsprechende medien weiterzubilden . neben gewährleistung internetanschlusses steht dabei klinikinterne bibliothek jederzeit verfügung . ausbildungskandidat aktiv weiterbildungsroutine klinik ( monatlich klinikweiterbildung mitarbeiter ) integriert . facharztkandidat weiterhin bestehenden arbeitsanleitungen , strahlenschutzanweisungen sowie üblichen dokumenten klinik vertraut gerade auseinandersetzung möglicherweise aktiv aktualisierung beteiligt . facharztausbildung ausbildungskandidaten veranschaulicht , interdisziplinäre zusammenarbeit unabdingbar nuklearmediziner . ctk krankenhaus maximalversorgung verfügt fast gängigen fachrichtungen . entsprechende fortbildungsangebote halbjährlichen plan zentral ctk ausgegeben . ausbildungskandidat aktiv möglichkeit nutzen , wobei chefarzt entsprechende richtungen vorweisen . neben notwendigen interdisziplinären ärztlichen zusammenarbeit facharztausbildungskandidaten beginn ausbildungszeit klar , tätigkeit zusammenhang naturwissenschaftlichen mitarbeitern möglich , insbesondere große bedeutung medizinphysikexperten tägliche arbeitspraxis . enge interaktion nuklearmediziner medizinphysikexperten widerspiegelt alltäglichen ebene . ausbildungskandidat deshalb entsprechenden qualitätsprüfungen ( konstanzprüfung , messtechnik , datenauswertung speicherung sowie strahlenschutz ) involviert . hinsichtlich strahlenschutzes ausbildungskandidat ersten ausbildungsjahr allgemeinen speziellen strahlenschutzkurs teilnehmen , wobei entsprechende unterstützung finanziellen belastung haus erfolgen . neben klinikinternen weiterbildungen ausbildungskandidat möglichkeit teilnahme überregionalen fortbildungsveranstaltungen . prinzipiell ausbildungskandidaten eintritt berlin - brandenburgische gesellschaft nuklearmedizin nahegelegt , gerade jahrestagungen verschiedenen regionalen nuklearmedizinischen gesellschaften wichtige themen diskutiert . ausbildungskandidaten teilnahme veranstaltungen ermöglicht . umsetzung vorgeschriebenen weiterbildungsinhalte vorliegenden ausbildungsplan erfüllung allgemeinen inhalte weiterbildung abschnitte b c weiterbildungsordnung grundlagen strahlenbiologie strahlenphysik anwendung ionisierender strahlen menschen sowie grundlagen strahlenschutzes beim patienten personal einschließlich personalüberwachung sowie baulichen apparativen strahlenschutzes vorliegenden ausbildungsplan wöchentlichen internen interdisziplinären besprechungnen , einarbeitung auszubildenden weitere inhaltsformen weiterbildung vermittelt . kenntnisse , erfahrungen fertigkeiten messtechnik einschließlich datenverarbeitung sowie indikationsstellung , untersuchung behandlung radiodiagnostika therapeutika vorliegenden ausbildungsprogramm beschriebene rotation verschiedenen arbeitsplätze erreicht ( siehe arbeitsplätze täglichen routinebereich arbeitsplatzrotation ). kenntnisse , erfahrungen fertigkeiten nuklearmedizinischen - vivo - - vitro - diagnostik verwendung organ -/ zielgerichteten radiodiagnostika therapeutika einschließlich befundanalyse , schweregrad , prognose therapieeffizienzbestimmungen vorliegenden ausbildungsprogramm ebenfalls rotation diagnostik , nuklearmedizinischen therapiestation , tätigkeiten sogenannten „ heißen labor “ radiochemie vermittelt . insbesondere dokumentation therapieerfolgen erfolgt schilddrüsensprechstunde dreimonats - jahreskontrollen radiojodtherapien . kenntnisse , erfahrungen fertigkeiten molekularen bildgebung , insbesondere radiopharmazeutika , ebenfalls tätigkeit nuklearmedizinischen diagnostik vermittelt . notwendige erfahrungen fdg - pet - diagnostik interdisziplinären befunddemonstrationen vermittelt . hospitation entsprechenden pet - kooperationspartnern ( charité , klinikum potsdam ) ausbildungszeit vorgesehen . kenntnisse , erfahrungen fertigkeiten nuklearmedizinischen therapie einschließlich verbundenen nachsorge sowie therapieplanung berücksichtigung dosisberechnung vorliegenden ausbildungsplan zwölfmonatigen einsatz unserer nuklearmedizinischen therapiestation gewährleistet ( 2 . ausbildungsjahr ). nachsorge radiojodtherapien erfolgt schilddrüsensprechstunde . teilnahme ebenfalls zwölf monaten vorgesehen . rahmen ambulanz erfolgt therapiekontrolle durchgeführten radiosynoviorthesen . dosisberechnungen erfolgen jeweils dienstags 13 : 00 uhr sogenannten radiojodrunde . kenntnisse , erfahrungen fertigkeiten radiochemie gebietsbezogenen immunologie radiopharmakologie vorliegenden ausbildungsplan rotation sogenannte „ heiße labor “ mindestens monat gewährleistet . weiterhin besteht gute zusammenarbeit zentrallabor ctk , z . b . installation betreuung hochdruckchromatographie nuklearmedizinischen klinik vorgesehen . kenntnisse , erfahrungen fertigkeiten gebietsbezogenen arzneimitteltherapie ausbildungskandidaten sprechstunde vermittelt sowie tätigkeit nuklearmedizinischen therapiestation , geringeren maße auseinandersetzung rahmen bildgebenden diagnostik . kenntnisse , erfahrungen fertigkeiten interdisziplinären zusammenarbeit zwecks kombination behandlungsverfahren erfährt ausbildungskandidat täglichen diagnostischen praxis sowie teilnahme entsprechenden interdisziplinären zirkeln ( lungenqualitätszirkel , interdisziplinäres tumorboard rahmen onkologischen zentrums , prostatazentrum , geplant : mamma - zentrum ). gewährleistung notwendigen untersuchungsanzahlen vorliegenden ausbildungsplan oben geschilderte arbeitsplatzrotationen folgende ausbildungszeiten verschiedenen ausbildungsplätzen gewährleistet : diagnostik i ( nuklearkardiologie ): 17 monate diagnostik ii ( übrige diagnostik ): 17 monate schilddrüsensprechstunde : 12 monate nuklearmedizinische therapiestation : 12 monate „ heißes labor “: monat pet - hospitationen : monat folgende leistungszahlen konnten jahr 2014 nuklearmedizinischen klinik erreicht : ultraschalluntersuchungen schilddrüse halsweichteile ca . 1 . 500 , vorgegebene richtzahl 700 ambulanzzeit erreicht . ultraschalluntersuchungen abdomens urogenitalbereiches lernt ausbildungskandidat entsprechenden szintigrafischen diagnostik ( leberszintigrafien , nierenszintigrafien ). ferner ausbildungskandidat grundkurs abdomen sonografie optional aufbaukurs besuchen . zentrales nervensystem : 2014 wurden unserer nuklearmedizinischen klinik 115 rezeptorszintigrafien ( ibzm , datscan ), 20 perfusionsszintigramme ( ceretec ) sowie fünf liquorszintigrafien durchgeführt . geplanten ausbildungszeit diagnositk ii 17 monaten somit vorgegebene richtzahl 150 untersuchungen erreicht . skelett - gelenkszintigrafien : jahr 2014 wurden klinikum 470 gelenkszintigrafien durchgeführt . geplanten ausbildungszeit 17 monaten vorgegebene richtzahl 800 untersuchungen erreicht . nuklearkardiologie : jahr 2014 wurden klinik 900 myokardszintigrafien sowohl ruhe belastung durchgeführt . geplanten ausbildungszeit diagnostik i 17 monaten geforderte richtzahl 500 deutlich überschritten . respiration , lungeninhalations - - perfusionsszintigrafie : 2014 wurden ctk 195 perfusions - ventilationsszintigrafien durchgeführt . geplanten ausbildungszeit 17 monaten geforderte richtzahl 200 untersuchungen erreicht . gastrointestinaltrakt : 2014 wurden nuklearmedizinischen klinik fünf speicheldrüsenszintigrafien , 20 ösophagus -/ magenmotilitätsszintigrafien , fünf gallensäureresorptionstests , fünf hepatobiliäre funktionsszintigrafien sowie zwei blutpoolszintigrafien milzszintigrafie durchgeführt . daraus resultiert gesamtanzahl gastrointestinaler nuklearmedizinischer verfahren 38 . vorhergehenden ausbildungsintervall 17 monaten somit geforderte richtzahl ( 50 ) erreicht . urogenitalsystem : 2014 wurden klinikum 75 dynamische nierenfunktionsszintigrafien sowie statische nierenszintigrafie durchgeführt . geplanten ausbildungszeit 17 monaten diagnostik ii liegt vorgegebene richtzahl 215 152 erreicht . kandidat gesamten ausbildung täglichen befundbesprechungen teilnimmt jeweiligen untersuchungen auseinandersetzen , gewünschte untersuchungsanzahl erreicht . endokrine organe : 2014 wurden 980 schilddrüsenszintigrafien 390 radiojodtests durchgeführt , weiterhin 20 nebenschilddrüsenszintigrafien . ausbildungskandidat somit vorgegebene richtzahl deutlich überschreiten ( richtzahl 800 ). hämatopoetisch - lymphatisches system : jahr 2014 wurden klinik fünf blutungsquellenszintigrafien , 75 lymphabstromszintigrafien , einschließlich sentineldetektion , zehn antigranulozytenszintigrafien , 60 tumorszintigrafien , zehn nebennierenszintigrafien durchgeführt , woraus gesamtzahl 160 untersuchungen resultiert . direkten ausbildungszeit diagnostik ii ausbildungskandidat vorgegebene richtzahl 400 knapp erreichen . gesamten ausbildungszeit täglichen befundbesprechungen teilnimmt , ausbildungszahl deutlich überschreiten . radiojodtherapien benignen schilddrüsenerkrankungen : 2014 wurden klinikum 250 radiojodtherapien benignen erkrankungen durchgeführt . vorgegebene richtzahl 200 somit deutlich überschritten . radiojodtherapien radiojoddiagnostik malignen schilddrüsenerkrankungen : 2014 wurden 60 radiojodtherapien radiojodablationskontrollen durchgeführt . vorgegebene anzahl 50 somit erreicht . nuklearmedizinische therapie soliden systemischen malignen tumoren / benignen erkrankungen : 2014 wurden klinikum 60 radiosynoviorthesen sowie 17 samariumschmerztherapien durchgeführt . vorgegebene anzahl 25 somit deutlich überschritten . oben genannten vergleiche angestrebter richtzahl tatsächlich durchgeführten untersuchungen somit fast punkten erfüllt . ausbildungskandidat jedoch täglichen befundbesprechungen teilnimmt sowie wöchentlichen chefarztvisiten radiojodrunden , erreichten ausbildungszahlen deutlich früher erreicht . nuklearmedizinischen kliniken untersuchungen mehr durchgeführt , z . b . schillingtests . einerseits daran liegen , entsprechende radiopharmakon mehr erhältlich bzw . entsprechende anforderungen fehlen ( z . b . hinsichtlich augenszintigrafien ). ausbildungszeit ausbildungskandidat jedoch geeignete maßnahmen , selbststudien vorhandene befunddokumentationen nuklearmedizinischen untersuchungsverfahren auseinandersetzen . chefarzt zuletzt vorprüfungsgesprächen facharztausbildung sichergestellt . kontakt nuklearmedizinische klinik ( 0355 ) 46 - 26 60 ( 0355 ) 46 - 22 51 e - mail senden nuklearmedizin ( at ) ctk . de finden : haus 5 ebene 0 lageplan sprechstunden team siegel zertifikate carl - thiem - klinikums ctk bestrebt , ständig qualität medizinischen behandlung , patientenfreundlichkeit service verbessern . zertifikate qualitätssiegel anerkennung unserer bisherigen bemühungen . kontakt allgemeines adresse carl - thiem - klinikum thiemstr . 111 03048 cottbus zentrale ( 0355 ) 46 - 0 info ( at ) ctk . de themen bewegen onkologisches zentrum patienten & besucher chirurgie frauenklinik psychiatrie carl - thiem - klinikum cottbus ggmbh startseite kontakt impressum & datenschutz drucken × kontakt notfall zentrale notaufnahme ctk ( 0355 ) 46 - 29 59 zna 24 stunden / tag haus 3 , ebene 1 , anfahrt leipziger straße schlaganfalltelefon ctk ( 0355 ) 46 - 30 00 \" sekunden zählen ...\" kreißsaal ctk ( 0355 ) 46 - 22 33'\n",
            " 'satzung tumorzentrum klinikum kassel skip to main content klinikum kassel tumorzentrum phone route contact you are here home klinikum kassel zentren tumorzentrum satzung interdisziplinäres tumorzentrum nordhessen klinikum kassel satzung geschäftsführung klinikum kassel gmbh aufgrund beschlusses mitgliederversammlung folgende satzung bestätigt präambel versorgung onkologischer patienten klinikum kassel gmbh einzigem krankenhaus maximalversorgung nordhessen vielzahl fachabteilungen erstreckender behandlungsschwerpunkt interdisziplinäre tumorzentrum nimmt fachübergreifende koordination aktivitäten betreffenden fachabteilungen organspezifischen zentren wahr stärkt interdisziplinäre zusammenarbeit darüber hinaus steht interdisziplinäre tumorzentrum onkologisch tätigen krankenhäusern niedergelassenen ärzten region beratend verfügung ziel interdisziplinären tumorzentrums patientinnen patienten versorgungsgebiet zugang aktuellen diagnostik therapieverfahren ermöglichen ziele aufgaben ziele aufgaben interdisziplinären tumorzentrums krankenversorgung organisation interdisziplinären zusammenarbeit früherkennung diagnostik therapie nachsorge tumorerkrankungen implementierung weiterentwicklung qualitätspolitik interdisziplinären tumorboards fort weiterbildung gebiet klinischen onkologie stärkung klinischer forschung durchführung studien aufbau weiterentwicklung tumordokumentation verwertung ergebnisse beratung kooperation onkologisch tätigen kliniken niedergelassenen ärzten region organe einrichtungen organe interdisziplinären tumorzentrums mitgliederversammlung direktorium operative leitung einrichtungen interdisziplinären tumorzentrums interdisziplinäre tumorboard interdisziplinären tumorkonferenzen onkologischen arbeitskreise tumordokumentation finanzierung mittelbeschaffung verwendung betrieb interdisziplinären tumorzentrums pflegesatzrelevanten einnahmen klinikum kassel gmbh sowie spenden stiftungen sonstigen zuwendungen drittmitteln finanziert klinikum kassel richtet kostenstelle interdisziplinäre tumorzentrum versieht interdisziplinäre tumorzentrum budget jährlich geschäftsführung klinikums direktorium interdisziplinären tumorzentrums vereinbart verwaltung drittmittel bestimmungen jeweils aktuellen fassung dienstanweisung korruptionsvermeidung regelung zusammenarbeit geschäftsbeziehungen externen vorgenommen soweit drittmittel einzelne mitglieder eingeworben steht interdisziplinären tumorzentrum mitspracherecht verwendung mittel falls interdisziplinäre tumorzentrum ganzes drittmittel einwirbt entscheidet direktorium abstimmung geschäftsführung klinikums kassel verwendung mittel mitglieder interdisziplinären tumorzentrum ordentliche mitglieder interdisziplinären tumorzentrums institutionen bereichen krebstherapie diagnostik forschung prävention tätig institutionen krankenhäuser fachabteilungen arztpraxen hospize vergleichbare einrichtungen handeln zeitpunkt gründung interdisziplinären tumorzentrums folgende institutionen ordentliche mitglieder interdisziplinären tumorzentrums ärztlicher direktor klinikums kassel institut allgemeine interventionelle radiologie klinikum kassels zuvor institut diagnostische interventionelle radiologie institut pathologie klinikum kassels klinik allgemein viszeralchirurgie klinikum kassels zuvor klinik allgemein viszeral thoraxchirurgie klinik dermatologie klinikum kassels zuvor hautklinik klinik frauenheilkunde geburtshilfe klinikum kassel zuvor frauenklinik klinik gastroenterologie endokrinologie diabetologie allgemeine innere medizin klinikum kassels zuvor medizinische klinik i klinik halsnasenohrenheilkunde klinikum kassels klinik kinderchirurgie zentrum schwerbrandverletzte kinder klinikum kassels zuvor abteilung kinderchirurgie kinderkrankenhauses park schönfeld klinik neurochirurgie klinikum kassels klinik onkologie hämatologie klinikum kassels zuvor medizinische klinik iv klinik pädiatrische hämatologie onkologie zuvor klinik kinderonkologie klinik plastischrekonstruktive ästhetische handchirurgie klinikum kassels zuvor klinik plastische ästhetische handchirurgie klinik psychiatrie psychotherapie klinikum kassels klinik thoraxchirurgie klinikum kassels zuvor klinik allgemein viszeral thoraxchirurgie klinik unfallchirurgie orthopädische chirurgie klinikum kassels klinik urologie klinikum kassels praxis dr tebbe hämatologie onkologie zmv zentrum medizinische versorgung klinikum kassels zuvor zentrum medizinische versorgung nuklearmedizin gemeinschaftspraxis strahlentherapie institut neuroradiologie weitere institutionen satz formulierten anforderungen genügen jederzeit gleichberechtigte mitglieder aufnahme neuer mitglieder erfolgt deren antrag beschluss direktoriums status ordentlichen mitglieds erfolgt aufnahme zunächst jahr probe unbefristete aufnahme ordentliches mitglied erfolgt ablauf probezeit beschluss direktoriums soweit neue ordentliche mitglied konstruktiv arbeit tumorzentrums beteiligt insbesondere pflichten gemäß erfüllt einrichtungen klinikums kassel kinderkrankenhauses park schönfeld antrag ende direkt status ordentlichen mitgliedes aufgenommen probezeit durchlaufen außerordentliche mitglieder interdisziplinären tumorzentrums natürliche personen persönlich bereichen krebstherapie diagnostik forschung prävention tätig mitgliedern insbesondere mitarbeiter ordentlichen mitglieder handeln weiterhin institutionen status ordentlichen mitglieds anstreben anforderungen absatz entsprechen kooperationspartner interdisziplinären tumorzentrums arbeiten außerordentliche mitgliedschaft beantragen mitgliedschaft endet austritt direktorium schriftlich mitzuteilen frist drei monaten ende kalenderquartals wirksam ausschluss ausschluss erfolgt geschäftsführung klinikum kassel gmbh vorschlag direktoriums einrichtung angabe gründe schriftlich mitgeteilt ordentliche mitglieder institutionelle außerordentliche mitglieder mitgliederversammlung tumorkonferenzen sonstigen veranstaltungen regel chefärztin bzw chefarzt vertreten wiederum onkologische erfahrenen fachärztinfacharzt vertreten lassen arztpraxen mindestens praxisinhaber vertreten entsprechendes gilt einrichtungen anforderungen absatz erfüllen rechte pflichten mitglieder ordentlichen mitglieder interdisziplinären tumorzentrums erbringen gesamtheit notwendigen leistungen diagnostik behandlung krebserkrankungen ordentlichen mitglieder arbeiten eng zusammen patienten bestmögliche versorgung sicherzustellen interdisziplinäre tumorzentrum unterstützt koordiniert sowohl interdisziplinäre zusammenarbeit ordentlichen mitglieder untereinander zusammenarbeit externen partnern gegenzug unterstützen ordentlichen mitglieder arbeit interdisziplinären tumorzentrums pflichten rahmen zusammenarbeit wahrnehmen einzelnen verpflichten ordentlichen mitglieder folgende beiträge arbeit interdisziplinären tumorzentrums leisten a teilnahme tumorkonferenzen ordentlichen mitglieder entsenden tumorkonferenzen jeweils mindestens onkologisch erfahrenen facharzt entbindung pflicht fallweise möglich tumorkonferenz patientenfälle geplant deren behandlung ordentliche mitglied beteiligt teilnahme hinaus verpflichten ordentlichen mitglieder sekretariat tumorzentrums behandlungsfälle vorstellung tumorkonferenz spätestens arbeitstag sitzung melden erforderlichen daten krankenunterlagen bereitzustellen b benennung ansprechpartnern sicherstellung deren erreichbarkeit gemäß vorgaben interdisziplinären tumorzentrums stellen ordentlichen mitglieder sicher veröffentlichten zeiten onkologisch erfahrener facharzt anfragen niedergelassene ärzte erreichbar rückrufservice bereitgestellt c bereitstellung konsiliardienstes ordentlichen mitglieder unterstützen tumorbehandlung gegenseitig ermöglichen wunsch mitglieds gemeinsame untersuchung begutachtung patienten ggf rahmen interdisziplinären spezialsprechstunden d tumordokumentation veröffentlichung qualitätsdaten ordentlichen mitglieder führen umfassende tumordokumentation melden fälle hessische krebsregister interdisziplinäre tumorzentrum strebt fachübergreifendes edvdokumentationssystem etablieren ordentlichen mitgliedern klinikum kassel gemeinsames dokumentationssystem genutzt angestrebt meldung fälle krebsregister interdisziplinäre tumorzentrum abgewickelt interdisziplinäre tumorzentrum erstellt jährlich qualitäts tätigkeitsbericht auswahl qualitätsdaten ordentlichen mitglieder veröffentlicht ordentlichen mitglieder stellen direktorium operativen leitung dafür daten verfügung e bereitstellung bearbeitungsvorgaben interdisziplinäre tumorzentrum sekretariat interdisziplinären tumorzentrums nimmt anrufe außen entgegen leitet ordentlichen mitglieder ordentlichen mitglieder verpflichtet mitarbeiterinnen sekretariats verfahrensanweisungen hand geben denen mitarbeiterinnen handeln sollen regeln sprechstundentermine vergeben dürfen anfragen ansprechpartner ordentlichen mitglieds weiterzuleiten f teilnahme arbeitsgruppen festlegung therapieschemata behandlungspfaden ordentlichen mitglieder interdisziplinären tumorzentrums entsenden projektgruppen weiterentwicklung interdisziplinären zusammenarbeit festlegung gemeinsamer behandlungsschemata jeweils mindestens onkologisch erfahrenen facharzt soweit behandlung tumorentität fachgebiet fällt sobald projektgruppe behandlungsschema festgelegt beschluss direktoriums verbindlich ordentlichen mitglieder g beteiligung maßnahmen öffentlichkeitsarbeit fortbildungsveranstaltungen maßnahmen gemeinsamen außendarstellung öffentlichkeitsarbeit sowie durchführung fort weitebildungs informationsveranstaltungen ordentlichen mitglieder entsprechend vorgaben direktoriums beteiligen ) details absatz ( 2 ) genannten pflichten interne arbeitsanweisung interdisziplinären tumorzentrums geregelt . arbeitsanweisung leitung interdisziplinären tumorzentrums vorbereitet mitgliederversammlung verabschiedet . direktorium recht , ordentliche mitglieder , wiederholt vorgaben arbeitsanweisung missachten , verwarnen . fortgesetztem verstoß direktorium ausschlussverfahren einleiten . ( 4 ) ordentlichen mitglieder interdisziplinären tumorzentrums folgende rechte : a ) teilnahme mitgliederversammlung b ) entgegennahme berichtes direktoriums c ) anhörungs - vorschlagsrecht mitgliederversammlung d ) wahl entlastung direktoriums e ) abstimmung grundsatzfragen tumorzentrums rahmen mitgliederversammlung f ) darstellung eigenen institution internetseiten veröffentlichungen tumorzentrums g ) nutzung tätigkeiten operativen leitung sekretariates tumorzentrums h ) passives wahlrecht wahl direktoriums ( 5 ) rechte außerordentlichen mitglieder innerhalb interdisziplinären tumorzentrums beschränken grundsätzlich punkte a ) c ) absatzes ( 4 ) darüber hinaus besonderen kooperationsvereinbarung geregelt . gleiches gilt pflichten , insbesondere mitarbeit entwicklung tumordatenbank verfügung stellen patientendaten . mitgliederversammlung abstimmungen stimmrecht . ( 6 ) außerordentlichen externen mitglieder , d . h . anstellungsverhältnis tochtergesellschaften gesundheit nordhessen holding ag stehen , recht , jahr außerordentlichen mitgliedschaft ordentlichen mitgliedschaft beantragen . antrag entscheidet direktorium . zustimmung statuswechsel diejenigen ordentlichen mitglieder , anstellungsverhältnis gesellschaften gesundheit nordhessen holding ag stehen , verpflichtet dafür sorge tragen , vorgestellten patientinnen / en verwendung daten tumorkonferenz bzw . speicherung tumordatenbank zustimmen sonstigen bestimmungen datenschutzes ärztlichen schweigepflicht eingehalten . § 6 mitgliederversammlung ( 1 ) mitgliederversammlung mindestens zweimal jährlich schriftlich frist vier wochen mitteilung tagesordnung direktorium einberufen . außerordentliche mitgliederversammlungen veranlassung direktoriums frist angabe beratungsgegenstandes einberufen mindestens 30 % stimmberechtigten mitglieder schriftlich beantragen . ( 2 ) mitgliederversammlung aufgaben zuständig , organ übertragen , insbesondere : a ) entgegennahme jahresberichtes sprecher direktoriums b ) entlastung direktoriums c ) wahl direktoriums d ) beschlussfassung grundsatzfragen ausrichtung tätigkeit tumorzentrums e ) satzungsänderungen ( 3 ) mitgliederversammlung fasst beschlüsse einfacher mehrheit . dabei verfügt ordentliche mitglied stimme , unabhängig davon , viele mitarbeiter mitgliederversammlung vertreten . satzungsänderungen zweidrittelmehrheit beschlossen . ( 4 ) sitzungen direktorium einberufen . außerhalb sitzungen , soweit zwingend recht form vorschreibt , schriftliche , fernschriftliche telefonische abstimmung gefasst , mitglied abstimmung beteiligt . ( 5 ) einberufung erfolgt schriftlich mitglied angabe ort , zeit tagesordnung frist mindestens vier wochen ordentlichen mitgliederversammlungen ; eilbedürftigkeit einberufung angemessener kürzerer frist erfolgen . ( 6 ) mitgliederversammlung beschlussfähig , mindestens hälfte mitglieder vertreten . weniger hälfte mitglieder vertreten , beachtung abs . 4 frist mindestens vier wochen neue mitgliederversammlung gleicher tagesordnung einzuberufen . rücksicht zahl anwesenden mitglieder beschlussfähig , falls hierauf einladung hingewiesen . ( 7 ) sämtliche mitglieder anwesend vertreten beschlussfassung einverstanden , beschlüsse gefasst , einberufung geltenden gesetzlichen satzungsmäßigen bestimmungen eingehalten . ( 8 ) verhandlungen mitgliederversammlung verlauf versammlung niederschrift anzufertigen , ort , zeit , teilnehmer , tagesordnung , wesentlicher inhalt verhandlungen beschlüsse mitgliederversammlung anzugeben . niederschrift schriftführer leiter sitzung unterzeichnen . mitglied geschäftsführung klinikums kassel abschrift niederschrift übersenden . § 7 direktorium ( 1 ) direktorium kreis ordentlichen mitglieder mitgliederversammlung amtsdauer zwei jahren gewählt . setzt zusammen vorsitzenden ( sprecher ) zwei stellvertretern . ( 2 ) direktorium berät mindestens viermal jährlich . beschlussfähig , drei mitglieder anwesend . beschlüsse einfacher stimmenmehrheit gefasst . gefassten beschlüsse protokolliert vorsitzenden unterzeichnet . mitglieder interdisziplinären tumorzentrums sowie geschäftsführung klinikum kassel gmbh erhalten jeweils exemplar protokolle . ( 3 ) direktorium leitungsgremium interdisziplinären tumorzentrums . aufgaben gehören insbesondere : a ) einrichten tumorboards projektgruppen b ) beschluss behandlungspfaden vorschlag entwicklung betrauten projektgruppen c ) beschlussfassung aufnahme neuer mitglieder ausschluss mitgliedern folgende entscheidungen bereitet direktorium : a ) strategische ausrichtung tumorzentrums b ) qualitätsverbessernde maßnahmen berücksichtigung wirtschaftlichkeitsgebotsentscheidungen interdisziplinären forschungsprojekten studien c ) vorschlag geschäftsführung verwendung mitteln d ) konzeptentwicklung implementierung fachabteilungsübergreifender strukturen einrichtungen e ) konzeptionelle strategische weiterentwicklung tumorzentrums entscheidung entwürfe direktoriums mitgliederversammlung einfacher mehrheit getroffen . § 8 operative leitung interdisziplinären tumorzentrums ( 1 ) organisation durchführung aufgaben tumorzentrums obliegt hauptamtlichen operativen leitung . gebunden beschlüsse direktoriums sowie weisungen vorsitzenden . operative leitung nimmt sitzungen tumorzentrums teil bereitet . ( 2 ) aufgaben operativen leitung insbesondere a ) organisation vorbereitung sitzungen direktoriums b ) vorbereitung umsetzung beschlüsse direktoriums c ) regelmäßige berichterstattung interdisziplinäre tumorzentrum direktorium d ) identifizierung chancen risiken interdisziplinären tumorzentrums e ) führung direkten mitarbeiter interdisziplinären tumorzentrums f ) organisation durchführung veranstaltungen information , - weiterbildung personals externer dritter g ) bemühungen zuwendungen dritter h ) durchführen maßnahmen öffentlichkeitsarbeit i ) organisation tumordokumentation arbeit interdisziplinären tumordokumentare j ) jährliche erstellung tätigkeits - qualitätsberichtes interdisziplinären tumorzentrum § 9 wirtschaftliche beziehungen tumorzentrums wirtschaftlichen beziehungen interdisziplinären tumorzentrums klinikum kassel gmbh geregelt . arbeits -, kauf - dienstleistungsverträge klinikum kassel gmbh abgeschlossen verwaltet . soweit mitglieder interdisziplinären tumorzentrums gleichzeitig vergütung leistungen tumorzentrum erbringen sollen , klinikum kassel gmbh entsprechender dienstleistungsvertrag geschlossen . § 10 haftung verantwortung krankenversorgung liegt beim behandelnden arzt . therapieempfehlungen interdisziplinären tumorzentrums einzelfall verbindlich , haftung ausgeschlossen . § 11 änderungen satzung satzung aufgrund votums mitgliederversammlung mehrheit zwei dritteln nachfolgendem bestätigenden beschluss geschäftsführung geändert . § 12 inkrafttreten satzung tritt 1 . september 2008 kraft . 23 . 02 . 09 wurde satzung geändert unterpunkten 5 6 § 5 . 20 . 02 . 14 wurde satzung unterpunkt 1 § 3 orthographie geändert . kooperationsvereinbarung interdisziplinären tumorzentrum klinikum kassel , mönchebergstr . 41 – 43 , 34123 kassel , vertreten direktorium prof . dr . martin wolf , prof . dr . thomas dimpfl prof . dr . jürgen faß , - folgenden tumorzentrum - .... - folgenden außerordentliches mitglied präambel tumorzentrum wurde zweck fachübergreifenden koordination aktivitäten optimalen versorgung onkologischer patientinnen /- en gegründet steht onkologisch tätigen krankenhäusern , niedergelassenen ärzten sonstigen behandlung patientengruppe eingebundenen institutionen beratenden verfügung . ziel zentrums , patientinnen /- en versorgungsgebiet zugang aktuellen diagnostik - therapieverfahren ermöglichen breiten fachlichen erfahrungsaustausch optimierung verfahren beizutragen . hintergrund schließen parteien kooperationsvereinbarung : § 1 allgemeinen grundlagen außerordentliche mitglied erkennt satzung tumorzentrums kassel 01 . 09 . 08 . satzung rechte pflichten außerordentlichen mitglieder geregelt . § 2 rechte pflichten ( 1 ) außerordentliche mitglied zeitnah tumorzentrum zweitmeinung patienten einholen , interdisziplinären tumorkonferenzen vorstellt mitglieder tumorzentrums vorstellen lässt . ( 2 ) außerordentliche mitglied möglichkeit , studien aktiv teilzunehmen . ( 3 ) außerordentlichen mitglied steht rahmen vorhandenen kapazitäten frei , tumorzentrum angebotenen fortbildungsveranstaltungen aktiv teilzunehmen . ( 4 ) besteht möglichkeit , jahr außerordentlichen mitgliedschaft status ordentlichen mitglieds beantragen . antrag entscheidet direktorium . ( 5 ) außerordentlichen mitglieder wunsch status namentlich homepage tumorzentrums ( www . tumorzentrum - kassel . de ) veröffentlicht . zudem außerordentliche mitglied berechtigt , kooperationspartner tumorzentrums kassel aufzutreten mitgliedschaft kenntlich . ( 6 ) außerordentliche mitglied verpflichtet , etablierung klinischen krebsregister umfassenden tumordatenbank mitzuarbeiten , erfassung nachsorgedaten umfasst . gegenzug mitglied zugang auswertungen eigenen patienten tumordatenbank . ( 7 ) außerordentliche mitglied dafür sorge tragen , patienten bzw . deren daten , interdisziplinären tumorkonferenzen tumorzentrums vorgestellt tumordatenbank gespeichert , darüber informiert . außerordentliche mitglied dafür verantwortlich , patientinnen /- en behandelnde / n ärztin / arzt / ärztlichen schweigepflicht insoweit entbindet , vorstellung tumorkonferenz erforderlich . außerordentliche mitglied verhältnis patientinnen /- en einhaltung datenschutzrelevanten bestimmungen verantwortlich . § 3 haftung letztverantwortung diagnostischen therapeutischen maßnahmen liegt immer / behandelnden ärztin / arzt . besprechung behandlungsfalles tumorkonferenzen entbindet verantwortung . haftung tumorzentrums behandlungsfehler ausgeschlossen . § 4 laufzeit kooperationsvereinbarung folgen kündigung ( 1 ) kooperationsvereinbarung unbestimmte zeit geschlossen . ( 2 ) außerordentliche mitgliedschaft grundsätzlich quartalsende schriftliche erklärung gegenüber direktorium gekündigt . § 5 schlussbestimmungen ( 1 ) änderungen ergänzungen vereinbarung bedürfen schriftform . gilt schriftformerfordernis . ( 2 ) sollten einzelne bestimmungen vereinbarung unwirksam , dadurch wirksamkeit übrigen inhalte berührt . fall unwirksamkeit parteien bestimmung vereinbaren , sinn zweck vereinbarung vereinbarung entspricht unzulässigen bestimmung zulässiger weise nächsten downloads satzung pdf 191 kb kooperationsvereinbarung pdf 24 kb krankenhäuser & einrichtungen klinikum kassel krankenhaus bad arolsen kreisklinik hofgeismar kreisklinik wolfhagen zentrum medizinische versorgung reha - zentren gesundheit nordhessen seniorenwohnanlagen swa kassel krankenhausapotheke leistungen unternehmen aktuelles karriere kassel school of medicine schriftgröße kontrast & farbe schriftgröße schriftgröße mithilfe browsers vergrößern verkleinern . drücken einfach tastenkombination ⌘ + strg + ⌘ – strg – . tastenkombination ⌘ 0 strg 0 setzen schriftgröße ausgangsgröße zurück . klinikum kassel emergency fachkliniken & institute zentren pflege patienten & besucher qualität close menu gesundheit nordhessen ( current ) startseite krankenhäuser & einrichtungen klinikum kassel krankenhaus bad arolsen kreisklinik hofgeismar kreisklinik wolfhagen zentrum medizinische versorgung reha - zentren seniorenwohnanlagen krankenhausapotheke leistungen unternehmen aktuelles karriere kassel school of medicine impressum datenschutz seite teilen e - mail gnh neuigkeiten news ansehen visite patientenmagazin online lesen kliniken klinikum kassel krankenhaus bad arolsen kreisklinik hofgeismar kreisklinik wolfhagen weitere einrichtungen zentrum medizinische versorgung reha - zentren seniorenwohnanlagen karriere stellenangebote berufseinsteiger berufserfahrene bieten impressum & datenschutz impressum datenschutz klinikum kassel gesundheit nordhessen holding ag mönchebergstraße 41 - 43 34125 kassel 0561 980 - 0 0561 980 - 6988 info @ klinikum - kassel . de mönchebergstraße 48 e 34125 kassel route and map 0561 980 - 0 0561 980 - 6870 info @ gnh . net folgen © gesundheit nordhessen holding ag , 2019 | sitemap schließen lebensbedrohliche erkrankungen unfälle : medizinischen notfällen ( beispielsweise verdacht herzinfarkt schlaganfall ) verletzungen wählen bitte notruf . notruf 112 lebensbedrohlichen erkrankungen bedrohliche erkrankung vorliegt außerhalb sprechzeiten arztpraxen dringend arzt benötigen , wenden bitte ärztlichen notdienst . ärztlicher notdienst 116 117 notaufnahmen klinikum kassel interdisziplinäre zentrale notaufnahme 0561 980 - 5000 interdisziplinäre zentrale notaufnahme zna klinikum kassel | haus 2 mönchebergstr . 41 - 43 | 34125 kassel ( lageplan ) kinder 0561 980 - 5500 zentrum frauen - kindermedizin klinikum kassel | haus f mönchebergstr . 41 - 43 | 34125 kassel ( lageplan ) bitte 6 : 00 – 22 : 00 uhr zentrum frauen - kindermedizin ; 22 : 00 – 6 : 00 uhr interdisziplinäre zentrale notaufnahme schwangere 0561 980 - 5400 zentrum frauen - kindermedizin klinikum kassel | haus f mönchebergstr . 41 - 43 | 34125 kassel ( lageplan ) ab 22 . schwangerschaftswoche gehen schwangere bitte direkt kreißsaal ; 22 . schwangerschaftswoche erfolgt behandlung zunächst interdisziplinären zentralen notaufnahme krankenhaus bad arolsen 05691 800 - 0 haupteingang / anmeldung rezeption große allee 50 | 34454 bad arolsen ( lageplan ) erdgeschoss : aufnahme chirurgie erster stock : aufnahme innere medizin kreisklinik hofgeismar 05671 81 - 0 haupteingang / anmeldung rezeption liebenauer straße 1 | 34369 hofgeismar ( lageplan ) chirurgie : erdgeschoss innere : erdgeschoss gynäkologie : station 3 kreisklinik wolfhagen 05692 40 - 0 haupteingang / anmeldung rezeption kleinen ofenberg 1 | 34466 wolfhagen ( lageplan ) notaufnahmepersonal : 05692 40 - 95160 close english klinikum kassel kassel school of medicine français klinikum kassel']\n"
          ],
          "name": "stdout"
        },
        {
          "output_type": "execute_result",
          "data": {
            "text/html": [
              "<div>\n",
              "<style scoped>\n",
              "    .dataframe tbody tr th:only-of-type {\n",
              "        vertical-align: middle;\n",
              "    }\n",
              "\n",
              "    .dataframe tbody tr th {\n",
              "        vertical-align: top;\n",
              "    }\n",
              "\n",
              "    .dataframe thead th {\n",
              "        text-align: right;\n",
              "    }\n",
              "</style>\n",
              "<table border=\"1\" class=\"dataframe\">\n",
              "  <thead>\n",
              "    <tr style=\"text-align: right;\">\n",
              "      <th></th>\n",
              "      <th>url</th>\n",
              "      <th>doc_id</th>\n",
              "      <th>label</th>\n",
              "    </tr>\n",
              "  </thead>\n",
              "  <tbody>\n",
              "    <tr>\n",
              "      <th>28</th>\n",
              "      <td>http://www.barmherzige-regensburg.de/onkologie...</td>\n",
              "      <td>37</td>\n",
              "      <td>1</td>\n",
              "    </tr>\n",
              "    <tr>\n",
              "      <th>30</th>\n",
              "      <td>http://www.bethlehem.de/leistungen/kliniken/kl...</td>\n",
              "      <td>41</td>\n",
              "      <td>3</td>\n",
              "    </tr>\n",
              "    <tr>\n",
              "      <th>31</th>\n",
              "      <td>http://www.bk-paderborn.de/bkp/medizin-pflege/...</td>\n",
              "      <td>42</td>\n",
              "      <td>1</td>\n",
              "    </tr>\n",
              "    <tr>\n",
              "      <th>34</th>\n",
              "      <td>http://www.ctk.de/sor/klinikum/kliniken-zentre...</td>\n",
              "      <td>48</td>\n",
              "      <td>3</td>\n",
              "    </tr>\n",
              "    <tr>\n",
              "      <th>38</th>\n",
              "      <td>http://www.gesundheit-nordhessen.de/en/kliniku...</td>\n",
              "      <td>55</td>\n",
              "      <td>2</td>\n",
              "    </tr>\n",
              "  </tbody>\n",
              "</table>\n",
              "</div>"
            ],
            "text/plain": [
              "                                                  url  doc_id  label\n",
              "28  http://www.barmherzige-regensburg.de/onkologie...      37      1\n",
              "30  http://www.bethlehem.de/leistungen/kliniken/kl...      41      3\n",
              "31  http://www.bk-paderborn.de/bkp/medizin-pflege/...      42      1\n",
              "34  http://www.ctk.de/sor/klinikum/kliniken-zentre...      48      3\n",
              "38  http://www.gesundheit-nordhessen.de/en/kliniku...      55      2"
            ]
          },
          "metadata": {
            "tags": []
          },
          "execution_count": 507
        }
      ]
    },
    {
      "cell_type": "code",
      "metadata": {
        "id": "zr8FFi-Qbu17",
        "colab_type": "code",
        "colab": {
          "base_uri": "https://localhost:8080/",
          "height": 309
        },
        "outputId": "a293e9e3-b87c-444c-c3e4-d66e5cdeabbb"
      },
      "source": [
        "# overwrite our data\n",
        "doc_test = np.array([])\n",
        "y_test = np.array(test_df['label'])\n",
        "for id in test_df['doc_id']:\n",
        "  doc_test = np.append(doc_test, html_texts[id])\n",
        "print(doc_test[:5])\n",
        "test_df.head(5)"
      ],
      "execution_count": 508,
      "outputs": [
        {
          "output_type": "stream",
          "text": [
            "['elbeelster klinikum chirurgie finsterwalde suchen elbeelster klinikum leitbild klinikleitung qualitätsmanagement qualitätsberichte krankenhaushygiene beauftragte klinikums karriere ausbildung stellenangebote ausbildung praktikum facharztausbildung klinikum cartoon akademisches lehrkrankenhaus mhb elbeelster mvz gmbh standorte elsterwerda finsterwalde herzberg fachbereiche anästhesie intensivmedizin anästhesie intensivmedizin elsterwerda anästhesie intensivmedizin finsterwalde anästhesie intensivmedizin herzberg chirurgie chirurgie elsterwerda chirurgie finsterwalde chirurgie herzberg gynäkologie geburtshilfe gynäkologie elsterwerda gynäkologie finsterwalde gynäkologie geburtshilfe herzberg gynäkologie urogynäkologie geburtshilfe innere medizin innere medizin elsterwerda innere medizin finsterwalde innere medizin herzberg endoskopiezentrum südbrandenburg pädiatrie pädiatrie herzberg kinderschutzgruppe psychiatrie psychiatrie finsterwalde psychiatrie elsterwerda radiologie radiologie elsterwerda radiologie finsterwalde radiologie herzberg pflege pflege elsterwerda pflege finsterwalde pflege herzberg funktionsdiagnostik funktionsdiagnostik elsterwerda funktionsdiagnostik finsterwalde funktionsdiagnostik herzberg physiotherapie physiotherapie elsterwerda physiotherapie finsterwalde physiotherapie herzberg patienteninformation notaufnahme ambulante aufnahme stationäre aufnahme service krankenhaus patientenbeauftragte patientenfürsprecherin entlassungsmanagement aktuelles pressemitteilungen pressemitteilungen archiv newsletterpublikationen flyer veranstaltungen babygalerie fachbereiche elbeelster klinikum fachbereiche chirurgie chirurgie finsterwalde chirurgie finsterwalde mudr ivor dropco chefarzt abteilung chirurgie facharzt chirurgie viszeralchirurgie zusatzbezeichnung spezielle viszeralchirurgie kontakt sekretariat t f emailadresse spambots geschützt anzeige javascript eingeschaltet fc haus ebene fca haus ebene betten besuchszeiten kernbesuchszeit uhr außerhalb absprache zertifikate weitere standorte chirurgie elsterwerda chirurgie finsterwalde chirurgie herzberg ambulante angebote notfallambulanz rund uhr t folgenden angebote benötigen termin erhalten täglich uhr einweisungs beratungssprechstunde opsprechstunde hüft kniesprechstunde schultersprechstunde anmeldungssprechstunde ambulantes operieren krampfadersprechstunde spezielle fußchirurgie proktologische sprechstunde leistungsspektrum abteilung führt eingriffe gebiet allgemeinchirurgie visceralchirurgie sowie unfallchirurgie orthopädie soweit aufgabenbereich hauses grundversorgung gehört arbeitet zwei stationen wobei kurzlieger ambulant operativ behandelte patienten genutzt schwere fälle stehen sechs betten interdisziplinär genutzten intensivstation verfügung rahmen allgemein visceralchirurgie möglich laparoskopische operationsverfahren eingesetzt gleiches gilt unfallchirurgieorthopädie arthroskopische operationen unfallchirurgischorthopädisch verfahren knochbruchbehandlung sei nägel schrauben platten angewandt gelenkprothetische ersatz großer kleiner gelenke betrieben schilddrüsenchirurgie umfangreichen rahmen etabliert gleiches gilt behandlung krampfaderleiden bereich chirurgie gynäkologogische patientinnen betreut rahmen konsiliarvertrages niedergelassene gynäkologen behandelt patienten erkrankungen weiblichen brust abteilung rahmen lausitzer brustzentrums ebenfalls versorgt leistungsspektrum umfangreich neben diagnostik therapie brustkrebserkrankungen gehören abklärung unklarer teilweise gutartiger befunde sowie plastische operationen zertifizierung deutsche herniengesellschaft dhg hernienoperationen krankenhaus finsterwalde qualitätskontrolle unterzogen lausitzer brustzentrum elbeelster klinikum gmbh mitglied lausitzer brustzentrum zusammenschluss lausitzer seenland klinikum hoyerswerda malteserkrankenhaus st johannes kamenz kreiskrankenhaus weißwasser ggmbh sowie elbeelster klinikum ziel krankenhausstandorten partner behandelten brustkrebspatientinnen hochwertige qualitätsgesicherte therapie einheitlichen evidenzbasierten behandlungsmuster verfügung stellen patienten erkrankungen weiblichen brust elbeelster klinikum krankenhaus finsterwalde betreut versorgungsangebot form senologischen arbeitskreises organisiert fachabteilung chirurgie krankenhaus finsterwalde angesiedelt leistungsspektrum umfangreich neben diagnostik therapie brustkrebserkrankungen gehören abklärung unklarer teilweise gutartiger befunde sowie plastische operationen arbeitskreis handelt entsprechend medizinischen sleitlinien deutschen krebsgesellschaft arbeitsgemeinschaft gynäkologischen onkologie arbeitsweise tumorboards zertifizierter brustzentren gleichzusetzen versammelt gynäkologen chirurgen onkologen pathologen radiologen nuklearmediziner strahlentherapeuten psychologen spezialisierte pflegekräfte sowohl stationären ambulanten bereichen therapieoptionen behandelten patientinnen gemeinsam festlegen gemeinsam erarbeitete protokoll enthält therapieempfehlung behandelnden medizinern anschluss zugesandt ziel bemühungen immer patientinnen brusterkrankungen diagnose behandlung aktuellen stand medizin anzubieten ebenso wichtig menschliche seite betreuung neben fachlichen kenntnissen einfühlsamkeit ganzheitliche betrachtung entscheidende grundpfeiler arbeit senologischen teams krankenhaus finsterwalde leistungsangebote brustkrebspatienten diagnostik mammografie hochauflösender ultraschall computertomografie magnetresonanztomografie stanzbiopsie lokalanästhesie wächterlymphknotenbiopsie achselhöhle pathologie therapie mammachirurgie ablativ sowie gesamtes spektrum brusterhaltung primären sekundären rekonstruktion entfernung brust plastischen brustchirurgie chemo strahlentherapie krankenhausaufenthalt betreuung spezialisierte pflegekräfte physiotherapeutische anleitung übung unterstützung sozialdienst hauses psychoonkologische betreuung begleitung ernährungsberatung vorteile patientinnen ganzheitliche diagnostik therapie interdisziplinäres team gynäkologen chirurgen onkologen pathologen radiologen nuklearmedizinern strahlentherapeuten psychologen spezialisierten pflegekräften einbeziehung patientinnen therapieentscheidung zusammenarbeit patientinneninitiativen selbsthilfegruppen wohnortnahe versorgung hohem medizinischem niveau zweitmeinung diagnostik therapie ärztliches personal chefarzt mudr ivor dropco facharzt chirurgie viszeralchirurgie zusatzbezeichnung spezielle viszeralchirurgie leitender oberarzt diplmed thomas vogel facharzt chirurgie fachkunde rettungsdienst zusatzbezeichnung notfallmedizin oberarzt ingo beyer facharzt chirurgie viszeralchirurgie zusatzbezeichnung spezielle viszeralchirurgie zusatzbezeichnung proktologie oberarzt dr med volker papstein facharzt chirurgie zusatzbezeichnung proktologie zusatzbezeichnung notfallmedizin oberarzt lutz jäckel facharzt chirurgie orthopädie unfallchirurgie schwerpunktbezeichnung unfallchirurgie zusatzbezeichnung notfallmedizin fachärztin sieben assistenzärzte weiterbildungsermächtigungen monate viszeralchirurgie monate allgemeinchirugie monate basisbefugnis chirurgie monate proktologie fachbereiche elbeelster klinikum fachbereiche chirurgie chirurgie finsterwalde kontakt elbeelster klinikum gmbh kirchhainer straße a finsterwalde t f infoelbeelsterklinikumde wwwelbeelsterklinikumde information datenschutz impressum copyright elbeelster klinikum gmbh . inhalte seite verwenden , verlinken anderweitig nutzen möchten , fragen . gern stellen pressematerial hoher qualität verfügung .'\n",
            " 'onkologisches zentrum klinikum bayreuth aktuell standorte karriere notfall kontakt klinikfinder standorte standorte betriebsstätte klinikum preuschwitzer str bayreuth betriebsstätte klinik hohe warte hohe warte bayreuth anfahrt notfall notfall notrufzentrale medizinischen lebensbedrohlichen notfällen rufen notrufzentrale bayernweit ortsnetz notaufnahme notaufnahmen klinikum bayreuth gmbh rund uhr besetzt erreichbar notaufnahme notaufnahme klinikum preuschwitzer str bayreuth einfahrt notaufnahme ausgeschildert notaufnahme hohen warte hohe warte bayreuth einfahrt notaufnahme ausgeschildert entbindung schwangere sowie gebärende direkt kreissaal klinikum aufgenommen preuschwitzer str bayreuth einfahrt ausgeschildert notaufnahme entbindung notfälle kindern pädiatrische notfälle direkt notaufnahme kinderklinik aufgenommen preuschwitzer str bayreuth beschilderung kinderklinik folgen haupteingang kinderklinik aufnahme infos neuen seite öffnen kontakt kontakt betriebsstätte klinikum preuschwitzer str bayreuth betriebsstätte klinik hohe warte hohe warte bayreuth kontaktdaten suche toggle navigation aufenthalt anfahrt anmeldung aufnahme entlassung patientenaufenthalt checkliste patienten besucherinformation wissenswertes az kliniken einrichtungen kliniken institute allgemein viszeralchirurgie anästhesiologie operative intensivmedizin dermatologie allergologie frauenklinik gastroenterologie gefäßchirurgie geriatrie herzchirurgie thoraxchirurgie kardiologie angiologie internistische intensivmedizin kinderklinik krankenhaushygiene laboratoriumsmedizin mikrobiologie nephrologie hypertensiologie angiologie rheumatologie neurochirurgie neurologie nuklearmedizin onkologie hämatologie orthopädie palliativstation pathologie plastische rekonstruktive ästhetische handchirurgie pneumologie querschnitt radiologie hohe warte radiologie klinikum rheumatologie schmerztagesklinik strahlentherapie unfall wiederherstellungschirurgie urologie zentren darmzentrum endoprothetikzentrum brustzentrum gynäkologisches zentrum hautkrebszentrum herzzentrum onkologisches zentrum pankreaskarzinomzentrum perinatalzentrum geburtshilfe zentrum fuß sprunggelenkchirurgie sozialpädiatrisches zentrum traumazentrum zentrum integrative medizin adipositaszentrum einrichtungen akutschmerzdienst apotheke bäder massagemedizin ergotherapie logopädie notaufnahme physiotherapie sozialmedizinische nachsorge spezialisierte ambulante palliativversorgung sapv bayreuth kulmbach sporttherapie belegabteilungen augenheilkunde halsnasenohrenheilkunde mundkiefergesichtschirurgie pflege soziales pflege ernährungsberatung diabetesberatung wundmanagement sozialdienst psychologischer dienst psychoonkologischer dienst klinikseelsorge patientenfürsprecher ethikkomitee aktuell standorte karriere notfall kontakt klinikfinder standorte standorte betriebsstätte klinikum preuschwitzer str bayreuth betriebsstätte klinik hohe warte hohe warte bayreuth anfahrt notfall notfall notrufzentrale medizinischen lebensbedrohlichen notfällen rufen notrufzentrale bayernweit ortsnetz notaufnahme notaufnahmen klinikum bayreuth gmbh rund uhr besetzt erreichbar notaufnahme notaufnahme klinikum preuschwitzer str bayreuth einfahrt notaufnahme ausgeschildert notaufnahme hohen warte hohe warte 45 bayreuth 0921 400 - 3120 einfahrt notaufnahme ausgeschildert . entbindung schwangere sowie gebärende direkt kreissaal klinikum aufgenommen . preuschwitzer str . 101 95445 bayreuth 0921 400 - 1310 einfahrt ausgeschildert : notaufnahme entbindung notfälle kindern pädiatrische notfälle direkt notaufnahme kinderklinik aufgenommen . preuschwitzer str . 101 95445 bayreuth 0921 400 - 1400 beschilderung kinderklinik folgen : haupteingang kinderklinik aufnahme infos neuen seite öffnen kontakt × kontakt betriebsstätte klinikum preuschwitzer str . 101 95445 bayreuth 0921 400 - 00 betriebsstätte klinik hohe warte hohe warte 8 95445 bayreuth 0921 400 - 01 kontaktdaten suche klinikum bayreuth kliniken & einrichtungen zentren onkologisches zentrum zurück übersicht onkologisches zentrum immer umfangreicher werdenden möglichkeiten behandlung krebs stellen ärzte wachsende herausforderungen . patienten optimale behandlungsstrategie festzulegen , zusammenarbeit vielzahl spezialisten notwendig . onkologischen zentrum klinikums bayreuth klinik hohe warte 17 fachabteilungen - pathologie , strahlentherapie radiologie chirurgie , onkologie reihe fachdisziplinen - versorgung krebspatienten verantwortlich . hinzu kommen anzahl interner externer kooperationspartner , z . b . psychoonkologie , sozialdienst ernährungsberatung , patienten ganzheitliche umfassende betreuung zukommen lassen . ( finden all kooperationspartner blick .) ziel onkologischen zentrum bayreuth , gesamtheitliches , interdisziplinäres netzwerk behandlungspartnern krebspatienten schaffen . hierbei höchstmögliche medizinische qualität , optimale koordination unterschiedlichen fachdisziplinen effektive organisation abläufe angestrebt . mehrfach wöchentlich stattfindende tumorkonferenzen , denen experten fachrichtungen einzelnen patientenfall beraten gemeinsam weiteren behandlungsplan festlegen , herzstück zentrums . 20 klinische studien stehen patienten verfügung , zugang jeweils neuesten behandlungsmethoden erhalten . erfolg einzelnen fachbereiche onkologischen zenturm zusammenarbeiten , kurzen film sehen . krebspatienten untersuchen ärzte institut pathologie klinikum bayreuth gmbh entnommene gewebeproben , stellen sichere diagnosen geben entscheidende informationen therapie . gewebeproben entnahme diagnose nehmen , video sehen . nähere informationen angeschlossenen organkrebszentren : brustzentrum , darmzentrum , pankreaskarzinomzentrum , hautkrebszentrum , gynäkologisches zentrum onkologische zentrum klinikum bayreuth gmbh deutschen krebsgesellschaft empfohlen kooperationspartner comprehensive cancer center erlangen - emn . flyer onkologischen zentrums finden informationen . prof . dr . med . alexander kiani chefarzt leiter onkologisches zentrum 0921 400 - 6302 0921 400 - 886302 e - mail schreiben prof . dr . med . ludwig keilholz chefarzt 1 . stv . leiter onkologisches zentrum 0921 400 - 6802 0921 400 - 886899 e - mail schreiben 1 onkologisches zentrum klinikum bayreuth 0921 400 - 6360 0921 400 - 88 6360 onkozentrum klinikum - bayreuth . remove - this . de postanschrift onkologisches zentrum klinikum bayreuth preuschwitzer str . 101 95445 bayreuth erreichbarkeit onkologischen zentrums montag donnerstag 8 18 uhr freitag 8 14 uhr team prof . dr . med . christoph mundhenke chefarzt facharzt frauenheilkunde geburtshilfe schwerpunkte : gynäkologische onkologie spezielle geburtshilfe perinatologie zusatzbezeichungen : palliativmedizin ernährungsmedizin 0921 400 - 5502 0921 400 - 885502 e - mail schreiben dr . med . oliver ponsel chefarzt leiter darm - pankreaskarzinomzentrum leiter viszeralonkologisches zentrum facharzt chirurgie visceralchirurgie sowie spezielle visceralchirurgie mannschaftsarzt ehc bayreuth e - mail schreiben privatdozent dr . med . gerhard weyandt chefarzt leiter hautkrebszentrum facharzt haut - geschlechtskrankheiten , allergologie , proktologie , medikamentöse tumortherapie 0921 400 - 5402 0921 400 - 885402 e - mail schreiben 1 organigramm onkologischen zentrum leistungen patient krebserkrankung , klinikum bayreuth klinik hohe warte behandelt , automatisch patient onkologischen zentrums . unabhängig davon , fachabteilung aufgenommen , erfolgt besprechung falles experten fachrichtungen tumorkonferenz . hierdurch gewährleistet , krebsbehandlung optimaler abstimmung ausnutzung therapiemöglichkeiten erfolgt . tumorkonferenz individueller behandlungsplan erstellt , patienten empfohlen . patienten onkologischen zentrums erhalten angebot psychoonkologischen , sozialmedizinischen pflegerischen beratung . zusätzlich weitere angebote , z . b . ernährungsberatung physiotherapie anspruch genommen . wunsch gerne kontakt seelsorge hospizbetreuung hergestellt . innerhalb onkologischen zentrums patienten bestimmten tumorerkrankungen , brustkrebs , hautkrebs , darmkrebs bauchspeichedrüsenkrebs zusätzlich speziellen organkrebszentren betreut , besonderen anforderungen tumorerkrankung berücksichtigen . tumorkonferenz patienten onkologischen zentrum klinikum bayreuth gmbh mehrfach wöchentlichen tumorkonferenzen besprochen . externe ärzte ebenfalls gerne eingeladen , patienten unserer konferenzen vorzustellen hierdurch interdisziplinären behandlungsvorschlag erhalten . hierzu wichtig , zeitpunkt tumorkonferenz relevanten informationen vorliegen . daher bitten anmeldung patienten gewünschten konferenz form tumordokumentationsbogens . ausgefüllten bogen faxen bitte dokumentationszentrale ( 0921 400 - 88 6361 ) beachtung folgender anmeldefristen : dienstags - konferenz : montag , 12 . 00 uhr mittwochs - konferenz : dienstag , 14 . 00 uhr donnerstags - konferenz : donnerstag , 9 . 00 uhr freitags - konferenz : donnerstag , 14 . 00 uhr dringenden fällen nachmeldung direkt dokumentationszentrale ( 0921 400 - 6361 400 - 6362 756362 ) koordinatorin onkologischen zentrums , uta limmer ( 0921 400 - 6360 0921 400 - 756360 ), möglich . zeitplan tumorkonferenzen anmeldeformular tumorkonferenz case management / patientenunterstützung case managerin begleitet patient / stationären klinikaufenthaltes . bindeglied ärzten , pflegekräften , therapeuten sozialen einrichtungen unterstützt organisatorischen fragen ort krankenhaus steht beratend seite . ziel wohl organisierte bedarfsgerecht einzelnen patienten zugeschnittene versorgung . case - managerin dient patienten zentrale ansprechpartnerin . folgenden anliegen hilft : planung aufnahme , verlegung entlassung patienten anforderung wichtigen befunden beim einweisenden arzt terminvereinbarung ( z . b . untersuchungen behandlung ) vermittlung psychoonkologischer beratung , wundmanagement , diabetes - ernährungsberatung , stomapflege , sozialdienst , sapv ( spezielle ambulante palliative versorgung ) nachsorge haus - fachärzten , ambulanten pflegediensten home care versorger terminvereinbarung fragen stationären aufnahme wenden bitte : alexandra maisel ( case managerin dgcc , examinierte krankenschwester ) 0921 400 - 75 2671 0921 400 - 88 1330 alexandra . maisel klinikum - bayreuth . remove - this . de sprechzeiten : montag donnerstag : 7 . 00 – 15 . 30 uhr freitag : 7 . 00 – 14 . 30 uhr außerhalb sprechzeiten wenden bitte direkt station 33 0921 400 - 1330 patienteninformationen seite überblick wichtigsten themen leistungen onkologischen zentrums klinikum bayreuth gmbh zusammengestellt , übersichtlich homepage leitet . krebsarten a - z ( deutsche krebsgesellschaft e . v .) patientenleitlinien ( deutsche krebshilfe e . v .) kostenlose informationsmaterialien deutschen krebshilfe psychoonkologie sozialdienst patient onkologischen zentrum anspruch psychoonkologische betreuung sowie beratung sozialdienst . falls möglich patienten gewünscht , kontakt bereits stationären aufenthaltes rahmen besuches tagesklinik hergestellt . patienten gerne direkt mitarbeiterinnen mitarbeitern psychoonkologischen dienstes sozialdienstes kontakt aufnehmen . ambulante beratungsstelle bayerischen krebsgesellschaft steht ebenfalls verfügung . kontaktinformationen all kooperationspartnern finden . selbsthilfegruppen selbsthilfegruppen bieten möglichkeit erfahrungsaustausch gespräch betroffenen . mehrere selbsthilfegruppen aktiv onkologische zentrum eingebunden . kontaktinformationen all kooperationspartnern finden \" kooperationspartner \". veranstaltungen onkologischen zentrum angeschlossenen organkrebszentren finden regelmäßig fortbildungen veranstaltungen ärzte , patienten interessierte statt . weitere beratungsangebote kooperationspartner onkologischen zentrums , beispielsweise deutsche krebsgesellschaft , bieten regelmäßig veranstaltungen krebspatienten erweitern beratungsangebot . darüber hinaus patienten , angehörige interessierte herzlich regelmäßigen medizinischen vorträgen weiteren informationsveranstaltungen eingeladen . finden aktuellen termine . fatigue - sprechstunde krebspatienten müdigkeit erschöpfung zweitmeinung patienten , behandlung , bieten wunsch gerne unverbindliche zweitmeinung . hierzu kontaktieren besten direkt leiter onkologischen zentrums , prof . dr . alexander kiani , koordinatorin , uta limmer . wunsch vermitteln gerne zweitmeinung krebszentrum . organkrebszentren patientinnen patienten brustkrebs , darmkrebs bauchspeicheldrüsen -( pankreas -) krebs dach onkologischen zentrums zusätzliche organkrebszentren eingerichtet . nähere informationen zentren finden seiten brustzentrums , darmzentrums , pankreaskarzinomzentrums hautkrebszentrums . einsatz methadon krebsbehandlung aufgrund berichten presse fernsehen vielen patienten ärzten einsatz methadon krebsbehandlung angespriochen . onkologisches zentrum klinikum bayreuth gmbh raten patienten ärzten einnahme verordnung methadon ab , positiven beeinflussung krebsbehandlung dienen . lesen ausführliche stellungnahme onkologischen zentrums thema . patienteninformation deutschen gesellschaft hämatologie medizinische onkologie stellungnahme deutschen gesellschaft hämatologie medizinische onkologie arztinformationen tumorkonferenzen ärzte benachbarter kliniken niedergelassene kollegen eingeladen , aktuelle fälle tumorkonferenzen vorzustellen . zweitmeinung unabhängig tumorkonferenzen bieten gerne unverbindliche zweitmeinung . hierzu kontaktieren besten direkt leiter onkologischen zentrums , prof . dr . alexander kiani , koordinatorin , uta limmer . wunsch vermitteln gerne zweitmeinung krebszentrum . fortbildungen onkologischen zentrum organkrebszentren finden regelmäßig fortbildungen qualitätszirkel statt , denen herzlich eingeladen . studien onkologische zentrum klinikum bayreuth beteiligt multizentrischen klinischen studien enger zusammenarbeit krebskompetenzzentren ( phase i - iv ). liste aktuell verfügbaren studien abhängigkeit einzelnen tumorentitäten finden . organkrebszentren patientinnen patienten mamma -, kolon -/ rektum - pankreaskarzinom dach onkologischen zentrums zusätzliche organkrebszentren eingerichtet . nähere informationen zentren finden seiten brustzentrums , darmzentrums , pankreaskarzinomzentrums hautkrebszentrums . tumordokumentation / krebsregister umfassende tumordokumentation wichtiges instrument , z . b . ursachen krebserkrankungen untersuchen umsetzung therapieleitlinien behandlungsergebnisse regelmäßig überprüfen . onkologischen zentrum klinikum bayreuth gmbh dokumentare ausschließlich dokumentation daten unserer krebspatienten organisation unserer tumorkonferenzen beschäftigt . besteht hierbei enge zusammenarbeit epidemiologischen krebsregister tumorzentrum oberfranken . studien studienzentrale onkologischen zentrum klinikum bayreuth gmbh studienkoordinatorin studienzentrale veronika brunzel 0921 - 400 756350 leiter studieneinheit 1 klinik gynäkologie geburtshilfe , brustzentrum , gynäkologisches zentrum ca prof . dr . med . matthias w . beckmann 0921 400 - 5502 leiter studieneinheit 2 med . klinik iv ( hämatologie / onkologie ), darm - pankreaskrebszentrum , hautkrebszentrum ca prof . dr . alexander kiani 0921 400 - 6302 aktuelle klinischer studien onkologischen zentrum klinikum bayreuth gmbh , aufgelistet tumorerkrankung sollten fragen sicher , patient studien frage kommen , zögern bitte , direkt kontaktieren . gerne stellen kontakt studienzentrum her . studienorganigramm onkologischen zentrums studienübersicht studieneinheit 1 studienübersicht studieneinheit 2 kooperationspartner umfassende behandlung patientinnen patienten arbeitet interdisziplinäres team , bestehend vielzahl interner externer kooperationspartner . kliniken institute klinik allgemein - visceralchirurgie chefarzt dr . oliver ponsel 0921 400 - 5202 allgemeinchirurgie klinikum - bayreuth . remove - this . de klinik gastroenterologie chefarzt pd dr . steffen mühldorfer 0921 400 - 6402 gastroenterologie klinikum - bayreuth . remove - this . de klinik dermatologie allergologie chefarzt pd dr . gerhard weyandt 0921 400 - 5402 dermatologie klinikum - bayreuth . remove - this . de klinik gynäkologie geburtshilfe brustzentrum chefarzt prof . dr . matthias w . beckmann 0921 400 - 5502 frauenklinik klinikum - bayreuth . remove - this . de institut klinik nuklearmedizin chefarzt prof . dr . stefan förster 0921 400 - 6702 nuklearmedizin klinikum - bayreuth . remove - this . de klinik diagnostische interventionelle radiologie dr . med . thomas hüttner kommissarischer leiter 0921 400 - 5702 radiologie klinikum - bayreuth . remove - this . de institut pathologie chefarzt prof . dr . michael vieth 0921 400 - 5602 pathologie klinikum - bayreuth . remove - this . de klinik kardiologie , angiologie internistische intensivmedizin chefarzt prof . dr . christian stumpf 0921 400 - 6502 kardiologie klinikum - bayreuth . remove - this . de klinik pneumologie thoraxonkologie chefarzt dr . claus steppert 0921 400 - 4902 pneumologie klinikum - bayreuth . remove - this . de klinik onkologie hämatologie chefarzt prof . dr . alexander kiani 0921 400 - 6302 onkologie klinikum - bayreuth . remove - this . de klinik strahlentherapie chefarzt prof . dr . ludwig keilholz chefarzt pd dr . jochen willner 0921 400 - 6802 strahlentherapie klinikum - bayreuth . remove - this . de palliativstation schmerztherapie chefärztin dr . sabine gernhardt 0921 400 - 1552 palliativstation klinikum - bayreuth . remove - this . de klinik unfall - wiederherstellungschirurgie chefarzt pd dr . michael müller 0921 400 - 5302 unfallchirurgie @ klinikum - bayreuth . de apotheke richard sommerer 0921 400 - 2520 apotheke klinikum - bayreuth . remove - this . de institut radiologie neuroradiologie chefarzt prof . dr . michael strotzer 0921 400 - 4402 michael . strotzer klinikum - bayreuth . remove - this . de klinik urologie kinderurologie chefarzt prof . dr . claus fischer 0921 400 - 4502 urologie klinikum - bayreuth . remove - this . de klinik neurochirurgie chefarzt dr . hans axel trost 0921 400 - 4202 neurochirurgie klinikum - bayreuth . remove - this . de klinik neurologie chefarzt prof . dr . patrick oschmann 0921 400 - 4602 neurologie klinikum - bayreuth . remove - this . de klinik orthopädie chefarzt pd dr . rainer abel 0921 400 - 4702 orthopaedie klinikum - bayreuth . remove - this . de institut laboratoriumsmedizin mikrobiologie chefarzt dr . sven schimanski 0921 400 - 5802 ilm klinikum - bayreuth . remove - this . de klinik anästhesie operative intensivmedizin schmerzdienst chefarzt prof . dr . jörg reutershan 0921 400 - 5102 anaesthesie klinikum - bayreuth . remove - this . de klinik herz - thoraxchirurgie , sektion thoraxchirurgie dr . med . bernd linsmeier 0921 400 - 5902 herzchirurgie klinikum - bayreuth . remove - this . de klinik plastische , rekonstruktive , ästhetische handchirurgie chefarzt pd dr . jürgen dolderer 0921 400 - 5303 unfallchirurgie klinikum - bayreuth . remove - this . de psychoonkologischer dienst 0921 400 - 3830 psychoonkologie klinikum - bayreuth . remove - this . de brs - bayreuth @ bayerische - krebsgesellschaft . de sozialdienst dipl .- soz . päd . andreas berghammer 0921 400 - 4670 andreas . berghammer klinikum - bayreuth . remove - this . de stomatherapie bärbel schröder 0921 400 - 5202 stomateam klinikum - bayreuth . remove - this . de physiotherapie ulrike grieshammer 0921 400 - 3351 physikalischetherapie klinikum - bayreuth . remove - this . de ernährungsberatung dirk bräuniger 0921 400 - 756462 dirk . braeuniger klinikum - bayreuth . remove - this . de diabetesberatung sandy petermann 0921 400 - 856461 diabetesberatung klinikum - bayreuth . remove - this . de wundmanagement claudia igl 0921 400 - 755951 claudia . igl klinikum - bayreuth . remove - this . de onkologische fachpflege anja wölfel 0921 400 - 756371 onkopflege klinikum - bayreuth . remove - this . de psychosoziale krebsberatungsstelle bayerischen krebsgesellschaft e . v . bayreuth 0921 1503044 www . bayerische - krebsgesellschaft . de / brs - bayreuth bayerische - krebsgesellschaft . remove - this . de weitere kooperationspartner seelsorge klinikum evangelische seelsorge 0921 400 - 2910 seelsorge - ev klinikum - bayreuth . remove - this . de katholische seelsorge 0921 400 - 2911 seelsorge . kath klinikum - bayreuth . remove - this . de apparategemeinschaft kernspintomographie klinikum bayreuth dr . göhring 0921 513283 selbsthilfegruppe i bayer . krebsgesellschaft e . v . marianne ficht 09208 8083 senocura - gemeinsam brustkrebs e . v . 0921 1505552 info senocura . remove - this . de selbsthilfegruppe „ rehasport - gruppen bayreuth “ alexandra feger herr horn 0921 1503044 horn - no @ t - online . de zentrum medizinische genetik würzburg prof . dr . tiemo grimm 0931 3184075 selbsthilfegruppe ilco alma bockhorn 09241 81559 krebsregister oberfranken tanja maisel 09131 6808 - 3010 krebsregister - bayreuth lgl . bayern . remove - this . de geschäftsstelle bayer . krebsgesellschaft e . v . münchen geschäftsführer markus besseler 089 548840 - 0 humangenetisches labor staber bayreuth dr . staber 0941 53710 humangenetisches institut universitätsklinik erlangen prof . dr . andré reis institutsdirektor humangenetisches institut schwabachanlage 10 , 91054 erlangen zentrum medizinische genetik würzburg prof . dr . tiemo grimm 0931 3184075 hospizverein bayreuth e . v . edith zühlke 0921 1505292 hospizhilfe @ hospizverein - bayreuth . de aktuelle meldungen nachrichten verfügbar . meldungen aktuelle veranstaltungen seite seite – gemeinsam krebs datum : 09 . 11 . 2019 zeit : 10 : 00 14 : 00 ort : klinikum bayreuth , preuschwitzer str . 101 , foyer , konferenzräume ebene 0 kategorie : darmzentrum • hautkrebszentrum • onkologie hämatologie • dermatologie allergologie • brustzentrum • frauenklinik • gastroenterologie • pneumologie • orthopädie • urologie • allgemein - viszeralchirurgie • gastroenterologie • nuklearmedizin • plastische , rekonstruktive , ästhetische handchirurgie • strahlentherapie • herzchirurgie • neurochirurgie • onkologisches zentrum • unfall - wiederherstellungschirurgie ganz herzlich laden angehörige interessierte , patiententag 9 . 11 . 2019 klinikum bayreuth . bereits dritten mal ... anzeigen rehasport krebspatienten bayerische krebsgesellschaft e . v . bietet kooperation klinikum bayreuth gmbh rehasport krebspatienten . datum : laufend zeit : jeweils montags donnerstags , 16 . 30 - 17 . 45 uhr ort : turnhalle klinik hohe warte , hohe warte 8 infoblatt rehasport krebspatienten veranstaltungen offene stellen nachrichten verfügbar . stellenanzeigen kontaktdaten impressum datenschutz klinikum bayreuth gmbh preuschwitzer str . 101 , 95445 bayreuth 0921 400 - 00 poststelle klinikum - bayreuth . remove - this . de betriebsstätte klinik hohe warte hohe warte 8 , 95445 bayreuth 0921 400 - 01 poststelle klinikum - bayreuth . remove - this . de betriebsstätte klinikum preuschwitzer str . 101 , 95445 bayreuth 0921 400 - 00 poststelle klinikum - bayreuth . remove - this . de'\n",
            " 'zentrum sozialpädiatrisches zentrum städtisches klinikum braunschweig ggmbh ergebnisse anzeigen anzeigen notfall login klinikwegweiser patienten klinikwegweiser serviceangebote notfälle feedback ideen angehörige besucher zuweiser patient anmelden proben einsenden aufnahmedienst tumorkonferenzen ermächtigungen fort weiterbildungen feedback ideen karriere stellenangebote informationen bewerber ärztliches personal pflege funktionsdienst gesundheitsbereiche verwaltung technik ausbildung studium praktika freiwilligendienst arbeitgeber aktuelles veranstaltungen aktuelles veranstaltungen krankenhauszeitung magazin puls babygalerie fort weiterbildungen leitbild selbstverständnis vision zahlen daten fakten gremien betriebsleitung qualitätsmanagement bildungs veranstaltungszentrum hygiene presse förderverein zweistandortekonzept kontakt klinikum bitte melden persönlichen zugangsdaten portal anmelden zentrum sozialpädiatrisches zentrum sozialpädiatrisches zentrum überblick anmeldung behandlungsangebot team partner überblick anmeldung behandlungsangebot team partner sozialpädiatrisches zentrum holwedestraße braunschweig tel per email kontaktieren erfahrung gesunde entwicklung team sozialpädriatischen zentrums braunschweig eltern sorgen entwicklung kinder vielen fragen weiterhelfen zentrum selbständige abteilung kinderklinik schwerpunkt diagnostik beratung sowie ärztliche therapie kindern jugendlichen jungen erwachsenen entwicklungsstörungen behinderungen förderung sowie nichtärztliche therapien erfolgen meisten fällen niedergelassener therapeutinnen therapeuten ua folgenden themen wenden körperliche behinderungen zb cerebralparesen muskelerkrankungen querschnittslähmungen spina bifida geistige behinderungen folgezustände genetischer erkrankungen beispiel trisomie downsyndrom chromosomale veränderungen sowie erhebliche verlangsamung entwicklung unbekannten ursachen folgezustände vorgeburtlichen schäden beispiel alkoholfetopathie sinnesbehinderungen form seh hörstörungen sowie entwicklungsstörungen entwicklungsstörungen sprachentwicklungsverzögerungen legasthenie dyskalkulie motorischen entwicklungsstörungen chronische krankheiten hierzu zählen epilepsie tics migräne kopfschmerzen sowie stoffwechselstörungen adipositas diabetes mellitus knochenerkrankungen angeborenen herzfehlern verhaltensstörungen zb aufmerksamkeitsdefizitsyndromehyperkinetische syndrome aufmerksamkeitsdefizitsyndromehyperkinetische syndrome störung emotionalen entwicklung ängsten geschwisterrivalität tic erkrankungen einschließlich tourettesyndrom störung sozialen funktionen mutismus einnässen einkoten autismus spektrum störungen aktuelles artikel aufrufen kategorie mitarbeiter pressemitteilung stabwechsel sozialpädiatrischen zentrum spz frau dr antje mey übernimmt juli leitung sozialpädiatrischen zentrums spz klinikums braunschweig jährige bislang oberärztin klinik kinder jugendmedizin folgt dr ulrich frank jahren spitze spz wohlverdienten ruhestand tritt anmelden kind spz braunschweig untersuchen lassen möchten sollten zunächst hausarzt kinderarzt problematik besprochen stimmt behandelnde arzt behandlung sozialpädiatrischen zentrum gerne termin vereinbaren personalien aufnehmen anmeldebogen informationsblatt zukommen lassen bitte wichtige daten kindes bisherigen behandlung jetzigen problem eintragen zusätzlich behandelnde arzt anmeldebogen kommentieren unterschrift praxisstempel bestätigen schicken anmeldeschein grundlage dringlichkeit einzuschätzen versuchen junge kinder kinder akuten erkrankungen umgehend telefonisch einbestellt familien erhalten schriftliche terminmitteilung umfangreichen fragebogen vorstellungstermin mitgebracht einzelnen fällen sechs monate dauern termin erhalten gilt übrigen sozialpädiatrische zentren untersuchungstermin sollten folgendes unbedingt mitbringen überweisungsschein gelbes vorsorgeheft frühere untersuchungsbefunde foto erweiterten blauen fragebogen mindestens stunden zeit sozialpädiatrisches zentrum anmeldung erreichen zeit uhr holwedestraße braunschweig tel per email kontaktieren medizinisches leistungsspektrum gesundheit leistungsspektrum deckt vielzahl bereichen ab behandlungsschwerpunkten zählen hirnschäden geburt entstanden folgezustände entzündungen verletzungen nervensystems genetische störungen folgen sowie entwicklungsstörungen motorik sprache schulischen leistungsfähigkeit chronische neurologische erkrankungen epilepsie tics kopfschmerzen gehören besonderer fokus liegt ärztlichen psychologischen diagnostik autismus diagnostik behandlung aufmerksamkeitsdefizitsyndroms sowie spezialsprechstunde epilepsiekranke kinder jugendliche wesentliches element behandlung sozialpädiatrischen zentrum interdisziplinarität mitarbeiterinnen mitarbeiter bezüglich entwicklungsstörungen kindesalters besonders geschult erfahren trotzdem entsteht zuverlässiges bild entwicklungsstörung kindes häufig erst verschiedenen berufsgruppen miteinander austauschen aspekte entwicklungsstörung beisteuern teamgespräche wesentliches element sozialpädiatrischer arbeit schwerpunkte ergotherapie ergotherapie schulung motorischer konstruktiver sozialer fähigkeiten hinblick selbständigkeit bereich persönlichen sozialen motorischen kompetenzen mehr psychologische behandlung psychologische untersuchung behandlung entwicklungsgestörten kindes notwendig umfangreiche testverfahren beobachtungen klärung problematik herangezogen müssen mehr ärztliche behandlung sozialpädiatrischen zentrum ärztliche behandlung umfasst diagnose therapie körperlichen seelischen krankheiten entwicklungsstörungen mehr experten gesundheit wohl kindes steht erster stelle optimale medizinische psychologische therpeutische versorgung stehen erfahrene fachkräfte verfügung ergänzt team freundlichen hilfsbereiten sekretätinnen primäre ansprechpartnerinnen ansprechpartner ärztinnen ärzte leiterin sozialpädiatrisches zentrum oberärztin kinder jugendmedizin neuropädiatrie neonatologie dr antje mey holwedestraße braunschweig tel per email kontaktieren fachärztin kinder jugendmedizin dr katrin hinzmann holwedestraße braunschweig tel per email kontaktieren fachärztin kinder jugendmedizin dr franziska moldenhauer holwedestraße braunschweig tel .: 0531 595 1236 per e - mail kontaktieren fachärztin kinder - jugendmedizin katharina redyk freisestraße 9 / 10 , 38118 braunschweig tel .: 0531 595 1236 per e - mail kontaktieren fachärztin kinder - jugendmedizin dr . birgit sutter freisestraße 9 / 10 , 38118 braunschweig tel .: 0531 595 1236 per e - mail kontaktieren fachärztin kinder - jugendmedizin dr . ilona wendt freisestraße 9 / 10 , 38118 braunschweig tel .: 0531 595 1236 per e - mail kontaktieren sekretariate ambulanzen sekretärin sozialpädiatrisches zentrum karin bormann freisestraße 9 / 10 , 38118 braunschweig tel .: 0531 595 1236 per e - mail kontaktieren sekretärin sozialpädiatrisches zentrum andrea sommerfeld - wöhler freisestraße 9 / 10 , 38118 braunschweig tel .: 0531 595 1236 per e - mail kontaktieren sekretärin sozialpädiatrisches zentrum elke hübner freisestraße 9 / 10 , 38118 braunschweig tel .: 0531 595 1236 per e - mail kontaktieren kontakt impressum avb datenschutz bildnachweise videoüberwachung klinikwegweiser patienten klinikwegweiser serviceangebote notfälle feedback & ideen angehörige & besucher zuweiser patient anmelden proben einsenden aufnahmedienst tumorkonferenzen ermächtigungen fort - & weiterbildungen feedback & ideen karriere stellenangebote informationen bewerber ärztliches personal pflege - & funktionsdienst gesundheitsbereiche verwaltung technik ausbildung & studium praktika & freiwilligendienst arbeitgeber aktuelles & veranstaltungen aktuelles veranstaltungen krankenhauszeitung magazin puls babygalerie fort - & weiterbildungen leitbild selbstverständnis vision 2025 zahlen daten fakten gremien betriebsleitung qualitätsmanagement bildungs - & veranstaltungszentrum hygiene presse förderverein zwei - standorte - konzept kontakt städtisches klinikum braunschweig ggmbh freisestr . 9 / 10 38118 braunschweig tel .: 0531 / 595 - 0 fax : 0531 / 595 - 1322 info @ klinikum - braunschweig . de www . klinikum - braunschweig . de'\n",
            " 'leistung spezielle unterstützung anmeldung geburt risikosprechstunde geburtshilfe städtisches klinikum braunschweig ggmbh ergebnisse anzeigen anzeigen notfall login klinikwegweiser patienten klinikwegweiser serviceangebote notfälle feedback ideen angehörige besucher zuweiser patient anmelden proben einsenden aufnahmedienst tumorkonferenzen ermächtigungen fort weiterbildungen feedback ideen karriere stellenangebote informationen bewerber ärztliches personal pflege funktionsdienst gesundheitsbereiche verwaltung technik ausbildung studium praktika freiwilligendienst arbeitgeber aktuelles veranstaltungen aktuelles veranstaltungen krankenhauszeitung magazin puls babygalerie fort weiterbildungen leitbild selbstverständnis vision zahlen daten fakten gremien betriebsleitung qualitätsmanagement bildungs veranstaltungszentrum hygiene presse förderverein zweistandortekonzept kontakt klinikum bitte melden persönlichen zugangsdaten portal anmelden leistung spezielle unterstützung anmeldung geburt risikosprechstunde geburtshilfe risikosprechstunde geburtshilfe stellvertretende chefärztin leitende oberärztin frauenheilkunde geburtshilfe leitung geburtshilfe spezielle geburtshilfe perinatalmedizin degum ii ursula nitschegloy celler straße braunschweig tel per email kontaktieren sprechstunde besprochen mitbetreuung risikoschwangerschaften planung risikogeburt kaiserschnittes bieten spezielle sprechstunde termin risikosprechstunde vereinbaren rechtzeitig je individuellen situation überweisung frauen hausarztes schwangerschaftswoche eventuell früher zwillings mehrlingsschwangerschaften schwangerschaftswoche erstgebärenden zweit mehrgebärenden denen probleme vorangegangenen entbindung gab kaiserschnitt sauglocken zangengeburt erwartenden kind schwangerschafts geburtsrisiko besteht beispiel diabetes epilepsie bluthochdruck medikamenteneinnahme wegen chronischer erkrankung geplante mitbetreuung neugeborenen kinderklinik schwangerschaftswoche gegebenenfalls früher steißlage falls eher wenig fruchtwasser vorhanden ärztlicher beratung äußere wendung geburt steißlage kaiserschnitt möglich falle äußeren wendung erfolgt stationäre aufnahme rund stunden absprache unterlagen sprechstunde mitzubringen überweisung frauenarztes hausarztes ausgefüllten aufnahmebogen falls vorab per mail übersendet außerdem wichtigen vorbefunde aufzeichnungen zb blutzuckerwerte blutdruckwerte medikamentendosierungen kopien operationsberichte wichtige ultraschallbefunde usw termin vereinbaren anmeldung risikosprechstunde dörte kickermann celler straße braunschweig per email kontaktieren tel fax erreichbarkeit mittwoch uhr freitag uhr kreißsaal celler straße braunschweig tel kreißsaal fax download pdf anmeldeformular geburt kontakt impressum avb datenschutz bildnachweise videoüberwachung klinikwegweiser patienten klinikwegweiser serviceangebote notfälle feedback ideen angehörige besucher zuweiser patient anmelden proben einsenden aufnahmedienst tumorkonferenzen ermächtigungen fort weiterbildungen feedback ideen karriere stellenangebote informationen bewerber ärztliches personal pflege funktionsdienst gesundheitsbereiche verwaltung technik ausbildung studium praktika freiwilligendienst arbeitgeber aktuelles veranstaltungen aktuelles veranstaltungen krankenhauszeitung magazin puls babygalerie fort weiterbildungen leitbild selbstverständnis vision zahlen daten fakten gremien betriebsleitung qualitätsmanagement bildungs veranstaltungszentrum hygiene presse förderverein zweistandortekonzept kontakt städtisches klinikum braunschweig ggmbh freisestr braunschweig tel fax 322 info @ klinikum - braunschweig . de www . klinikum - braunschweig . de'\n",
            " 'zuweiser tumorkonferenzen tumorkonferenz gastrointestinaltrakt städtisches klinikum braunschweig ggmbh ergebnisse anzeigen anzeigen notfall login klinikwegweiser patienten klinikwegweiser serviceangebote notfälle feedback ideen angehörige besucher zuweiser patient anmelden proben einsenden aufnahmedienst tumorkonferenzen ermächtigungen fort weiterbildungen feedback ideen karriere stellenangebote informationen bewerber ärztliches personal pflege funktionsdienst gesundheitsbereiche verwaltung technik ausbildung studium praktika freiwilligendienst arbeitgeber aktuelles veranstaltungen aktuelles veranstaltungen krankenhauszeitung magazin puls babygalerie fort weiterbildungen leitbild selbstverständnis vision zahlen daten fakten gremien betriebsleitung qualitätsmanagement bildungs veranstaltungszentrum hygiene presse förderverein zweistandortekonzept kontakt klinikum bitte melden persönlichen zugangsdaten portal anmelden zuweiser tumorkonferenzen tumorkonferenz gastrointestinaltrakt tumorkonferenz gastrointestinaltrakt behandlung krebserkrankungen experten unterschiedlichen medizinischen fachrichtungen involviert tumorkonferenz bringt diagnostik therapie erkrankung beteiligten mediziner zusammen rahmen tumorkonferenz diagnostik therapie erkrankung beteiligten befunde behandlungsstrategien besprochen interdisziplinäre vorgehen entspricht anforderungen deutschen krebsgesellschaft dkg wann findet konferenz statt dienstag findet konferenz statt tumorkonferenz form videokonferenz durchgeführt möglichst vielen beteiligten teilnahme ermöglichen standort celler strasse findet besprechungsraum klinik radioonkologie standort salzdahlumer strasse besprechungsraum radiologie statt zuweiser patienten anmelden jederzeit möglichkeit patientinnen patienten tumorkonferenz anzumelden anmeldung erfolgt entweder unten genannten personen beteiligten kliniken chirurgie gastroenterologie hämatologieonkologie radioonkologie sekretariate direkten kontakt ärzte medizinische dokumentationsassistentin cancer center braunschweig gabriele ashour celler straße braunschweig tel per email kontaktieren medizinische dokumentationsassistentin cancer center braunschweig claudia koroll celler straße braunschweig tel per email kontaktieren zuweiser konferenz teilnehmen tumorkonferenz teilzunehmen gerne wenden medizinische dokumentationsassistentin cancer center braunschweig gabriele ashour celler straße braunschweig tel per email kontaktieren medizinische dokumentationsassistentin cancer center braunschweig claudia koroll celler straße braunschweig tel per email kontaktieren medizinischen fachrichtungen klinikums nehmen konferenz teil gastroenterologie diabetologie salzdahlumer straße braunschweig tel fax allgemein viszeralchirurgie salzdahlumer straße braunschweig tel fax per email kontaktieren radiologie nuklearmedizin salzdahlumer straße braunschweig tel anmeldung radiologie fax per email kontaktieren strahlentherapie radioonkologie celler straße 14 braunschweig tel .: 0531 595 3371 fax : 0531 595 3453 per e - mail kontaktieren pathologie celler straße 38 , 38114 braunschweig tel .: 0531 595 3312 fax : 0531 595 3449 per e - mail kontaktieren hämatologie & onkologie celler straße 38 , 38114 braunschweig tel .: 0531 595 3224 fax : 0531 595 3757 per e - mail kontaktieren kontakt impressum avb datenschutz bildnachweise videoüberwachung klinikwegweiser patienten klinikwegweiser serviceangebote notfälle feedback & ideen angehörige & besucher zuweiser patient anmelden proben einsenden aufnahmedienst tumorkonferenzen ermächtigungen fort - & weiterbildungen feedback & ideen karriere stellenangebote informationen bewerber ärztliches personal pflege - & funktionsdienst gesundheitsbereiche verwaltung technik ausbildung & studium praktika & freiwilligendienst arbeitgeber aktuelles & veranstaltungen aktuelles veranstaltungen krankenhauszeitung magazin puls babygalerie fort - & weiterbildungen leitbild selbstverständnis vision 2025 zahlen daten fakten gremien betriebsleitung qualitätsmanagement bildungs - & veranstaltungszentrum hygiene presse förderverein zwei - standorte - konzept kontakt städtisches klinikum braunschweig ggmbh freisestr . 9 / 10 38118 braunschweig tel .: 0531 / 595 - 0 fax : 0531 / 595 - 1322 info @ klinikum - braunschweig . de www . klinikum - braunschweig . de']\n"
          ],
          "name": "stdout"
        },
        {
          "output_type": "execute_result",
          "data": {
            "text/html": [
              "<div>\n",
              "<style scoped>\n",
              "    .dataframe tbody tr th:only-of-type {\n",
              "        vertical-align: middle;\n",
              "    }\n",
              "\n",
              "    .dataframe tbody tr th {\n",
              "        vertical-align: top;\n",
              "    }\n",
              "\n",
              "    .dataframe thead th {\n",
              "        text-align: right;\n",
              "    }\n",
              "</style>\n",
              "<table border=\"1\" class=\"dataframe\">\n",
              "  <thead>\n",
              "    <tr style=\"text-align: right;\">\n",
              "      <th></th>\n",
              "      <th>url</th>\n",
              "      <th>doc_id</th>\n",
              "      <th>label</th>\n",
              "    </tr>\n",
              "  </thead>\n",
              "  <tbody>\n",
              "    <tr>\n",
              "      <th>0</th>\n",
              "      <td>http://elbe-elster-klinikum.de/fachbereiche/ch...</td>\n",
              "      <td>1</td>\n",
              "      <td>1</td>\n",
              "    </tr>\n",
              "    <tr>\n",
              "      <th>1</th>\n",
              "      <td>http://klinikum-bayreuth.de/einrichtungen/zent...</td>\n",
              "      <td>3</td>\n",
              "      <td>3</td>\n",
              "    </tr>\n",
              "    <tr>\n",
              "      <th>2</th>\n",
              "      <td>http://klinikum-braunschweig.de/info.php/?id_o...</td>\n",
              "      <td>4</td>\n",
              "      <td>1</td>\n",
              "    </tr>\n",
              "    <tr>\n",
              "      <th>3</th>\n",
              "      <td>http://klinikum-braunschweig.de/info.php/?id_o...</td>\n",
              "      <td>5</td>\n",
              "      <td>1</td>\n",
              "    </tr>\n",
              "    <tr>\n",
              "      <th>4</th>\n",
              "      <td>http://klinikum-braunschweig.de/zuweiser/tumor...</td>\n",
              "      <td>6</td>\n",
              "      <td>3</td>\n",
              "    </tr>\n",
              "  </tbody>\n",
              "</table>\n",
              "</div>"
            ],
            "text/plain": [
              "                                                 url  doc_id  label\n",
              "0  http://elbe-elster-klinikum.de/fachbereiche/ch...       1      1\n",
              "1  http://klinikum-bayreuth.de/einrichtungen/zent...       3      3\n",
              "2  http://klinikum-braunschweig.de/info.php/?id_o...       4      1\n",
              "3  http://klinikum-braunschweig.de/info.php/?id_o...       5      1\n",
              "4  http://klinikum-braunschweig.de/zuweiser/tumor...       6      3"
            ]
          },
          "metadata": {
            "tags": []
          },
          "execution_count": 508
        }
      ]
    },
    {
      "cell_type": "markdown",
      "metadata": {
        "id": "vxAvh7xXeGF2",
        "colab_type": "text"
      },
      "source": [
        "**My attemptions to get good model for classification**\n"
      ]
    },
    {
      "cell_type": "code",
      "metadata": {
        "id": "MF45p2W4fGTV",
        "colab_type": "code",
        "colab": {
          "base_uri": "https://localhost:8080/",
          "height": 51
        },
        "outputId": "a6308c1a-c636-4ff7-c31b-db097d5a6f47"
      },
      "source": [
        "from sklearn.pipeline import Pipeline\n",
        "from sklearn.feature_extraction.text import CountVectorizer, TfidfVectorizer\n",
        "from sklearn.metrics import accuracy_score, f1_score\n",
        "from sklearn.metrics.scorer import make_scorer\n",
        "from sklearn.linear_model import LogisticRegression\n",
        "from sklearn.model_selection import cross_val_score, GridSearchCV\n",
        "from matplotlib import pyplot as plt\n",
        "from sklearn.feature_extraction.text import TfidfVectorizer\n",
        "nltk.download('stopwords')\n",
        "stop_words = nltk.corpus.stopwords.words('german')"
      ],
      "execution_count": 509,
      "outputs": [
        {
          "output_type": "stream",
          "text": [
            "[nltk_data] Downloading package stopwords to /root/nltk_data...\n",
            "[nltk_data]   Package stopwords is already up-to-date!\n"
          ],
          "name": "stdout"
        }
      ]
    },
    {
      "cell_type": "markdown",
      "metadata": {
        "id": "FpS2x1vy5LB4",
        "colab_type": "text"
      },
      "source": [
        "**Let's try to use LogisticRegression**"
      ]
    },
    {
      "cell_type": "code",
      "metadata": {
        "id": "f1dl2Y8NkRjs",
        "colab_type": "code",
        "colab": {}
      },
      "source": [
        "# initialize a stratified breakdown of our dataset for validation\n",
        "skf = StratifiedKFold(n_splits=5, shuffle=True, random_state=42)\n",
        "\n",
        "# for feature engineering I use vanilla CountVectizer\n",
        "# i tried to use TF-IDF for feature engineering but it gave me lesser accuracy\n",
        "pipeline = Pipeline([\n",
        "    (\"vectorizer\", CountVectorizer(min_df=0.1, \n",
        "                                   max_df=0.7, \n",
        "                                   ngram_range=(1, 2), \n",
        "                                   stop_words=stop_words)),\n",
        "    (\"algo\", LogisticRegression(penalty='l2', C=10))\n",
        "])"
      ],
      "execution_count": 510,
      "outputs": []
    },
    {
      "cell_type": "code",
      "metadata": {
        "id": "MS3gTf-TsFV4",
        "colab_type": "code",
        "colab": {
          "base_uri": "https://localhost:8080/",
          "height": 68
        },
        "outputId": "1e8fcdd8-b5cf-4c95-cde4-3034bcba2402"
      },
      "source": [
        "%%time\n",
        "clf = pipeline\n",
        "clf.fit(doc_train, y_train)\n",
        "\n",
        "results = cross_val_score(clf, doc_train, y_train, cv=skf)\n",
        "\n",
        "# estimate mean accuracy\n",
        "print(\"Mean accuracy score: {:.4f}\".format(results.mean()))"
      ],
      "execution_count": 511,
      "outputs": [
        {
          "output_type": "stream",
          "text": [
            "Mean accuracy score: 0.5901\n",
            "CPU times: user 2.48 s, sys: 18.8 ms, total: 2.5 s\n",
            "Wall time: 2.5 s\n"
          ],
          "name": "stdout"
        }
      ]
    },
    {
      "cell_type": "code",
      "metadata": {
        "id": "JIFquDBCsR0Z",
        "colab_type": "code",
        "colab": {
          "base_uri": "https://localhost:8080/",
          "height": 34
        },
        "outputId": "3be3431c-6289-4971-ddba-853388e2ff46"
      },
      "source": [
        "print(\"Train accuracy: {:.4f}, train f-measure: {:.4f}\".format(\n",
        "    accuracy_score(clf.predict(doc_train), y_train),\n",
        "    f_scorer(clf, doc_train, y_train)\n",
        "))"
      ],
      "execution_count": 514,
      "outputs": [
        {
          "output_type": "stream",
          "text": [
            "Train accuracy: 1.0000, train f-measure: 1.0000\n"
          ],
          "name": "stdout"
        }
      ]
    },
    {
      "cell_type": "code",
      "metadata": {
        "id": "Lpeb2n28sWhn",
        "colab_type": "code",
        "colab": {
          "base_uri": "https://localhost:8080/",
          "height": 34
        },
        "outputId": "67c4bcd7-4758-4ec0-b3df-fe68b772f103"
      },
      "source": [
        "print(\"Test accuracy: {:.4f}, test f-measure: {:.4f}\".format(\n",
        "    accuracy_score(clf.predict(doc_test), y_test),\n",
        "    f_scorer(clf, doc_test, y_test)\n",
        "))"
      ],
      "execution_count": 515,
      "outputs": [
        {
          "output_type": "stream",
          "text": [
            "Test accuracy: 0.6765, test f-measure: 0.5788\n"
          ],
          "name": "stdout"
        }
      ]
    },
    {
      "cell_type": "code",
      "metadata": {
        "id": "zLRFs_2MmEvk",
        "colab_type": "code",
        "colab": {
          "base_uri": "https://localhost:8080/",
          "height": 51
        },
        "outputId": "ed5d48d4-7f5a-4802-e358-d921d9e20159"
      },
      "source": [
        "# save predicts for test.csv with this classificier\n",
        "predict = clf.predict(html_texts_test)\n",
        "print(predict)"
      ],
      "execution_count": 516,
      "outputs": [
        {
          "output_type": "stream",
          "text": [
            "[2 1 2 2 2 2 2 2 1 1 2 1 2 2 2 1 2 3 2 2 2 2 2 2 2 2 2 3 2 1 2 2 2 2 2 2 2\n",
            " 2 2 1 2 2 2 2 2 2 2 1]\n"
          ],
          "name": "stdout"
        }
      ]
    },
    {
      "cell_type": "markdown",
      "metadata": {
        "id": "OXsvoEgK41dp",
        "colab_type": "text"
      },
      "source": [
        "**Let's try to use Random Forest**"
      ]
    },
    {
      "cell_type": "code",
      "metadata": {
        "id": "HPaUjkHo45bJ",
        "colab_type": "code",
        "colab": {
          "base_uri": "https://localhost:8080/",
          "height": 34
        },
        "outputId": "959284f6-69e2-4e79-ed8f-65f46e7c63f5"
      },
      "source": [
        "# initialize a stratified breakdown of our dataset for validation\n",
        "skf = StratifiedKFold(n_splits=5, shuffle=True, random_state=42)\n",
        "\n",
        "# initialize our classifier with parameters that should be better for this task\n",
        "# i just had some additional experiments to get great parameters\n",
        "pipeline = Pipeline([\n",
        "    (\"vectorizer\", TfidfVectorizer(min_df=0., \n",
        "                                   max_df=1., \n",
        "                                   use_idf=True, \n",
        "                                   stop_words=stop_words)),\n",
        "    (\"algo\", RandomForestClassifier(n_estimators=50, \n",
        "                             max_depth=15, \n",
        "                             min_samples_leaf=1, \n",
        "                             random_state=42, \n",
        "                             n_jobs=-1, \n",
        "                             oob_score=True))\n",
        "])\n",
        "\n",
        "clf = pipeline\n",
        "clf.fit(doc_train, y_train)\n",
        "\n",
        "results = cross_val_score(clf, doc_train, y_train, cv=skf)\n",
        "\n",
        "# estimate mean accuracy\n",
        "print(\"Mean accuracy score: {:.4f}\".format(results.mean()))"
      ],
      "execution_count": 517,
      "outputs": [
        {
          "output_type": "stream",
          "text": [
            "Mean accuracy score: 0.6505\n"
          ],
          "name": "stdout"
        }
      ]
    },
    {
      "cell_type": "code",
      "metadata": {
        "id": "ld11ME7ZtdsR",
        "colab_type": "code",
        "colab": {
          "base_uri": "https://localhost:8080/",
          "height": 34
        },
        "outputId": "30e9820c-23c3-484f-de83-3f0cfbe4d7a6"
      },
      "source": [
        "print(\"Train accuracy: {:.4f}, train f-measure: {:.4f}\".format(\n",
        "    accuracy_score(clf.predict(doc_train), y_train),\n",
        "    f_scorer(clf, doc_train, y_train)\n",
        "))"
      ],
      "execution_count": 518,
      "outputs": [
        {
          "output_type": "stream",
          "text": [
            "Train accuracy: 1.0000, train f-measure: 1.0000\n"
          ],
          "name": "stdout"
        }
      ]
    },
    {
      "cell_type": "code",
      "metadata": {
        "id": "PRRZkKd4te9E",
        "colab_type": "code",
        "colab": {
          "base_uri": "https://localhost:8080/",
          "height": 34
        },
        "outputId": "8c7dfade-e084-41a5-86b7-d69b33a5acdc"
      },
      "source": [
        "print(\"Test accuracy: {:.4f}, test f-measure: {:.4f}\".format(\n",
        "    accuracy_score(clf.predict(doc_test), y_test),\n",
        "    f_scorer(clf, doc_test, y_test)\n",
        "))"
      ],
      "execution_count": 519,
      "outputs": [
        {
          "output_type": "stream",
          "text": [
            "Test accuracy: 0.5588, test f-measure: 0.2829\n"
          ],
          "name": "stdout"
        }
      ]
    },
    {
      "cell_type": "markdown",
      "metadata": {
        "id": "szPgInEplTTn",
        "colab_type": "text"
      },
      "source": [
        "Unfortunately it didn't help us and accuracy is lesser. "
      ]
    },
    {
      "cell_type": "markdown",
      "metadata": {
        "id": "aBSJOU6P49bR",
        "colab_type": "text"
      },
      "source": [
        "**So let's try to use XGboost classificier**"
      ]
    },
    {
      "cell_type": "code",
      "metadata": {
        "id": "UUawq7yxlRkY",
        "colab_type": "code",
        "colab": {}
      },
      "source": [
        "# initialize a stratified breakdown of our dataset for validation\n",
        "skf = StratifiedKFold(n_splits=5, shuffle=True, random_state=42)\n",
        "\n",
        "# try to use XGBoost\n",
        "clf = XGBClassifier(learning_rate=0.1, \n",
        "                    n_estimators=140, \n",
        "                    max_depth=5,\n",
        "                    min_child_weight=3, \n",
        "                    gamma=0.2, \n",
        "                    subsample=0.6,\n",
        "                    colsample_bytree=1.0,\n",
        "                    objective='multi:softmax', \n",
        "                    nthread=4, \n",
        "                    scale_pos_weight=1, \n",
        "                    seed=27)\n"
      ],
      "execution_count": 525,
      "outputs": []
    },
    {
      "cell_type": "code",
      "metadata": {
        "id": "KlAzRTpjoJzm",
        "colab_type": "code",
        "colab": {}
      },
      "source": [
        "parameters = {'clf__depth': (1, 5, 10), \n",
        "              'clf__n_estimators': (50, 100, 150, 200)}\n",
        "# here I want to use grid search for choosing the best parameters\n",
        "clf = GridSearchCV(clf, param_grid=parameters, scoring='accuracy', cv=5, verbose=2)"
      ],
      "execution_count": 526,
      "outputs": []
    },
    {
      "cell_type": "code",
      "metadata": {
        "id": "zD5eymZGseHP",
        "colab_type": "code",
        "colab": {}
      },
      "source": [
        "pipeline = Pipeline([\n",
        "    (\"vectorizer\", CountVectorizer(min_df=0.1, \n",
        "                                   max_df=0.7, \n",
        "                                   ngram_range=(1, 2), \n",
        "                                   stop_words=stop_words)),\n",
        "    (\"algo\", clf)\n",
        "])"
      ],
      "execution_count": 527,
      "outputs": []
    },
    {
      "cell_type": "code",
      "metadata": {
        "id": "Ok9RDeTgoM68",
        "colab_type": "code",
        "colab": {
          "base_uri": "https://localhost:8080/",
          "height": 1000
        },
        "outputId": "a54d8898-9557-4de7-8663-4eb64d59ea9d"
      },
      "source": [
        "clf = pipeline\n",
        "clf.fit(doc_train, y_train)\n",
        "\n",
        "results = cross_val_score(clf, doc_train, y_train, cv=skf)\n",
        "\n",
        "# estimate mean accuracy\n",
        "print(\"Mean accuracy score: {:.4f}\".format(results.mean()))"
      ],
      "execution_count": 528,
      "outputs": [
        {
          "output_type": "stream",
          "text": [
            "Fitting 5 folds for each of 12 candidates, totalling 60 fits\n",
            "[CV] clf__depth=1, clf__n_estimators=50 ..............................\n"
          ],
          "name": "stdout"
        },
        {
          "output_type": "stream",
          "text": [
            "[Parallel(n_jobs=1)]: Using backend SequentialBackend with 1 concurrent workers.\n"
          ],
          "name": "stderr"
        },
        {
          "output_type": "stream",
          "text": [
            "[CV] ............... clf__depth=1, clf__n_estimators=50, total=   0.6s\n",
            "[CV] clf__depth=1, clf__n_estimators=50 ..............................\n"
          ],
          "name": "stdout"
        },
        {
          "output_type": "stream",
          "text": [
            "[Parallel(n_jobs=1)]: Done   1 out of   1 | elapsed:    0.6s remaining:    0.0s\n"
          ],
          "name": "stderr"
        },
        {
          "output_type": "stream",
          "text": [
            "[CV] ............... clf__depth=1, clf__n_estimators=50, total=   0.6s\n",
            "[CV] clf__depth=1, clf__n_estimators=50 ..............................\n",
            "[CV] ............... clf__depth=1, clf__n_estimators=50, total=   0.5s\n",
            "[CV] clf__depth=1, clf__n_estimators=50 ..............................\n",
            "[CV] ............... clf__depth=1, clf__n_estimators=50, total=   0.6s\n",
            "[CV] clf__depth=1, clf__n_estimators=50 ..............................\n",
            "[CV] ............... clf__depth=1, clf__n_estimators=50, total=   0.6s\n",
            "[CV] clf__depth=1, clf__n_estimators=100 .............................\n",
            "[CV] .............. clf__depth=1, clf__n_estimators=100, total=   0.6s\n",
            "[CV] clf__depth=1, clf__n_estimators=100 .............................\n",
            "[CV] .............. clf__depth=1, clf__n_estimators=100, total=   0.6s\n",
            "[CV] clf__depth=1, clf__n_estimators=100 .............................\n",
            "[CV] .............. clf__depth=1, clf__n_estimators=100, total=   0.6s\n",
            "[CV] clf__depth=1, clf__n_estimators=100 .............................\n",
            "[CV] .............. clf__depth=1, clf__n_estimators=100, total=   0.6s\n",
            "[CV] clf__depth=1, clf__n_estimators=100 .............................\n",
            "[CV] .............. clf__depth=1, clf__n_estimators=100, total=   0.6s\n",
            "[CV] clf__depth=1, clf__n_estimators=150 .............................\n",
            "[CV] .............. clf__depth=1, clf__n_estimators=150, total=   0.6s\n",
            "[CV] clf__depth=1, clf__n_estimators=150 .............................\n",
            "[CV] .............. clf__depth=1, clf__n_estimators=150, total=   0.6s\n",
            "[CV] clf__depth=1, clf__n_estimators=150 .............................\n",
            "[CV] .............. clf__depth=1, clf__n_estimators=150, total=   0.6s\n",
            "[CV] clf__depth=1, clf__n_estimators=150 .............................\n",
            "[CV] .............. clf__depth=1, clf__n_estimators=150, total=   0.6s\n",
            "[CV] clf__depth=1, clf__n_estimators=150 .............................\n",
            "[CV] .............. clf__depth=1, clf__n_estimators=150, total=   0.6s\n",
            "[CV] clf__depth=1, clf__n_estimators=200 .............................\n",
            "[CV] .............. clf__depth=1, clf__n_estimators=200, total=   0.6s\n",
            "[CV] clf__depth=1, clf__n_estimators=200 .............................\n",
            "[CV] .............. clf__depth=1, clf__n_estimators=200, total=   0.6s\n",
            "[CV] clf__depth=1, clf__n_estimators=200 .............................\n",
            "[CV] .............. clf__depth=1, clf__n_estimators=200, total=   0.6s\n",
            "[CV] clf__depth=1, clf__n_estimators=200 .............................\n",
            "[CV] .............. clf__depth=1, clf__n_estimators=200, total=   0.6s\n",
            "[CV] clf__depth=1, clf__n_estimators=200 .............................\n",
            "[CV] .............. clf__depth=1, clf__n_estimators=200, total=   0.6s\n",
            "[CV] clf__depth=5, clf__n_estimators=50 ..............................\n",
            "[CV] ............... clf__depth=5, clf__n_estimators=50, total=   0.6s\n",
            "[CV] clf__depth=5, clf__n_estimators=50 ..............................\n",
            "[CV] ............... clf__depth=5, clf__n_estimators=50, total=   0.6s\n",
            "[CV] clf__depth=5, clf__n_estimators=50 ..............................\n",
            "[CV] ............... clf__depth=5, clf__n_estimators=50, total=   0.5s\n",
            "[CV] clf__depth=5, clf__n_estimators=50 ..............................\n",
            "[CV] ............... clf__depth=5, clf__n_estimators=50, total=   0.6s\n",
            "[CV] clf__depth=5, clf__n_estimators=50 ..............................\n",
            "[CV] ............... clf__depth=5, clf__n_estimators=50, total=   0.6s\n",
            "[CV] clf__depth=5, clf__n_estimators=100 .............................\n",
            "[CV] .............. clf__depth=5, clf__n_estimators=100, total=   0.6s\n",
            "[CV] clf__depth=5, clf__n_estimators=100 .............................\n",
            "[CV] .............. clf__depth=5, clf__n_estimators=100, total=   0.6s\n",
            "[CV] clf__depth=5, clf__n_estimators=100 .............................\n",
            "[CV] .............. clf__depth=5, clf__n_estimators=100, total=   0.6s\n",
            "[CV] clf__depth=5, clf__n_estimators=100 .............................\n",
            "[CV] .............. clf__depth=5, clf__n_estimators=100, total=   0.6s\n",
            "[CV] clf__depth=5, clf__n_estimators=100 .............................\n",
            "[CV] .............. clf__depth=5, clf__n_estimators=100, total=   0.6s\n",
            "[CV] clf__depth=5, clf__n_estimators=150 .............................\n",
            "[CV] .............. clf__depth=5, clf__n_estimators=150, total=   0.6s\n",
            "[CV] clf__depth=5, clf__n_estimators=150 .............................\n",
            "[CV] .............. clf__depth=5, clf__n_estimators=150, total=   0.6s\n",
            "[CV] clf__depth=5, clf__n_estimators=150 .............................\n",
            "[CV] .............. clf__depth=5, clf__n_estimators=150, total=   0.5s\n",
            "[CV] clf__depth=5, clf__n_estimators=150 .............................\n",
            "[CV] .............. clf__depth=5, clf__n_estimators=150, total=   0.6s\n",
            "[CV] clf__depth=5, clf__n_estimators=150 .............................\n",
            "[CV] .............. clf__depth=5, clf__n_estimators=150, total=   0.6s\n",
            "[CV] clf__depth=5, clf__n_estimators=200 .............................\n",
            "[CV] .............. clf__depth=5, clf__n_estimators=200, total=   0.6s\n",
            "[CV] clf__depth=5, clf__n_estimators=200 .............................\n",
            "[CV] .............. clf__depth=5, clf__n_estimators=200, total=   0.6s\n",
            "[CV] clf__depth=5, clf__n_estimators=200 .............................\n",
            "[CV] .............. clf__depth=5, clf__n_estimators=200, total=   0.6s\n",
            "[CV] clf__depth=5, clf__n_estimators=200 .............................\n",
            "[CV] .............. clf__depth=5, clf__n_estimators=200, total=   0.6s\n",
            "[CV] clf__depth=5, clf__n_estimators=200 .............................\n",
            "[CV] .............. clf__depth=5, clf__n_estimators=200, total=   0.6s\n",
            "[CV] clf__depth=10, clf__n_estimators=50 .............................\n",
            "[CV] .............. clf__depth=10, clf__n_estimators=50, total=   0.6s\n",
            "[CV] clf__depth=10, clf__n_estimators=50 .............................\n",
            "[CV] .............. clf__depth=10, clf__n_estimators=50, total=   0.6s\n",
            "[CV] clf__depth=10, clf__n_estimators=50 .............................\n",
            "[CV] .............. clf__depth=10, clf__n_estimators=50, total=   0.6s\n",
            "[CV] clf__depth=10, clf__n_estimators=50 .............................\n",
            "[CV] .............. clf__depth=10, clf__n_estimators=50, total=   0.6s\n",
            "[CV] clf__depth=10, clf__n_estimators=50 .............................\n",
            "[CV] .............. clf__depth=10, clf__n_estimators=50, total=   0.6s\n",
            "[CV] clf__depth=10, clf__n_estimators=100 ............................\n",
            "[CV] ............. clf__depth=10, clf__n_estimators=100, total=   0.6s\n",
            "[CV] clf__depth=10, clf__n_estimators=100 ............................\n",
            "[CV] ............. clf__depth=10, clf__n_estimators=100, total=   0.6s\n",
            "[CV] clf__depth=10, clf__n_estimators=100 ............................\n",
            "[CV] ............. clf__depth=10, clf__n_estimators=100, total=   0.6s\n",
            "[CV] clf__depth=10, clf__n_estimators=100 ............................\n",
            "[CV] ............. clf__depth=10, clf__n_estimators=100, total=   0.6s\n",
            "[CV] clf__depth=10, clf__n_estimators=100 ............................\n",
            "[CV] ............. clf__depth=10, clf__n_estimators=100, total=   0.6s\n",
            "[CV] clf__depth=10, clf__n_estimators=150 ............................\n",
            "[CV] ............. clf__depth=10, clf__n_estimators=150, total=   0.6s\n",
            "[CV] clf__depth=10, clf__n_estimators=150 ............................\n",
            "[CV] ............. clf__depth=10, clf__n_estimators=150, total=   0.6s\n",
            "[CV] clf__depth=10, clf__n_estimators=150 ............................\n",
            "[CV] ............. clf__depth=10, clf__n_estimators=150, total=   0.6s\n",
            "[CV] clf__depth=10, clf__n_estimators=150 ............................\n",
            "[CV] ............. clf__depth=10, clf__n_estimators=150, total=   0.6s\n",
            "[CV] clf__depth=10, clf__n_estimators=150 ............................\n",
            "[CV] ............. clf__depth=10, clf__n_estimators=150, total=   0.6s\n",
            "[CV] clf__depth=10, clf__n_estimators=200 ............................\n",
            "[CV] ............. clf__depth=10, clf__n_estimators=200, total=   0.6s\n",
            "[CV] clf__depth=10, clf__n_estimators=200 ............................\n",
            "[CV] ............. clf__depth=10, clf__n_estimators=200, total=   0.6s\n",
            "[CV] clf__depth=10, clf__n_estimators=200 ............................\n",
            "[CV] ............. clf__depth=10, clf__n_estimators=200, total=   0.6s\n",
            "[CV] clf__depth=10, clf__n_estimators=200 ............................\n",
            "[CV] ............. clf__depth=10, clf__n_estimators=200, total=   0.6s\n",
            "[CV] clf__depth=10, clf__n_estimators=200 ............................\n",
            "[CV] ............. clf__depth=10, clf__n_estimators=200, total=   0.6s\n"
          ],
          "name": "stdout"
        },
        {
          "output_type": "stream",
          "text": [
            "[Parallel(n_jobs=1)]: Done  60 out of  60 | elapsed:   34.7s finished\n"
          ],
          "name": "stderr"
        },
        {
          "output_type": "stream",
          "text": [
            "Fitting 5 folds for each of 12 candidates, totalling 60 fits\n",
            "[CV] clf__depth=1, clf__n_estimators=50 ..............................\n"
          ],
          "name": "stdout"
        },
        {
          "output_type": "stream",
          "text": [
            "[Parallel(n_jobs=1)]: Using backend SequentialBackend with 1 concurrent workers.\n"
          ],
          "name": "stderr"
        },
        {
          "output_type": "stream",
          "text": [
            "[CV] ............... clf__depth=1, clf__n_estimators=50, total=   0.4s\n",
            "[CV] clf__depth=1, clf__n_estimators=50 ..............................\n"
          ],
          "name": "stdout"
        },
        {
          "output_type": "stream",
          "text": [
            "[Parallel(n_jobs=1)]: Done   1 out of   1 | elapsed:    0.4s remaining:    0.0s\n"
          ],
          "name": "stderr"
        },
        {
          "output_type": "stream",
          "text": [
            "[CV] ............... clf__depth=1, clf__n_estimators=50, total=   0.4s\n",
            "[CV] clf__depth=1, clf__n_estimators=50 ..............................\n",
            "[CV] ............... clf__depth=1, clf__n_estimators=50, total=   0.4s\n",
            "[CV] clf__depth=1, clf__n_estimators=50 ..............................\n",
            "[CV] ............... clf__depth=1, clf__n_estimators=50, total=   0.4s\n",
            "[CV] clf__depth=1, clf__n_estimators=50 ..............................\n",
            "[CV] ............... clf__depth=1, clf__n_estimators=50, total=   0.4s\n",
            "[CV] clf__depth=1, clf__n_estimators=100 .............................\n",
            "[CV] .............. clf__depth=1, clf__n_estimators=100, total=   0.4s\n",
            "[CV] clf__depth=1, clf__n_estimators=100 .............................\n",
            "[CV] .............. clf__depth=1, clf__n_estimators=100, total=   0.4s\n",
            "[CV] clf__depth=1, clf__n_estimators=100 .............................\n",
            "[CV] .............. clf__depth=1, clf__n_estimators=100, total=   0.4s\n",
            "[CV] clf__depth=1, clf__n_estimators=100 .............................\n",
            "[CV] .............. clf__depth=1, clf__n_estimators=100, total=   0.4s\n",
            "[CV] clf__depth=1, clf__n_estimators=100 .............................\n",
            "[CV] .............. clf__depth=1, clf__n_estimators=100, total=   0.4s\n",
            "[CV] clf__depth=1, clf__n_estimators=150 .............................\n",
            "[CV] .............. clf__depth=1, clf__n_estimators=150, total=   0.4s\n",
            "[CV] clf__depth=1, clf__n_estimators=150 .............................\n",
            "[CV] .............. clf__depth=1, clf__n_estimators=150, total=   0.4s\n",
            "[CV] clf__depth=1, clf__n_estimators=150 .............................\n",
            "[CV] .............. clf__depth=1, clf__n_estimators=150, total=   0.4s\n",
            "[CV] clf__depth=1, clf__n_estimators=150 .............................\n",
            "[CV] .............. clf__depth=1, clf__n_estimators=150, total=   0.4s\n",
            "[CV] clf__depth=1, clf__n_estimators=150 .............................\n",
            "[CV] .............. clf__depth=1, clf__n_estimators=150, total=   0.4s\n",
            "[CV] clf__depth=1, clf__n_estimators=200 .............................\n",
            "[CV] .............. clf__depth=1, clf__n_estimators=200, total=   0.4s\n",
            "[CV] clf__depth=1, clf__n_estimators=200 .............................\n",
            "[CV] .............. clf__depth=1, clf__n_estimators=200, total=   0.5s\n",
            "[CV] clf__depth=1, clf__n_estimators=200 .............................\n",
            "[CV] .............. clf__depth=1, clf__n_estimators=200, total=   0.4s\n",
            "[CV] clf__depth=1, clf__n_estimators=200 .............................\n",
            "[CV] .............. clf__depth=1, clf__n_estimators=200, total=   0.5s\n",
            "[CV] clf__depth=1, clf__n_estimators=200 .............................\n",
            "[CV] .............. clf__depth=1, clf__n_estimators=200, total=   0.6s\n",
            "[CV] clf__depth=5, clf__n_estimators=50 ..............................\n",
            "[CV] ............... clf__depth=5, clf__n_estimators=50, total=   0.6s\n",
            "[CV] clf__depth=5, clf__n_estimators=50 ..............................\n",
            "[CV] ............... clf__depth=5, clf__n_estimators=50, total=   0.7s\n",
            "[CV] clf__depth=5, clf__n_estimators=50 ..............................\n",
            "[CV] ............... clf__depth=5, clf__n_estimators=50, total=   0.7s\n",
            "[CV] clf__depth=5, clf__n_estimators=50 ..............................\n",
            "[CV] ............... clf__depth=5, clf__n_estimators=50, total=   0.4s\n",
            "[CV] clf__depth=5, clf__n_estimators=50 ..............................\n",
            "[CV] ............... clf__depth=5, clf__n_estimators=50, total=   0.4s\n",
            "[CV] clf__depth=5, clf__n_estimators=100 .............................\n",
            "[CV] .............. clf__depth=5, clf__n_estimators=100, total=   0.4s\n",
            "[CV] clf__depth=5, clf__n_estimators=100 .............................\n",
            "[CV] .............. clf__depth=5, clf__n_estimators=100, total=   0.4s\n",
            "[CV] clf__depth=5, clf__n_estimators=100 .............................\n",
            "[CV] .............. clf__depth=5, clf__n_estimators=100, total=   0.4s\n",
            "[CV] clf__depth=5, clf__n_estimators=100 .............................\n",
            "[CV] .............. clf__depth=5, clf__n_estimators=100, total=   0.4s\n",
            "[CV] clf__depth=5, clf__n_estimators=100 .............................\n",
            "[CV] .............. clf__depth=5, clf__n_estimators=100, total=   0.4s\n",
            "[CV] clf__depth=5, clf__n_estimators=150 .............................\n",
            "[CV] .............. clf__depth=5, clf__n_estimators=150, total=   0.4s\n",
            "[CV] clf__depth=5, clf__n_estimators=150 .............................\n",
            "[CV] .............. clf__depth=5, clf__n_estimators=150, total=   0.4s\n",
            "[CV] clf__depth=5, clf__n_estimators=150 .............................\n",
            "[CV] .............. clf__depth=5, clf__n_estimators=150, total=   0.4s\n",
            "[CV] clf__depth=5, clf__n_estimators=150 .............................\n",
            "[CV] .............. clf__depth=5, clf__n_estimators=150, total=   0.4s\n",
            "[CV] clf__depth=5, clf__n_estimators=150 .............................\n",
            "[CV] .............. clf__depth=5, clf__n_estimators=150, total=   0.4s\n",
            "[CV] clf__depth=5, clf__n_estimators=200 .............................\n",
            "[CV] .............. clf__depth=5, clf__n_estimators=200, total=   0.4s\n",
            "[CV] clf__depth=5, clf__n_estimators=200 .............................\n",
            "[CV] .............. clf__depth=5, clf__n_estimators=200, total=   0.4s\n",
            "[CV] clf__depth=5, clf__n_estimators=200 .............................\n",
            "[CV] .............. clf__depth=5, clf__n_estimators=200, total=   0.4s\n",
            "[CV] clf__depth=5, clf__n_estimators=200 .............................\n",
            "[CV] .............. clf__depth=5, clf__n_estimators=200, total=   0.5s\n",
            "[CV] clf__depth=5, clf__n_estimators=200 .............................\n",
            "[CV] .............. clf__depth=5, clf__n_estimators=200, total=   0.4s\n",
            "[CV] clf__depth=10, clf__n_estimators=50 .............................\n",
            "[CV] .............. clf__depth=10, clf__n_estimators=50, total=   0.4s\n",
            "[CV] clf__depth=10, clf__n_estimators=50 .............................\n",
            "[CV] .............. clf__depth=10, clf__n_estimators=50, total=   0.5s\n",
            "[CV] clf__depth=10, clf__n_estimators=50 .............................\n",
            "[CV] .............. clf__depth=10, clf__n_estimators=50, total=   0.4s\n",
            "[CV] clf__depth=10, clf__n_estimators=50 .............................\n",
            "[CV] .............. clf__depth=10, clf__n_estimators=50, total=   0.4s\n",
            "[CV] clf__depth=10, clf__n_estimators=50 .............................\n",
            "[CV] .............. clf__depth=10, clf__n_estimators=50, total=   0.4s\n",
            "[CV] clf__depth=10, clf__n_estimators=100 ............................\n",
            "[CV] ............. clf__depth=10, clf__n_estimators=100, total=   0.4s\n",
            "[CV] clf__depth=10, clf__n_estimators=100 ............................\n",
            "[CV] ............. clf__depth=10, clf__n_estimators=100, total=   0.4s\n",
            "[CV] clf__depth=10, clf__n_estimators=100 ............................\n",
            "[CV] ............. clf__depth=10, clf__n_estimators=100, total=   0.4s\n",
            "[CV] clf__depth=10, clf__n_estimators=100 ............................\n",
            "[CV] ............. clf__depth=10, clf__n_estimators=100, total=   0.4s\n",
            "[CV] clf__depth=10, clf__n_estimators=100 ............................\n",
            "[CV] ............. clf__depth=10, clf__n_estimators=100, total=   0.4s\n",
            "[CV] clf__depth=10, clf__n_estimators=150 ............................\n",
            "[CV] ............. clf__depth=10, clf__n_estimators=150, total=   0.4s\n",
            "[CV] clf__depth=10, clf__n_estimators=150 ............................\n",
            "[CV] ............. clf__depth=10, clf__n_estimators=150, total=   0.4s\n",
            "[CV] clf__depth=10, clf__n_estimators=150 ............................\n",
            "[CV] ............. clf__depth=10, clf__n_estimators=150, total=   0.4s\n",
            "[CV] clf__depth=10, clf__n_estimators=150 ............................\n",
            "[CV] ............. clf__depth=10, clf__n_estimators=150, total=   0.4s\n",
            "[CV] clf__depth=10, clf__n_estimators=150 ............................\n",
            "[CV] ............. clf__depth=10, clf__n_estimators=150, total=   0.4s\n",
            "[CV] clf__depth=10, clf__n_estimators=200 ............................\n",
            "[CV] ............. clf__depth=10, clf__n_estimators=200, total=   0.4s\n",
            "[CV] clf__depth=10, clf__n_estimators=200 ............................\n",
            "[CV] ............. clf__depth=10, clf__n_estimators=200, total=   0.4s\n",
            "[CV] clf__depth=10, clf__n_estimators=200 ............................\n",
            "[CV] ............. clf__depth=10, clf__n_estimators=200, total=   0.4s\n",
            "[CV] clf__depth=10, clf__n_estimators=200 ............................\n",
            "[CV] ............. clf__depth=10, clf__n_estimators=200, total=   0.4s\n",
            "[CV] clf__depth=10, clf__n_estimators=200 ............................\n",
            "[CV] ............. clf__depth=10, clf__n_estimators=200, total=   0.4s\n"
          ],
          "name": "stdout"
        },
        {
          "output_type": "stream",
          "text": [
            "[Parallel(n_jobs=1)]: Done  60 out of  60 | elapsed:   27.0s finished\n"
          ],
          "name": "stderr"
        },
        {
          "output_type": "stream",
          "text": [
            "Fitting 5 folds for each of 12 candidates, totalling 60 fits\n",
            "[CV] clf__depth=1, clf__n_estimators=50 ..............................\n"
          ],
          "name": "stdout"
        },
        {
          "output_type": "stream",
          "text": [
            "[Parallel(n_jobs=1)]: Using backend SequentialBackend with 1 concurrent workers.\n"
          ],
          "name": "stderr"
        },
        {
          "output_type": "stream",
          "text": [
            "[CV] ............... clf__depth=1, clf__n_estimators=50, total=   0.5s\n",
            "[CV] clf__depth=1, clf__n_estimators=50 ..............................\n"
          ],
          "name": "stdout"
        },
        {
          "output_type": "stream",
          "text": [
            "[Parallel(n_jobs=1)]: Done   1 out of   1 | elapsed:    0.5s remaining:    0.0s\n"
          ],
          "name": "stderr"
        },
        {
          "output_type": "stream",
          "text": [
            "[CV] ............... clf__depth=1, clf__n_estimators=50, total=   0.5s\n",
            "[CV] clf__depth=1, clf__n_estimators=50 ..............................\n",
            "[CV] ............... clf__depth=1, clf__n_estimators=50, total=   0.5s\n",
            "[CV] clf__depth=1, clf__n_estimators=50 ..............................\n",
            "[CV] ............... clf__depth=1, clf__n_estimators=50, total=   0.5s\n",
            "[CV] clf__depth=1, clf__n_estimators=50 ..............................\n",
            "[CV] ............... clf__depth=1, clf__n_estimators=50, total=   0.5s\n",
            "[CV] clf__depth=1, clf__n_estimators=100 .............................\n",
            "[CV] .............. clf__depth=1, clf__n_estimators=100, total=   0.5s\n",
            "[CV] clf__depth=1, clf__n_estimators=100 .............................\n",
            "[CV] .............. clf__depth=1, clf__n_estimators=100, total=   0.5s\n",
            "[CV] clf__depth=1, clf__n_estimators=100 .............................\n",
            "[CV] .............. clf__depth=1, clf__n_estimators=100, total=   0.5s\n",
            "[CV] clf__depth=1, clf__n_estimators=100 .............................\n",
            "[CV] .............. clf__depth=1, clf__n_estimators=100, total=   0.5s\n",
            "[CV] clf__depth=1, clf__n_estimators=100 .............................\n",
            "[CV] .............. clf__depth=1, clf__n_estimators=100, total=   0.5s\n",
            "[CV] clf__depth=1, clf__n_estimators=150 .............................\n",
            "[CV] .............. clf__depth=1, clf__n_estimators=150, total=   0.5s\n",
            "[CV] clf__depth=1, clf__n_estimators=150 .............................\n",
            "[CV] .............. clf__depth=1, clf__n_estimators=150, total=   0.5s\n",
            "[CV] clf__depth=1, clf__n_estimators=150 .............................\n",
            "[CV] .............. clf__depth=1, clf__n_estimators=150, total=   0.5s\n",
            "[CV] clf__depth=1, clf__n_estimators=150 .............................\n",
            "[CV] .............. clf__depth=1, clf__n_estimators=150, total=   0.5s\n",
            "[CV] clf__depth=1, clf__n_estimators=150 .............................\n",
            "[CV] .............. clf__depth=1, clf__n_estimators=150, total=   0.5s\n",
            "[CV] clf__depth=1, clf__n_estimators=200 .............................\n",
            "[CV] .............. clf__depth=1, clf__n_estimators=200, total=   0.5s\n",
            "[CV] clf__depth=1, clf__n_estimators=200 .............................\n",
            "[CV] .............. clf__depth=1, clf__n_estimators=200, total=   0.5s\n",
            "[CV] clf__depth=1, clf__n_estimators=200 .............................\n",
            "[CV] .............. clf__depth=1, clf__n_estimators=200, total=   0.5s\n",
            "[CV] clf__depth=1, clf__n_estimators=200 .............................\n",
            "[CV] .............. clf__depth=1, clf__n_estimators=200, total=   0.5s\n",
            "[CV] clf__depth=1, clf__n_estimators=200 .............................\n",
            "[CV] .............. clf__depth=1, clf__n_estimators=200, total=   0.5s\n",
            "[CV] clf__depth=5, clf__n_estimators=50 ..............................\n",
            "[CV] ............... clf__depth=5, clf__n_estimators=50, total=   0.5s\n",
            "[CV] clf__depth=5, clf__n_estimators=50 ..............................\n",
            "[CV] ............... clf__depth=5, clf__n_estimators=50, total=   0.5s\n",
            "[CV] clf__depth=5, clf__n_estimators=50 ..............................\n",
            "[CV] ............... clf__depth=5, clf__n_estimators=50, total=   0.5s\n",
            "[CV] clf__depth=5, clf__n_estimators=50 ..............................\n",
            "[CV] ............... clf__depth=5, clf__n_estimators=50, total=   0.5s\n",
            "[CV] clf__depth=5, clf__n_estimators=50 ..............................\n",
            "[CV] ............... clf__depth=5, clf__n_estimators=50, total=   0.5s\n",
            "[CV] clf__depth=5, clf__n_estimators=100 .............................\n",
            "[CV] .............. clf__depth=5, clf__n_estimators=100, total=   0.5s\n",
            "[CV] clf__depth=5, clf__n_estimators=100 .............................\n",
            "[CV] .............. clf__depth=5, clf__n_estimators=100, total=   0.5s\n",
            "[CV] clf__depth=5, clf__n_estimators=100 .............................\n",
            "[CV] .............. clf__depth=5, clf__n_estimators=100, total=   0.5s\n",
            "[CV] clf__depth=5, clf__n_estimators=100 .............................\n",
            "[CV] .............. clf__depth=5, clf__n_estimators=100, total=   0.5s\n",
            "[CV] clf__depth=5, clf__n_estimators=100 .............................\n",
            "[CV] .............. clf__depth=5, clf__n_estimators=100, total=   0.5s\n",
            "[CV] clf__depth=5, clf__n_estimators=150 .............................\n",
            "[CV] .............. clf__depth=5, clf__n_estimators=150, total=   0.5s\n",
            "[CV] clf__depth=5, clf__n_estimators=150 .............................\n",
            "[CV] .............. clf__depth=5, clf__n_estimators=150, total=   0.5s\n",
            "[CV] clf__depth=5, clf__n_estimators=150 .............................\n",
            "[CV] .............. clf__depth=5, clf__n_estimators=150, total=   0.5s\n",
            "[CV] clf__depth=5, clf__n_estimators=150 .............................\n",
            "[CV] .............. clf__depth=5, clf__n_estimators=150, total=   0.5s\n",
            "[CV] clf__depth=5, clf__n_estimators=150 .............................\n",
            "[CV] .............. clf__depth=5, clf__n_estimators=150, total=   0.5s\n",
            "[CV] clf__depth=5, clf__n_estimators=200 .............................\n",
            "[CV] .............. clf__depth=5, clf__n_estimators=200, total=   0.5s\n",
            "[CV] clf__depth=5, clf__n_estimators=200 .............................\n",
            "[CV] .............. clf__depth=5, clf__n_estimators=200, total=   0.5s\n",
            "[CV] clf__depth=5, clf__n_estimators=200 .............................\n",
            "[CV] .............. clf__depth=5, clf__n_estimators=200, total=   0.5s\n",
            "[CV] clf__depth=5, clf__n_estimators=200 .............................\n",
            "[CV] .............. clf__depth=5, clf__n_estimators=200, total=   0.5s\n",
            "[CV] clf__depth=5, clf__n_estimators=200 .............................\n",
            "[CV] .............. clf__depth=5, clf__n_estimators=200, total=   0.5s\n",
            "[CV] clf__depth=10, clf__n_estimators=50 .............................\n",
            "[CV] .............. clf__depth=10, clf__n_estimators=50, total=   0.5s\n",
            "[CV] clf__depth=10, clf__n_estimators=50 .............................\n",
            "[CV] .............. clf__depth=10, clf__n_estimators=50, total=   0.5s\n",
            "[CV] clf__depth=10, clf__n_estimators=50 .............................\n",
            "[CV] .............. clf__depth=10, clf__n_estimators=50, total=   0.5s\n",
            "[CV] clf__depth=10, clf__n_estimators=50 .............................\n",
            "[CV] .............. clf__depth=10, clf__n_estimators=50, total=   0.5s\n",
            "[CV] clf__depth=10, clf__n_estimators=50 .............................\n",
            "[CV] .............. clf__depth=10, clf__n_estimators=50, total=   0.5s\n",
            "[CV] clf__depth=10, clf__n_estimators=100 ............................\n",
            "[CV] ............. clf__depth=10, clf__n_estimators=100, total=   0.5s\n",
            "[CV] clf__depth=10, clf__n_estimators=100 ............................\n",
            "[CV] ............. clf__depth=10, clf__n_estimators=100, total=   0.5s\n",
            "[CV] clf__depth=10, clf__n_estimators=100 ............................\n",
            "[CV] ............. clf__depth=10, clf__n_estimators=100, total=   0.5s\n",
            "[CV] clf__depth=10, clf__n_estimators=100 ............................\n",
            "[CV] ............. clf__depth=10, clf__n_estimators=100, total=   0.5s\n",
            "[CV] clf__depth=10, clf__n_estimators=100 ............................\n",
            "[CV] ............. clf__depth=10, clf__n_estimators=100, total=   0.5s\n",
            "[CV] clf__depth=10, clf__n_estimators=150 ............................\n",
            "[CV] ............. clf__depth=10, clf__n_estimators=150, total=   0.5s\n",
            "[CV] clf__depth=10, clf__n_estimators=150 ............................\n",
            "[CV] ............. clf__depth=10, clf__n_estimators=150, total=   0.5s\n",
            "[CV] clf__depth=10, clf__n_estimators=150 ............................\n",
            "[CV] ............. clf__depth=10, clf__n_estimators=150, total=   0.5s\n",
            "[CV] clf__depth=10, clf__n_estimators=150 ............................\n",
            "[CV] ............. clf__depth=10, clf__n_estimators=150, total=   0.5s\n",
            "[CV] clf__depth=10, clf__n_estimators=150 ............................\n",
            "[CV] ............. clf__depth=10, clf__n_estimators=150, total=   0.5s\n",
            "[CV] clf__depth=10, clf__n_estimators=200 ............................\n",
            "[CV] ............. clf__depth=10, clf__n_estimators=200, total=   0.5s\n",
            "[CV] clf__depth=10, clf__n_estimators=200 ............................\n",
            "[CV] ............. clf__depth=10, clf__n_estimators=200, total=   0.5s\n",
            "[CV] clf__depth=10, clf__n_estimators=200 ............................\n",
            "[CV] ............. clf__depth=10, clf__n_estimators=200, total=   0.5s\n",
            "[CV] clf__depth=10, clf__n_estimators=200 ............................\n",
            "[CV] ............. clf__depth=10, clf__n_estimators=200, total=   0.5s\n",
            "[CV] clf__depth=10, clf__n_estimators=200 ............................\n",
            "[CV] ............. clf__depth=10, clf__n_estimators=200, total=   0.5s\n"
          ],
          "name": "stdout"
        },
        {
          "output_type": "stream",
          "text": [
            "[Parallel(n_jobs=1)]: Done  60 out of  60 | elapsed:   30.9s finished\n"
          ],
          "name": "stderr"
        },
        {
          "output_type": "stream",
          "text": [
            "Fitting 5 folds for each of 12 candidates, totalling 60 fits\n",
            "[CV] clf__depth=1, clf__n_estimators=50 ..............................\n"
          ],
          "name": "stdout"
        },
        {
          "output_type": "stream",
          "text": [
            "[Parallel(n_jobs=1)]: Using backend SequentialBackend with 1 concurrent workers.\n"
          ],
          "name": "stderr"
        },
        {
          "output_type": "stream",
          "text": [
            "[CV] ............... clf__depth=1, clf__n_estimators=50, total=   0.5s\n",
            "[CV] clf__depth=1, clf__n_estimators=50 ..............................\n"
          ],
          "name": "stdout"
        },
        {
          "output_type": "stream",
          "text": [
            "[Parallel(n_jobs=1)]: Done   1 out of   1 | elapsed:    0.5s remaining:    0.0s\n"
          ],
          "name": "stderr"
        },
        {
          "output_type": "stream",
          "text": [
            "[CV] ............... clf__depth=1, clf__n_estimators=50, total=   0.5s\n",
            "[CV] clf__depth=1, clf__n_estimators=50 ..............................\n",
            "[CV] ............... clf__depth=1, clf__n_estimators=50, total=   0.5s\n",
            "[CV] clf__depth=1, clf__n_estimators=50 ..............................\n",
            "[CV] ............... clf__depth=1, clf__n_estimators=50, total=   0.5s\n",
            "[CV] clf__depth=1, clf__n_estimators=50 ..............................\n",
            "[CV] ............... clf__depth=1, clf__n_estimators=50, total=   0.5s\n",
            "[CV] clf__depth=1, clf__n_estimators=100 .............................\n",
            "[CV] .............. clf__depth=1, clf__n_estimators=100, total=   0.5s\n",
            "[CV] clf__depth=1, clf__n_estimators=100 .............................\n",
            "[CV] .............. clf__depth=1, clf__n_estimators=100, total=   0.5s\n",
            "[CV] clf__depth=1, clf__n_estimators=100 .............................\n",
            "[CV] .............. clf__depth=1, clf__n_estimators=100, total=   0.5s\n",
            "[CV] clf__depth=1, clf__n_estimators=100 .............................\n",
            "[CV] .............. clf__depth=1, clf__n_estimators=100, total=   0.5s\n",
            "[CV] clf__depth=1, clf__n_estimators=100 .............................\n",
            "[CV] .............. clf__depth=1, clf__n_estimators=100, total=   0.5s\n",
            "[CV] clf__depth=1, clf__n_estimators=150 .............................\n",
            "[CV] .............. clf__depth=1, clf__n_estimators=150, total=   0.5s\n",
            "[CV] clf__depth=1, clf__n_estimators=150 .............................\n",
            "[CV] .............. clf__depth=1, clf__n_estimators=150, total=   0.5s\n",
            "[CV] clf__depth=1, clf__n_estimators=150 .............................\n",
            "[CV] .............. clf__depth=1, clf__n_estimators=150, total=   0.5s\n",
            "[CV] clf__depth=1, clf__n_estimators=150 .............................\n",
            "[CV] .............. clf__depth=1, clf__n_estimators=150, total=   0.5s\n",
            "[CV] clf__depth=1, clf__n_estimators=150 .............................\n",
            "[CV] .............. clf__depth=1, clf__n_estimators=150, total=   0.5s\n",
            "[CV] clf__depth=1, clf__n_estimators=200 .............................\n",
            "[CV] .............. clf__depth=1, clf__n_estimators=200, total=   0.5s\n",
            "[CV] clf__depth=1, clf__n_estimators=200 .............................\n",
            "[CV] .............. clf__depth=1, clf__n_estimators=200, total=   0.5s\n",
            "[CV] clf__depth=1, clf__n_estimators=200 .............................\n",
            "[CV] .............. clf__depth=1, clf__n_estimators=200, total=   0.5s\n",
            "[CV] clf__depth=1, clf__n_estimators=200 .............................\n",
            "[CV] .............. clf__depth=1, clf__n_estimators=200, total=   0.5s\n",
            "[CV] clf__depth=1, clf__n_estimators=200 .............................\n",
            "[CV] .............. clf__depth=1, clf__n_estimators=200, total=   0.5s\n",
            "[CV] clf__depth=5, clf__n_estimators=50 ..............................\n",
            "[CV] ............... clf__depth=5, clf__n_estimators=50, total=   0.5s\n",
            "[CV] clf__depth=5, clf__n_estimators=50 ..............................\n",
            "[CV] ............... clf__depth=5, clf__n_estimators=50, total=   0.5s\n",
            "[CV] clf__depth=5, clf__n_estimators=50 ..............................\n",
            "[CV] ............... clf__depth=5, clf__n_estimators=50, total=   0.5s\n",
            "[CV] clf__depth=5, clf__n_estimators=50 ..............................\n",
            "[CV] ............... clf__depth=5, clf__n_estimators=50, total=   0.5s\n",
            "[CV] clf__depth=5, clf__n_estimators=50 ..............................\n",
            "[CV] ............... clf__depth=5, clf__n_estimators=50, total=   0.5s\n",
            "[CV] clf__depth=5, clf__n_estimators=100 .............................\n",
            "[CV] .............. clf__depth=5, clf__n_estimators=100, total=   0.5s\n",
            "[CV] clf__depth=5, clf__n_estimators=100 .............................\n",
            "[CV] .............. clf__depth=5, clf__n_estimators=100, total=   0.5s\n",
            "[CV] clf__depth=5, clf__n_estimators=100 .............................\n",
            "[CV] .............. clf__depth=5, clf__n_estimators=100, total=   0.5s\n",
            "[CV] clf__depth=5, clf__n_estimators=100 .............................\n",
            "[CV] .............. clf__depth=5, clf__n_estimators=100, total=   0.5s\n",
            "[CV] clf__depth=5, clf__n_estimators=100 .............................\n",
            "[CV] .............. clf__depth=5, clf__n_estimators=100, total=   0.5s\n",
            "[CV] clf__depth=5, clf__n_estimators=150 .............................\n",
            "[CV] .............. clf__depth=5, clf__n_estimators=150, total=   0.5s\n",
            "[CV] clf__depth=5, clf__n_estimators=150 .............................\n",
            "[CV] .............. clf__depth=5, clf__n_estimators=150, total=   0.5s\n",
            "[CV] clf__depth=5, clf__n_estimators=150 .............................\n",
            "[CV] .............. clf__depth=5, clf__n_estimators=150, total=   0.5s\n",
            "[CV] clf__depth=5, clf__n_estimators=150 .............................\n",
            "[CV] .............. clf__depth=5, clf__n_estimators=150, total=   0.5s\n",
            "[CV] clf__depth=5, clf__n_estimators=150 .............................\n",
            "[CV] .............. clf__depth=5, clf__n_estimators=150, total=   0.5s\n",
            "[CV] clf__depth=5, clf__n_estimators=200 .............................\n",
            "[CV] .............. clf__depth=5, clf__n_estimators=200, total=   0.5s\n",
            "[CV] clf__depth=5, clf__n_estimators=200 .............................\n",
            "[CV] .............. clf__depth=5, clf__n_estimators=200, total=   0.5s\n",
            "[CV] clf__depth=5, clf__n_estimators=200 .............................\n",
            "[CV] .............. clf__depth=5, clf__n_estimators=200, total=   0.5s\n",
            "[CV] clf__depth=5, clf__n_estimators=200 .............................\n",
            "[CV] .............. clf__depth=5, clf__n_estimators=200, total=   0.5s\n",
            "[CV] clf__depth=5, clf__n_estimators=200 .............................\n",
            "[CV] .............. clf__depth=5, clf__n_estimators=200, total=   0.5s\n",
            "[CV] clf__depth=10, clf__n_estimators=50 .............................\n",
            "[CV] .............. clf__depth=10, clf__n_estimators=50, total=   0.5s\n",
            "[CV] clf__depth=10, clf__n_estimators=50 .............................\n",
            "[CV] .............. clf__depth=10, clf__n_estimators=50, total=   0.5s\n",
            "[CV] clf__depth=10, clf__n_estimators=50 .............................\n",
            "[CV] .............. clf__depth=10, clf__n_estimators=50, total=   0.5s\n",
            "[CV] clf__depth=10, clf__n_estimators=50 .............................\n",
            "[CV] .............. clf__depth=10, clf__n_estimators=50, total=   0.5s\n",
            "[CV] clf__depth=10, clf__n_estimators=50 .............................\n",
            "[CV] .............. clf__depth=10, clf__n_estimators=50, total=   0.5s\n",
            "[CV] clf__depth=10, clf__n_estimators=100 ............................\n",
            "[CV] ............. clf__depth=10, clf__n_estimators=100, total=   0.5s\n",
            "[CV] clf__depth=10, clf__n_estimators=100 ............................\n",
            "[CV] ............. clf__depth=10, clf__n_estimators=100, total=   0.5s\n",
            "[CV] clf__depth=10, clf__n_estimators=100 ............................\n",
            "[CV] ............. clf__depth=10, clf__n_estimators=100, total=   0.5s\n",
            "[CV] clf__depth=10, clf__n_estimators=100 ............................\n",
            "[CV] ............. clf__depth=10, clf__n_estimators=100, total=   0.5s\n",
            "[CV] clf__depth=10, clf__n_estimators=100 ............................\n",
            "[CV] ............. clf__depth=10, clf__n_estimators=100, total=   0.5s\n",
            "[CV] clf__depth=10, clf__n_estimators=150 ............................\n",
            "[CV] ............. clf__depth=10, clf__n_estimators=150, total=   0.5s\n",
            "[CV] clf__depth=10, clf__n_estimators=150 ............................\n",
            "[CV] ............. clf__depth=10, clf__n_estimators=150, total=   0.5s\n",
            "[CV] clf__depth=10, clf__n_estimators=150 ............................\n",
            "[CV] ............. clf__depth=10, clf__n_estimators=150, total=   0.5s\n",
            "[CV] clf__depth=10, clf__n_estimators=150 ............................\n",
            "[CV] ............. clf__depth=10, clf__n_estimators=150, total=   0.5s\n",
            "[CV] clf__depth=10, clf__n_estimators=150 ............................\n",
            "[CV] ............. clf__depth=10, clf__n_estimators=150, total=   0.5s\n",
            "[CV] clf__depth=10, clf__n_estimators=200 ............................\n",
            "[CV] ............. clf__depth=10, clf__n_estimators=200, total=   0.5s\n",
            "[CV] clf__depth=10, clf__n_estimators=200 ............................\n",
            "[CV] ............. clf__depth=10, clf__n_estimators=200, total=   0.5s\n",
            "[CV] clf__depth=10, clf__n_estimators=200 ............................\n",
            "[CV] ............. clf__depth=10, clf__n_estimators=200, total=   0.5s\n",
            "[CV] clf__depth=10, clf__n_estimators=200 ............................\n",
            "[CV] ............. clf__depth=10, clf__n_estimators=200, total=   0.5s\n",
            "[CV] clf__depth=10, clf__n_estimators=200 ............................\n",
            "[CV] ............. clf__depth=10, clf__n_estimators=200, total=   0.5s\n"
          ],
          "name": "stdout"
        },
        {
          "output_type": "stream",
          "text": [
            "[Parallel(n_jobs=1)]: Done  60 out of  60 | elapsed:   30.0s finished\n"
          ],
          "name": "stderr"
        },
        {
          "output_type": "stream",
          "text": [
            "Fitting 5 folds for each of 12 candidates, totalling 60 fits\n",
            "[CV] clf__depth=1, clf__n_estimators=50 ..............................\n"
          ],
          "name": "stdout"
        },
        {
          "output_type": "stream",
          "text": [
            "[Parallel(n_jobs=1)]: Using backend SequentialBackend with 1 concurrent workers.\n"
          ],
          "name": "stderr"
        },
        {
          "output_type": "stream",
          "text": [
            "[CV] ............... clf__depth=1, clf__n_estimators=50, total=   0.5s\n",
            "[CV] clf__depth=1, clf__n_estimators=50 ..............................\n"
          ],
          "name": "stdout"
        },
        {
          "output_type": "stream",
          "text": [
            "[Parallel(n_jobs=1)]: Done   1 out of   1 | elapsed:    0.5s remaining:    0.0s\n"
          ],
          "name": "stderr"
        },
        {
          "output_type": "stream",
          "text": [
            "[CV] ............... clf__depth=1, clf__n_estimators=50, total=   0.4s\n",
            "[CV] clf__depth=1, clf__n_estimators=50 ..............................\n",
            "[CV] ............... clf__depth=1, clf__n_estimators=50, total=   0.4s\n",
            "[CV] clf__depth=1, clf__n_estimators=50 ..............................\n",
            "[CV] ............... clf__depth=1, clf__n_estimators=50, total=   0.5s\n",
            "[CV] clf__depth=1, clf__n_estimators=50 ..............................\n",
            "[CV] ............... clf__depth=1, clf__n_estimators=50, total=   0.5s\n",
            "[CV] clf__depth=1, clf__n_estimators=100 .............................\n",
            "[CV] .............. clf__depth=1, clf__n_estimators=100, total=   0.4s\n",
            "[CV] clf__depth=1, clf__n_estimators=100 .............................\n",
            "[CV] .............. clf__depth=1, clf__n_estimators=100, total=   0.5s\n",
            "[CV] clf__depth=1, clf__n_estimators=100 .............................\n",
            "[CV] .............. clf__depth=1, clf__n_estimators=100, total=   0.4s\n",
            "[CV] clf__depth=1, clf__n_estimators=100 .............................\n",
            "[CV] .............. clf__depth=1, clf__n_estimators=100, total=   0.5s\n",
            "[CV] clf__depth=1, clf__n_estimators=100 .............................\n",
            "[CV] .............. clf__depth=1, clf__n_estimators=100, total=   0.5s\n",
            "[CV] clf__depth=1, clf__n_estimators=150 .............................\n",
            "[CV] .............. clf__depth=1, clf__n_estimators=150, total=   0.4s\n",
            "[CV] clf__depth=1, clf__n_estimators=150 .............................\n",
            "[CV] .............. clf__depth=1, clf__n_estimators=150, total=   0.5s\n",
            "[CV] clf__depth=1, clf__n_estimators=150 .............................\n",
            "[CV] .............. clf__depth=1, clf__n_estimators=150, total=   0.4s\n",
            "[CV] clf__depth=1, clf__n_estimators=150 .............................\n",
            "[CV] .............. clf__depth=1, clf__n_estimators=150, total=   0.5s\n",
            "[CV] clf__depth=1, clf__n_estimators=150 .............................\n",
            "[CV] .............. clf__depth=1, clf__n_estimators=150, total=   0.5s\n",
            "[CV] clf__depth=1, clf__n_estimators=200 .............................\n",
            "[CV] .............. clf__depth=1, clf__n_estimators=200, total=   0.5s\n",
            "[CV] clf__depth=1, clf__n_estimators=200 .............................\n",
            "[CV] .............. clf__depth=1, clf__n_estimators=200, total=   0.4s\n",
            "[CV] clf__depth=1, clf__n_estimators=200 .............................\n",
            "[CV] .............. clf__depth=1, clf__n_estimators=200, total=   0.4s\n",
            "[CV] clf__depth=1, clf__n_estimators=200 .............................\n",
            "[CV] .............. clf__depth=1, clf__n_estimators=200, total=   0.5s\n",
            "[CV] clf__depth=1, clf__n_estimators=200 .............................\n",
            "[CV] .............. clf__depth=1, clf__n_estimators=200, total=   0.5s\n",
            "[CV] clf__depth=5, clf__n_estimators=50 ..............................\n",
            "[CV] ............... clf__depth=5, clf__n_estimators=50, total=   0.5s\n",
            "[CV] clf__depth=5, clf__n_estimators=50 ..............................\n",
            "[CV] ............... clf__depth=5, clf__n_estimators=50, total=   0.4s\n",
            "[CV] clf__depth=5, clf__n_estimators=50 ..............................\n",
            "[CV] ............... clf__depth=5, clf__n_estimators=50, total=   0.5s\n",
            "[CV] clf__depth=5, clf__n_estimators=50 ..............................\n",
            "[CV] ............... clf__depth=5, clf__n_estimators=50, total=   0.5s\n",
            "[CV] clf__depth=5, clf__n_estimators=50 ..............................\n",
            "[CV] ............... clf__depth=5, clf__n_estimators=50, total=   0.5s\n",
            "[CV] clf__depth=5, clf__n_estimators=100 .............................\n",
            "[CV] .............. clf__depth=5, clf__n_estimators=100, total=   0.5s\n",
            "[CV] clf__depth=5, clf__n_estimators=100 .............................\n",
            "[CV] .............. clf__depth=5, clf__n_estimators=100, total=   0.5s\n",
            "[CV] clf__depth=5, clf__n_estimators=100 .............................\n",
            "[CV] .............. clf__depth=5, clf__n_estimators=100, total=   0.4s\n",
            "[CV] clf__depth=5, clf__n_estimators=100 .............................\n",
            "[CV] .............. clf__depth=5, clf__n_estimators=100, total=   0.5s\n",
            "[CV] clf__depth=5, clf__n_estimators=100 .............................\n",
            "[CV] .............. clf__depth=5, clf__n_estimators=100, total=   0.5s\n",
            "[CV] clf__depth=5, clf__n_estimators=150 .............................\n",
            "[CV] .............. clf__depth=5, clf__n_estimators=150, total=   0.5s\n",
            "[CV] clf__depth=5, clf__n_estimators=150 .............................\n",
            "[CV] .............. clf__depth=5, clf__n_estimators=150, total=   0.5s\n",
            "[CV] clf__depth=5, clf__n_estimators=150 .............................\n",
            "[CV] .............. clf__depth=5, clf__n_estimators=150, total=   0.4s\n",
            "[CV] clf__depth=5, clf__n_estimators=150 .............................\n",
            "[CV] .............. clf__depth=5, clf__n_estimators=150, total=   0.5s\n",
            "[CV] clf__depth=5, clf__n_estimators=150 .............................\n",
            "[CV] .............. clf__depth=5, clf__n_estimators=150, total=   0.5s\n",
            "[CV] clf__depth=5, clf__n_estimators=200 .............................\n",
            "[CV] .............. clf__depth=5, clf__n_estimators=200, total=   0.5s\n",
            "[CV] clf__depth=5, clf__n_estimators=200 .............................\n",
            "[CV] .............. clf__depth=5, clf__n_estimators=200, total=   0.5s\n",
            "[CV] clf__depth=5, clf__n_estimators=200 .............................\n",
            "[CV] .............. clf__depth=5, clf__n_estimators=200, total=   0.4s\n",
            "[CV] clf__depth=5, clf__n_estimators=200 .............................\n",
            "[CV] .............. clf__depth=5, clf__n_estimators=200, total=   0.5s\n",
            "[CV] clf__depth=5, clf__n_estimators=200 .............................\n",
            "[CV] .............. clf__depth=5, clf__n_estimators=200, total=   0.5s\n",
            "[CV] clf__depth=10, clf__n_estimators=50 .............................\n",
            "[CV] .............. clf__depth=10, clf__n_estimators=50, total=   0.5s\n",
            "[CV] clf__depth=10, clf__n_estimators=50 .............................\n",
            "[CV] .............. clf__depth=10, clf__n_estimators=50, total=   0.5s\n",
            "[CV] clf__depth=10, clf__n_estimators=50 .............................\n",
            "[CV] .............. clf__depth=10, clf__n_estimators=50, total=   0.4s\n",
            "[CV] clf__depth=10, clf__n_estimators=50 .............................\n",
            "[CV] .............. clf__depth=10, clf__n_estimators=50, total=   0.5s\n",
            "[CV] clf__depth=10, clf__n_estimators=50 .............................\n",
            "[CV] .............. clf__depth=10, clf__n_estimators=50, total=   0.5s\n",
            "[CV] clf__depth=10, clf__n_estimators=100 ............................\n",
            "[CV] ............. clf__depth=10, clf__n_estimators=100, total=   0.5s\n",
            "[CV] clf__depth=10, clf__n_estimators=100 ............................\n",
            "[CV] ............. clf__depth=10, clf__n_estimators=100, total=   0.5s\n",
            "[CV] clf__depth=10, clf__n_estimators=100 ............................\n",
            "[CV] ............. clf__depth=10, clf__n_estimators=100, total=   0.4s\n",
            "[CV] clf__depth=10, clf__n_estimators=100 ............................\n",
            "[CV] ............. clf__depth=10, clf__n_estimators=100, total=   0.5s\n",
            "[CV] clf__depth=10, clf__n_estimators=100 ............................\n",
            "[CV] ............. clf__depth=10, clf__n_estimators=100, total=   0.5s\n",
            "[CV] clf__depth=10, clf__n_estimators=150 ............................\n",
            "[CV] ............. clf__depth=10, clf__n_estimators=150, total=   0.5s\n",
            "[CV] clf__depth=10, clf__n_estimators=150 ............................\n",
            "[CV] ............. clf__depth=10, clf__n_estimators=150, total=   0.5s\n",
            "[CV] clf__depth=10, clf__n_estimators=150 ............................\n",
            "[CV] ............. clf__depth=10, clf__n_estimators=150, total=   0.4s\n",
            "[CV] clf__depth=10, clf__n_estimators=150 ............................\n",
            "[CV] ............. clf__depth=10, clf__n_estimators=150, total=   0.5s\n",
            "[CV] clf__depth=10, clf__n_estimators=150 ............................\n",
            "[CV] ............. clf__depth=10, clf__n_estimators=150, total=   0.5s\n",
            "[CV] clf__depth=10, clf__n_estimators=200 ............................\n",
            "[CV] ............. clf__depth=10, clf__n_estimators=200, total=   0.5s\n",
            "[CV] clf__depth=10, clf__n_estimators=200 ............................\n",
            "[CV] ............. clf__depth=10, clf__n_estimators=200, total=   0.5s\n",
            "[CV] clf__depth=10, clf__n_estimators=200 ............................\n",
            "[CV] ............. clf__depth=10, clf__n_estimators=200, total=   0.4s\n",
            "[CV] clf__depth=10, clf__n_estimators=200 ............................\n",
            "[CV] ............. clf__depth=10, clf__n_estimators=200, total=   0.5s\n",
            "[CV] clf__depth=10, clf__n_estimators=200 ............................\n",
            "[CV] ............. clf__depth=10, clf__n_estimators=200, total=   0.5s\n"
          ],
          "name": "stdout"
        },
        {
          "output_type": "stream",
          "text": [
            "[Parallel(n_jobs=1)]: Done  60 out of  60 | elapsed:   27.3s finished\n"
          ],
          "name": "stderr"
        },
        {
          "output_type": "stream",
          "text": [
            "Fitting 5 folds for each of 12 candidates, totalling 60 fits\n",
            "[CV] clf__depth=1, clf__n_estimators=50 ..............................\n"
          ],
          "name": "stdout"
        },
        {
          "output_type": "stream",
          "text": [
            "[Parallel(n_jobs=1)]: Using backend SequentialBackend with 1 concurrent workers.\n"
          ],
          "name": "stderr"
        },
        {
          "output_type": "stream",
          "text": [
            "[CV] ............... clf__depth=1, clf__n_estimators=50, total=   0.5s\n",
            "[CV] clf__depth=1, clf__n_estimators=50 ..............................\n"
          ],
          "name": "stdout"
        },
        {
          "output_type": "stream",
          "text": [
            "[Parallel(n_jobs=1)]: Done   1 out of   1 | elapsed:    0.5s remaining:    0.0s\n"
          ],
          "name": "stderr"
        },
        {
          "output_type": "stream",
          "text": [
            "[CV] ............... clf__depth=1, clf__n_estimators=50, total=   0.5s\n",
            "[CV] clf__depth=1, clf__n_estimators=50 ..............................\n",
            "[CV] ............... clf__depth=1, clf__n_estimators=50, total=   0.4s\n",
            "[CV] clf__depth=1, clf__n_estimators=50 ..............................\n",
            "[CV] ............... clf__depth=1, clf__n_estimators=50, total=   0.5s\n",
            "[CV] clf__depth=1, clf__n_estimators=50 ..............................\n",
            "[CV] ............... clf__depth=1, clf__n_estimators=50, total=   0.5s\n",
            "[CV] clf__depth=1, clf__n_estimators=100 .............................\n",
            "[CV] .............. clf__depth=1, clf__n_estimators=100, total=   0.5s\n",
            "[CV] clf__depth=1, clf__n_estimators=100 .............................\n",
            "[CV] .............. clf__depth=1, clf__n_estimators=100, total=   0.5s\n",
            "[CV] clf__depth=1, clf__n_estimators=100 .............................\n",
            "[CV] .............. clf__depth=1, clf__n_estimators=100, total=   0.4s\n",
            "[CV] clf__depth=1, clf__n_estimators=100 .............................\n",
            "[CV] .............. clf__depth=1, clf__n_estimators=100, total=   0.5s\n",
            "[CV] clf__depth=1, clf__n_estimators=100 .............................\n",
            "[CV] .............. clf__depth=1, clf__n_estimators=100, total=   0.5s\n",
            "[CV] clf__depth=1, clf__n_estimators=150 .............................\n",
            "[CV] .............. clf__depth=1, clf__n_estimators=150, total=   0.5s\n",
            "[CV] clf__depth=1, clf__n_estimators=150 .............................\n",
            "[CV] .............. clf__depth=1, clf__n_estimators=150, total=   0.5s\n",
            "[CV] clf__depth=1, clf__n_estimators=150 .............................\n",
            "[CV] .............. clf__depth=1, clf__n_estimators=150, total=   0.4s\n",
            "[CV] clf__depth=1, clf__n_estimators=150 .............................\n",
            "[CV] .............. clf__depth=1, clf__n_estimators=150, total=   0.5s\n",
            "[CV] clf__depth=1, clf__n_estimators=150 .............................\n",
            "[CV] .............. clf__depth=1, clf__n_estimators=150, total=   0.5s\n",
            "[CV] clf__depth=1, clf__n_estimators=200 .............................\n",
            "[CV] .............. clf__depth=1, clf__n_estimators=200, total=   0.5s\n",
            "[CV] clf__depth=1, clf__n_estimators=200 .............................\n",
            "[CV] .............. clf__depth=1, clf__n_estimators=200, total=   0.4s\n",
            "[CV] clf__depth=1, clf__n_estimators=200 .............................\n",
            "[CV] .............. clf__depth=1, clf__n_estimators=200, total=   0.4s\n",
            "[CV] clf__depth=1, clf__n_estimators=200 .............................\n",
            "[CV] .............. clf__depth=1, clf__n_estimators=200, total=   0.5s\n",
            "[CV] clf__depth=1, clf__n_estimators=200 .............................\n",
            "[CV] .............. clf__depth=1, clf__n_estimators=200, total=   0.5s\n",
            "[CV] clf__depth=5, clf__n_estimators=50 ..............................\n",
            "[CV] ............... clf__depth=5, clf__n_estimators=50, total=   0.5s\n",
            "[CV] clf__depth=5, clf__n_estimators=50 ..............................\n",
            "[CV] ............... clf__depth=5, clf__n_estimators=50, total=   0.5s\n",
            "[CV] clf__depth=5, clf__n_estimators=50 ..............................\n",
            "[CV] ............... clf__depth=5, clf__n_estimators=50, total=   0.4s\n",
            "[CV] clf__depth=5, clf__n_estimators=50 ..............................\n",
            "[CV] ............... clf__depth=5, clf__n_estimators=50, total=   0.5s\n",
            "[CV] clf__depth=5, clf__n_estimators=50 ..............................\n",
            "[CV] ............... clf__depth=5, clf__n_estimators=50, total=   0.5s\n",
            "[CV] clf__depth=5, clf__n_estimators=100 .............................\n",
            "[CV] .............. clf__depth=5, clf__n_estimators=100, total=   0.5s\n",
            "[CV] clf__depth=5, clf__n_estimators=100 .............................\n",
            "[CV] .............. clf__depth=5, clf__n_estimators=100, total=   0.5s\n",
            "[CV] clf__depth=5, clf__n_estimators=100 .............................\n",
            "[CV] .............. clf__depth=5, clf__n_estimators=100, total=   0.4s\n",
            "[CV] clf__depth=5, clf__n_estimators=100 .............................\n",
            "[CV] .............. clf__depth=5, clf__n_estimators=100, total=   0.5s\n",
            "[CV] clf__depth=5, clf__n_estimators=100 .............................\n",
            "[CV] .............. clf__depth=5, clf__n_estimators=100, total=   0.5s\n",
            "[CV] clf__depth=5, clf__n_estimators=150 .............................\n",
            "[CV] .............. clf__depth=5, clf__n_estimators=150, total=   0.5s\n",
            "[CV] clf__depth=5, clf__n_estimators=150 .............................\n",
            "[CV] .............. clf__depth=5, clf__n_estimators=150, total=   0.5s\n",
            "[CV] clf__depth=5, clf__n_estimators=150 .............................\n",
            "[CV] .............. clf__depth=5, clf__n_estimators=150, total=   0.4s\n",
            "[CV] clf__depth=5, clf__n_estimators=150 .............................\n",
            "[CV] .............. clf__depth=5, clf__n_estimators=150, total=   0.5s\n",
            "[CV] clf__depth=5, clf__n_estimators=150 .............................\n",
            "[CV] .............. clf__depth=5, clf__n_estimators=150, total=   0.5s\n",
            "[CV] clf__depth=5, clf__n_estimators=200 .............................\n",
            "[CV] .............. clf__depth=5, clf__n_estimators=200, total=   0.5s\n",
            "[CV] clf__depth=5, clf__n_estimators=200 .............................\n",
            "[CV] .............. clf__depth=5, clf__n_estimators=200, total=   0.5s\n",
            "[CV] clf__depth=5, clf__n_estimators=200 .............................\n",
            "[CV] .............. clf__depth=5, clf__n_estimators=200, total=   0.4s\n",
            "[CV] clf__depth=5, clf__n_estimators=200 .............................\n",
            "[CV] .............. clf__depth=5, clf__n_estimators=200, total=   0.5s\n",
            "[CV] clf__depth=5, clf__n_estimators=200 .............................\n",
            "[CV] .............. clf__depth=5, clf__n_estimators=200, total=   0.5s\n",
            "[CV] clf__depth=10, clf__n_estimators=50 .............................\n",
            "[CV] .............. clf__depth=10, clf__n_estimators=50, total=   0.5s\n",
            "[CV] clf__depth=10, clf__n_estimators=50 .............................\n",
            "[CV] .............. clf__depth=10, clf__n_estimators=50, total=   0.5s\n",
            "[CV] clf__depth=10, clf__n_estimators=50 .............................\n",
            "[CV] .............. clf__depth=10, clf__n_estimators=50, total=   0.4s\n",
            "[CV] clf__depth=10, clf__n_estimators=50 .............................\n",
            "[CV] .............. clf__depth=10, clf__n_estimators=50, total=   0.5s\n",
            "[CV] clf__depth=10, clf__n_estimators=50 .............................\n",
            "[CV] .............. clf__depth=10, clf__n_estimators=50, total=   0.5s\n",
            "[CV] clf__depth=10, clf__n_estimators=100 ............................\n",
            "[CV] ............. clf__depth=10, clf__n_estimators=100, total=   0.5s\n",
            "[CV] clf__depth=10, clf__n_estimators=100 ............................\n",
            "[CV] ............. clf__depth=10, clf__n_estimators=100, total=   0.4s\n",
            "[CV] clf__depth=10, clf__n_estimators=100 ............................\n",
            "[CV] ............. clf__depth=10, clf__n_estimators=100, total=   0.4s\n",
            "[CV] clf__depth=10, clf__n_estimators=100 ............................\n",
            "[CV] ............. clf__depth=10, clf__n_estimators=100, total=   0.5s\n",
            "[CV] clf__depth=10, clf__n_estimators=100 ............................\n",
            "[CV] ............. clf__depth=10, clf__n_estimators=100, total=   0.5s\n",
            "[CV] clf__depth=10, clf__n_estimators=150 ............................\n",
            "[CV] ............. clf__depth=10, clf__n_estimators=150, total=   0.5s\n",
            "[CV] clf__depth=10, clf__n_estimators=150 ............................\n",
            "[CV] ............. clf__depth=10, clf__n_estimators=150, total=   0.5s\n",
            "[CV] clf__depth=10, clf__n_estimators=150 ............................\n",
            "[CV] ............. clf__depth=10, clf__n_estimators=150, total=   0.4s\n",
            "[CV] clf__depth=10, clf__n_estimators=150 ............................\n",
            "[CV] ............. clf__depth=10, clf__n_estimators=150, total=   0.5s\n",
            "[CV] clf__depth=10, clf__n_estimators=150 ............................\n",
            "[CV] ............. clf__depth=10, clf__n_estimators=150, total=   0.5s\n",
            "[CV] clf__depth=10, clf__n_estimators=200 ............................\n",
            "[CV] ............. clf__depth=10, clf__n_estimators=200, total=   0.5s\n",
            "[CV] clf__depth=10, clf__n_estimators=200 ............................\n",
            "[CV] ............. clf__depth=10, clf__n_estimators=200, total=   0.5s\n",
            "[CV] clf__depth=10, clf__n_estimators=200 ............................\n",
            "[CV] ............. clf__depth=10, clf__n_estimators=200, total=   0.4s\n",
            "[CV] clf__depth=10, clf__n_estimators=200 ............................\n",
            "[CV] ............. clf__depth=10, clf__n_estimators=200, total=   0.6s\n",
            "[CV] clf__depth=10, clf__n_estimators=200 ............................\n",
            "[CV] ............. clf__depth=10, clf__n_estimators=200, total=   0.5s\n"
          ],
          "name": "stdout"
        },
        {
          "output_type": "stream",
          "text": [
            "[Parallel(n_jobs=1)]: Done  60 out of  60 | elapsed:   28.0s finished\n"
          ],
          "name": "stderr"
        },
        {
          "output_type": "stream",
          "text": [
            "Mean accuracy score: 0.5769\n"
          ],
          "name": "stdout"
        }
      ]
    },
    {
      "cell_type": "code",
      "metadata": {
        "id": "nu17W8ert3ot",
        "colab_type": "code",
        "colab": {
          "base_uri": "https://localhost:8080/",
          "height": 34
        },
        "outputId": "ee509232-402b-4bad-85db-23b0de29bb72"
      },
      "source": [
        "print(\"Train accuracy: {:.4f}, train f-measure: {:.4f}\".format(\n",
        "    accuracy_score(clf.predict(doc_train), y_train),\n",
        "    f_scorer(clf, doc_train, y_train)\n",
        "))"
      ],
      "execution_count": 529,
      "outputs": [
        {
          "output_type": "stream",
          "text": [
            "Train accuracy: 1.0000, train f-measure: 1.0000\n"
          ],
          "name": "stdout"
        }
      ]
    },
    {
      "cell_type": "code",
      "metadata": {
        "id": "lPFsACjcqmVd",
        "colab_type": "code",
        "colab": {
          "base_uri": "https://localhost:8080/",
          "height": 34
        },
        "outputId": "1837715b-ab39-48f2-c68e-b05d803a8459"
      },
      "source": [
        "print('Test accuracy: {:.4f}, test f-measure: {:.4f}'.format(accuracy_score(clf.predict(doc_test), y_test),\n",
        "    f_scorer(clf, doc_test, y_test)))\n",
        "\n",
        "# print(classification_report(y_test, y_pred))"
      ],
      "execution_count": 530,
      "outputs": [
        {
          "output_type": "stream",
          "text": [
            "Test accuracy: 0.6176, test f-measure: 0.3699\n"
          ],
          "name": "stdout"
        }
      ]
    },
    {
      "cell_type": "markdown",
      "metadata": {
        "id": "BSaXtaSpzPKT",
        "colab_type": "text"
      },
      "source": [
        "So I tried to use 3 classifications: LogisitcRegression, RandomForest and XGBoost. But only LogisticRegression with CountVectorizer feature engineering got me the best performance in acccuracy and in f-score compare to other."
      ]
    },
    {
      "cell_type": "markdown",
      "metadata": {
        "id": "PI3nsBF61w5z",
        "colab_type": "text"
      },
      "source": [
        "Let's save predict that we got from LinearRegression in submission.csv"
      ]
    },
    {
      "cell_type": "code",
      "metadata": {
        "id": "3CRis9pI2r1J",
        "colab_type": "code",
        "colab": {
          "base_uri": "https://localhost:8080/",
          "height": 119
        },
        "outputId": "f86c2f47-64c5-41e0-883d-689057bc6b01"
      },
      "source": [
        "test_data['label'] = predict\n",
        "print(test_data.head(5))\n",
        "test_data = pd.DataFrame(test_data)\n",
        "test_data.to_csv('submission.csv', index=False)"
      ],
      "execution_count": 531,
      "outputs": [
        {
          "output_type": "stream",
          "text": [
            "                                                 url  doc_id  label\n",
            "0  http://chirurgie-goettingen.de/medizinische-ve...       0      2\n",
            "1  http://evkb.de/kliniken-zentren/chirurgie/allg...       2      1\n",
            "2  http://krebszentrum.kreiskliniken-reutlingen.d...       7      2\n",
            "3  http://marienhospital-buer.de/mhb-av-chirurgie...      15      2\n",
            "4  http://marienhospital-buer.de/mhb-av-chirurgie...      16      2\n"
          ],
          "name": "stdout"
        }
      ]
    },
    {
      "cell_type": "markdown",
      "metadata": {
        "id": "lMe8iMSd9cYZ",
        "colab_type": "text"
      },
      "source": [
        "**Conclusion:**\n",
        "1)I decided to handle this amount of data by going through all html files and getting the clean text from them and then normalizing each text in order to submit only the necessary information to the training model and clean up the mess. It was text preprocessing \n",
        "2)Basically I used only feature vectors for feature engineering.  I used CountVectorizer and  TF-IDF. But TF_IDF  gave me not good accuracy\n",
        "3)I compared accuracies and f-scores of each models that I used: Logistic regression, Random Forest and XGBoost. And I understand that Logistic regression got me the best accuracy\n",
        "4)I performed validation with the help of KFold validation, because it is really popular and woks good\n",
        "5)I used basically f1-score metric and accuracy-score\n",
        "6) I estimated accuracies of all my models. And the best accuracy (when I use Logistic Regression) is equal to 67.75% So I can assume that for test data My model can give 67.75% right classifications. \n",
        "7)My algorithm works fast enough, but if we build a grid search and look for the best parameters, it will not work so fast. We can try to optimize the code on python to make it work faster and also run the GPU computing, which can significantly help to speed up the calculation. \n",
        "8)I think I would be able to improve my algorithm if I have more data\n",
        "9)My algorithm is obviously not producing excellent results. If I had more time, I could try to solve this problem with deep learning. Maybe it would give better accuracy\n"
      ]
    }
  ]
}